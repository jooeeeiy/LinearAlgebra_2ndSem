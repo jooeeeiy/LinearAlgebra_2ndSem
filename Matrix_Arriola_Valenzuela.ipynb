{
  "nbformat": 4,
  "nbformat_minor": 0,
  "metadata": {
    "colab": {
      "name": "Matrix_Arriola_Valenzuela.ipynb",
      "provenance": [],
      "collapsed_sections": [],
      "include_colab_link": true
    },
    "kernelspec": {
      "name": "python3",
      "display_name": "Python 3"
    },
    "language_info": {
      "name": "python"
    }
  },
  "cells": [
    {
      "cell_type": "markdown",
      "metadata": {
        "id": "view-in-github",
        "colab_type": "text"
      },
      "source": [
        "<a href=\"https://colab.research.google.com/github/jooeeeiy/LinearAlgebra_2ndSem/blob/main/Matrix_Arriola_Valenzuela.ipynb\" target=\"_parent\"><img src=\"https://colab.research.google.com/assets/colab-badge.svg\" alt=\"Open In Colab\"/></a>"
      ]
    },
    {
      "cell_type": "markdown",
      "source": [
        "#Activity"
      ],
      "metadata": {
        "id": "Ir5boEBwhEBr"
      }
    },
    {
      "cell_type": "code",
      "source": [
        ""
      ],
      "metadata": {
        "id": "X79ZuIcO1hfH"
      },
      "execution_count": null,
      "outputs": []
    },
    {
      "cell_type": "markdown",
      "source": [
        "##Task 1\n",
        "Create a function named mat_desc() that througouhly describes a matrix, it should:\n",
        "\n",
        "\n",
        "1. Displays the shape, size, and rank of the matrix.\n",
        "2. Displays whether the matrix is square or non-square.\n",
        "3. Displays whether the matrix is an empty matrix.\n",
        "4. Displays if the matrix is an identity, ones, or zeros matrix\n",
        "\n",
        "Use 3 sample matrices in which their shapes are not lower than (3,3). In your methodology, create a flowchart discuss the functions and methods you have done. Present your results in the results section showing the description of each matrix you have declared."
      ],
      "metadata": {
        "id": "DH4aEihHxP8h"
      }
    },
    {
      "cell_type": "code",
      "source": [
        "## Function area\n",
        "\n",
        "import numpy as np"
      ],
      "metadata": {
        "id": "ezspMWKShFoV"
      },
      "execution_count": null,
      "outputs": []
    },
    {
      "cell_type": "code",
      "source": [
        "## Matrix declarations\n",
        "\n",
        "def mat_desc(matrix):\n",
        "  if matrix.size >0:\n",
        "    is_square= True if matrix.shape[0] == matrix.shape[1] else False\n",
        "    print (f'{matrix}\\n\\nShape:\\t{matrix.shape}\\nRank:\\t{matrix.ndim}\\nSquare:\\t{is_square}\\nMatrix is not Null')\n",
        "  else:\n",
        "    print ('Matrix is Null')"
      ],
      "metadata": {
        "id": "dm-KW_3GxrkY"
      },
      "execution_count": null,
      "outputs": []
    },
    {
      "cell_type": "code",
      "source": [
        "## Test Areas\n",
        "\n",
        "mat_1= np.ones((6,6,))\n",
        "\n",
        "print('Matrix 1:')\n",
        "mat_desc(mat_1)\n",
        "\n",
        "result = np.all((np.identity(6)))\n",
        "if result:\n",
        "  print('Identity Matrix')\n",
        "else:\n",
        "  print('Not an Identity Matrix')\n",
        "\n",
        "result = np.all((mat_1 == 1))\n",
        "if result:\n",
        "  print('Ones Matrix')\n",
        "else:\n",
        "  print('Contains non-one element')\n",
        "\n",
        "result = np.all((mat_1 == 0))\n",
        "if result:\n",
        "  print('Zero Matrix')\n",
        "else:\n",
        "  print('Contains non-zero element')"
      ],
      "metadata": {
        "id": "t1ProNJexs6G",
        "colab": {
          "base_uri": "https://localhost:8080/"
        },
        "outputId": "25c6c857-a70f-4f1e-9deb-45c3d5db856f"
      },
      "execution_count": null,
      "outputs": [
        {
          "output_type": "stream",
          "name": "stdout",
          "text": [
            "Matrix 1:\n",
            "[[1. 1. 1. 1. 1. 1.]\n",
            " [1. 1. 1. 1. 1. 1.]\n",
            " [1. 1. 1. 1. 1. 1.]\n",
            " [1. 1. 1. 1. 1. 1.]\n",
            " [1. 1. 1. 1. 1. 1.]\n",
            " [1. 1. 1. 1. 1. 1.]]\n",
            "\n",
            "Shape:\t(6, 6)\n",
            "Rank:\t2\n",
            "Square:\tTrue\n",
            "Matrix is not Null\n",
            "Not an Identity Matrix\n",
            "Ones Matrix\n",
            "Contains non-zero element\n"
          ]
        }
      ]
    },
    {
      "cell_type": "code",
      "source": [
        "## Test Areas\n",
        "\n",
        "mat_2= np.zeros((5,10))\n",
        "print('Matrix 2:')\n",
        "mat_desc(mat_2)\n",
        "\n",
        "result = np.all((np.identity(5)))\n",
        "if result:\n",
        "  print('Identity Matrix')\n",
        "else:\n",
        "  print('Not an Identity Matrix')\n",
        "\n",
        "result = np.all((mat_2 == 1))\n",
        "if result:\n",
        "  print('Ones Matrix')\n",
        "else:\n",
        "  print('Contains non-one element')\n",
        "\n",
        "result = np.all((mat_2 == 0))\n",
        "if result:\n",
        "  print('Zero Matrix')\n",
        "else:\n",
        "  print('Contains non-zero element')"
      ],
      "metadata": {
        "id": "ltE71ODrQvSj",
        "colab": {
          "base_uri": "https://localhost:8080/"
        },
        "outputId": "caf2c187-25a5-4c12-ff13-977df60d9247"
      },
      "execution_count": null,
      "outputs": [
        {
          "output_type": "stream",
          "name": "stdout",
          "text": [
            "Matrix 2:\n",
            "[[0. 0. 0. 0. 0. 0. 0. 0. 0. 0.]\n",
            " [0. 0. 0. 0. 0. 0. 0. 0. 0. 0.]\n",
            " [0. 0. 0. 0. 0. 0. 0. 0. 0. 0.]\n",
            " [0. 0. 0. 0. 0. 0. 0. 0. 0. 0.]\n",
            " [0. 0. 0. 0. 0. 0. 0. 0. 0. 0.]]\n",
            "\n",
            "Shape:\t(5, 10)\n",
            "Rank:\t2\n",
            "Square:\tFalse\n",
            "Matrix is not Null\n",
            "Not an Identity Matrix\n",
            "Contains non-one element\n",
            "Zero Matrix\n"
          ]
        }
      ]
    },
    {
      "cell_type": "code",
      "source": [
        "## Test Areas\n",
        "\n",
        "mat_3= np.array ([   \n",
        "                  [13,67,89,90,67,55,99],\n",
        "                  [55,78,6,33,900,0,3],\n",
        "                  [21,34,5,88,93,87,54],\n",
        "                  [27,76,98,0,96,26,37],\n",
        "                  [4,5,3,9,2,8,9],\n",
        "                  [25,30,11,3,1,27,8],\n",
        "                  [13,69,0,65,7,8,45]         \n",
        "])\n",
        "print('Matrix 3:')\n",
        "mat_desc(mat_3)\n",
        "\n",
        "result = np.all((np.identity(7)))\n",
        "if result:\n",
        "  print('Identity Matrix')\n",
        "else:\n",
        "  print('Not an Identity Matrix')\n",
        "\n",
        "result = np.all((mat_3 == 1))\n",
        "if result:\n",
        "  print('Ones Matrix')\n",
        "else:\n",
        "  print('Contains non-one element')\n",
        "\n",
        "result = np.all((mat_3 == 0))\n",
        "if result:\n",
        "  print('Zero Matrix')\n",
        "else:\n",
        "  print('Contains non-zero element')"
      ],
      "metadata": {
        "id": "ONVIOqkHQvaU"
      },
      "execution_count": null,
      "outputs": []
    },
    {
      "cell_type": "markdown",
      "source": [
        "##Task 2\n",
        "Create a function named mat_operations() that takes in two matrices a input parameters it should:\n",
        "\n",
        "1. Determines if the matrices are viable for operation and returns your own error message if they are not viable.\n",
        "2. Returns the sum of the matrices.\n",
        "3. Returns the difference of the matrices.\n",
        "4. Returns the element-wise multiplication of the matrices.\n",
        "5. Returns the element-wise division of the matrices.\n",
        "\n",
        "Use 3 sample matrices in which their shapes are not lower than (3x3). In your methodology, create a flowchart discuss the functions and methods you have done. Present your results in the results section showing the description of each matrix you have declared."
      ],
      "metadata": {
        "id": "AKJqVauyx8E3"
      }
    },
    {
      "cell_type": "code",
      "source": [
        "import numpy as np\n",
        "import matplotlib.pyplot as plt\n",
        "import scipy.linalg as la\n",
        "%matplotlib inline"
      ],
      "metadata": {
        "id": "yTMpWd8VwICY"
      },
      "execution_count": null,
      "outputs": []
    },
    {
      "cell_type": "code",
      "source": [
        "def mat_operations(matrix):\n",
        "  print (f'{matrix}')"
      ],
      "metadata": {
        "id": "6oKXqOhOySr6"
      },
      "execution_count": null,
      "outputs": []
    },
    {
      "cell_type": "code",
      "source": [
        "R4 = int(input('Enter the number of rows: '))\n",
        "C4 = int(input('Enter the number of columns: '))\n",
        "\n",
        "print('\\nEnter',R4*C4,'values for Matrix 1\\n\\t(NOTE: Use space for separating the numbers)\\n\\t(NOTE:Your first',C4,' number/s would be the first row):')\n",
        "m4 = list(map(int, input().split()))\n",
        "mat_4 = np.array(m4).reshape(R4, C4)\n",
        "print('\\nMatrix 4 is:')\n",
        "mat_operations(mat_4)\n",
        "\n",
        "print('----------------------------------------------')\n",
        "\n",
        "R5 = int(input('Enter the number of rows: '))\n",
        "C5 = int(input('Enter the number of columns: '))\n",
        "\n",
        "print('\\nEnter',R5*C5,'values for Matrix 1\\n\\t(NOTE: Use space for separating the numbers)\\n\\t(NOTE: Your first',C5,' number/s would be the first row):')\n",
        "m5 = list(map(int, input().split()))\n",
        "mat_5 = np.array(m5).reshape(R5, C5)\n",
        "print('\\nMatrix 5 is:')\n",
        "mat_operations(mat_5)\n",
        "\n",
        "print('----------------------------------------------')\n",
        "\n",
        "R6 = int(input('Enter the number of rows: '))\n",
        "C6 = int(input('Enter the number of columns: '))\n",
        "\n",
        "print('\\nEnter',R6*C6,'values for Matrix 1\\n\\t(NOTE: Use space for separating the numbers)\\n\\t(NOTE: Your first',C6,' number/s would be the first row):')\n",
        "m6 = list(map(int, input().split()))\n",
        "mat_6 = np.array(m6).reshape(R6, C6)\n",
        "print('\\nMatrix 6 is:')\n",
        "mat_operations(mat_6)\n",
        "\n",
        "print('----------------------------------------------')\n",
        "\n",
        "R7 = int(input('Enter the number of rows: '))\n",
        "C7 = int(input('Enter the number of columns: '))\n",
        "\n",
        "print('\\nEnter',R7*C7,'values for Matrix 1\\n\\t(NOTE: Use space for separating the numbers)\\n\\t(NOTE: Your first',C7,' number/s would be the first row):')\n",
        "m7 = list(map(int, input().split()))\n",
        "mat_7 = np.array(m7).reshape(R7, C7)\n",
        "print('\\nMatrix 7 is:')\n",
        "mat_operations(mat_7)"
      ],
      "metadata": {
        "colab": {
          "base_uri": "https://localhost:8080/"
        },
        "id": "Leg9ODYfzKlW",
        "outputId": "5323d97c-78c2-4bb7-dfe4-1362bb76d8f3"
      },
      "execution_count": null,
      "outputs": [
        {
          "output_type": "stream",
          "name": "stdout",
          "text": [
            "Enter the number of rows: 3\n",
            "Enter the number of columns: 3\n",
            "\n",
            "Enter 9 values for Matrix 1\n",
            "\t(NOTE: Use space for separating the numbers)\n",
            "\t(NOTE:Your first 3  number/s would be the first row):\n",
            "1 2 3 4 5 6 7 8 9\n",
            "\n",
            "Matrix 4 is:\n",
            "[[1 2 3]\n",
            " [4 5 6]\n",
            " [7 8 9]]\n",
            "----------------------------------------------\n",
            "Enter the number of rows: 3\n",
            "Enter the number of columns: 3\n",
            "\n",
            "Enter 9 values for Matrix 1\n",
            "\t(NOTE: Use space for separating the numbers)\n",
            "\t(NOTE: Your first 3  number/s would be the first row):\n",
            "9 8 7 6 5 4 3 2 1\n",
            "\n",
            "Matrix 5 is:\n",
            "[[9 8 7]\n",
            " [6 5 4]\n",
            " [3 2 1]]\n",
            "----------------------------------------------\n",
            "Enter the number of rows: 3\n",
            "Enter the number of columns: 3\n",
            "\n",
            "Enter 9 values for Matrix 1\n",
            "\t(NOTE: Use space for separating the numbers)\n",
            "\t(NOTE: Your first 3  number/s would be the first row):\n",
            "-7 -4 -1 8 5 2 -9 6 -3\n",
            "\n",
            "Matrix 6 is:\n",
            "[[-7 -4 -1]\n",
            " [ 8  5  2]\n",
            " [-9  6 -3]]\n",
            "----------------------------------------------\n",
            "Enter the number of rows: 4\n",
            "Enter the number of columns: 4\n",
            "\n",
            "Enter 16 values for Matrix 1\n",
            "\t(NOTE: Use space for separating the numbers)\n",
            "\t(NOTE: Your first 4  number/s would be the first row):\n",
            "1 2 3 4 5 6 7 8 9 -9 -8 -7 -6 -5 -4 -2\n",
            "\n",
            "Matrix 7 is:\n",
            "[[ 1  2  3  4]\n",
            " [ 5  6  7  8]\n",
            " [ 9 -9 -8 -7]\n",
            " [-6 -5 -4 -2]]\n"
          ]
        }
      ]
    },
    {
      "cell_type": "code",
      "source": [
        "#Determines if the matrices are viable for operation and returns your own error message if they are not viable.\n",
        "print('Matrix 4:')\n",
        "mat_operations(mat_4)\n",
        "print('\\nMatrix 5:')\n",
        "mat_operations(mat_5)\n",
        "result1 = (mat_4.shape == mat_5.shape)\n",
        "if result1:\n",
        "  print('\\nMatrix 4 and Matrix 5 are Viable for Operation')\n",
        "else:\n",
        "  print('\\nMatrix 4 and Matrix 5 are Not Viable for Operation')\n",
        "\n",
        "print('\\n------------------------------------------------------')\n",
        "\n",
        "print('Matrix 4:')\n",
        "mat_operations(mat_4)\n",
        "print('\\nMatrix 6:')\n",
        "mat_operations(mat_6)\n",
        "result2 = (mat_4.shape == mat_6.shape)\n",
        "if result2:\n",
        "  print('\\nMatrix 4 and Matrix 6 are Viable for Operation')\n",
        "else:\n",
        "  print('\\nMatrix 4 and Matrix 6 are Not Viable for Operation')\n",
        "\n",
        "print('\\n------------------------------------------------------')\n",
        "\n",
        "print('Matrix 5:')\n",
        "mat_operations(mat_5)\n",
        "print('\\nMatrix 6:')\n",
        "mat_operations(mat_6) \n",
        "result3 = (mat_5.shape == mat_6.shape)\n",
        "if result3:\n",
        "  print('\\nMatrix 5 and Matrix 6 are Viable for Operation')\n",
        "else:\n",
        "  print('\\nMatrix 5 and Matrix 6 are Not Viable for Operation')\n",
        "\n",
        "print('\\n------------------------------------------------------')\n",
        "\n",
        "print('Matrix 4:')\n",
        "mat_operations(mat_4)\n",
        "print('\\nMatrix 7:')\n",
        "mat_operations(mat_7) \n",
        "result4 = (mat_4.shape == mat_7.shape)\n",
        "if result4:\n",
        "  print('\\nMatrix 4 and Matrix 7 are Viable for Operation')\n",
        "else:\n",
        "  print('\\nMatrix 4 and Matrix 7 are Not Viable for Operation')"
      ],
      "metadata": {
        "id": "nPD9BYW1yMgn",
        "colab": {
          "base_uri": "https://localhost:8080/"
        },
        "outputId": "eca1fe2d-ccec-444a-c05c-8637182dad50"
      },
      "execution_count": null,
      "outputs": [
        {
          "output_type": "stream",
          "name": "stdout",
          "text": [
            "Matrix 4:\n",
            "[[1 2 3]\n",
            " [4 5 6]\n",
            " [7 8 9]]\n",
            "\n",
            "Matrix 5:\n",
            "[[9 8 7]\n",
            " [6 5 4]\n",
            " [3 2 1]]\n",
            "\n",
            "Matrix 4 and Matrix 5 are Viable for Operation\n",
            "\n",
            "------------------------------------------------------\n",
            "Matrix 4:\n",
            "[[1 2 3]\n",
            " [4 5 6]\n",
            " [7 8 9]]\n",
            "\n",
            "Matrix 6:\n",
            "[[-7 -4 -1]\n",
            " [ 8  5  2]\n",
            " [-9  6 -3]]\n",
            "\n",
            "Matrix 4 and Matrix 6 are Viable for Operation\n",
            "\n",
            "------------------------------------------------------\n",
            "Matrix 5:\n",
            "[[9 8 7]\n",
            " [6 5 4]\n",
            " [3 2 1]]\n",
            "\n",
            "Matrix 6:\n",
            "[[-7 -4 -1]\n",
            " [ 8  5  2]\n",
            " [-9  6 -3]]\n",
            "\n",
            "Matrix 5 and Matrix 6 are Viable for Operation\n",
            "\n",
            "------------------------------------------------------\n",
            "Matrix 4:\n",
            "[[1 2 3]\n",
            " [4 5 6]\n",
            " [7 8 9]]\n",
            "\n",
            "Matrix 7:\n",
            "[[ 1  2  3  4]\n",
            " [ 5  6  7  8]\n",
            " [ 9 -9 -8 -7]\n",
            " [-6 -5 -4 -2]]\n",
            "\n",
            "Matrix 4 and Matrix 7 are Not Viable for Operation\n"
          ]
        }
      ]
    },
    {
      "cell_type": "code",
      "source": [
        "#Sum of the matrices\n",
        "\n",
        "if result1:\n",
        "  sum_1= mat_4 + mat_5\n",
        "  print('Sum result 1:\\n',sum_1)\n",
        "else:\n",
        "  print('Matrix 4 and Matrix 5 are Not Viable for Operation')\n",
        "\n",
        "if result3:\n",
        "  sum_2= mat_5 + mat_6\n",
        "  print('\\n\\nSum result 2:\\n',sum_2)\n",
        "else:\n",
        "  print('\\n\\nMatrix 5 and Matrix 6 are Not Viable for Operation')\n",
        "\n",
        "if result4:\n",
        "  sum_4= mat_4 + mat_7\n",
        "  print('\\n\\nSum result 3:\\n',sum_4)\n",
        "else:\n",
        "  print('\\n\\nMatrix 4 and Matrix 7 are Not Viable for Operation')"
      ],
      "metadata": {
        "id": "mugwhGTqyMvn",
        "colab": {
          "base_uri": "https://localhost:8080/"
        },
        "outputId": "b8576bbb-ab69-47d4-ff9c-f0d01eae8532"
      },
      "execution_count": null,
      "outputs": [
        {
          "output_type": "stream",
          "name": "stdout",
          "text": [
            "Sum result 1:\n",
            " [[10 10 10]\n",
            " [10 10 10]\n",
            " [10 10 10]]\n",
            "\n",
            "\n",
            "Sum result 2:\n",
            " [[ 2  4  6]\n",
            " [14 10  6]\n",
            " [-6  8 -2]]\n",
            "\n",
            "\n",
            "Matrix 4 and Matrix 7 are Not Viable for Operation\n"
          ]
        }
      ]
    },
    {
      "cell_type": "code",
      "source": [
        "#Difference of the matrices\n",
        "\n",
        "if result2:\n",
        "  d_1= mat_4 - mat_6\n",
        "  print('Difference result 1:\\n',d_1)\n",
        "else:\n",
        "  print('Matrix 4 and Matrix 6 are Not Viable for Operation')\n",
        "\n",
        "if result4:\n",
        "  sum_4= mat_4 - mat_7\n",
        "  print('\\n\\nDifference result 2:\\n',sum_4)\n",
        "else:\n",
        "  print('\\n\\nMatrix 4 and Matrix 7 are Not Viable for Operation')\n",
        "\n",
        "if result3:\n",
        "  d_2= mat_5 - mat_6\n",
        "  print('\\n\\nDifference result 3:\\n',d_2)\n",
        "else:\n",
        "  print('\\n\\nMatrix 5 and Matrix 6 are Not Viable for Operation')"
      ],
      "metadata": {
        "id": "IQWP7Y7J9jYJ",
        "colab": {
          "base_uri": "https://localhost:8080/"
        },
        "outputId": "14b3e16a-6778-4cba-a9fa-fd370f2ee5b6"
      },
      "execution_count": null,
      "outputs": [
        {
          "output_type": "stream",
          "name": "stdout",
          "text": [
            "Difference result 1:\n",
            " [[ 8  6  4]\n",
            " [-4  0  4]\n",
            " [16  2 12]]\n",
            "\n",
            "\n",
            "Matrix 4 and Matrix 7 are Not Viable for Operation\n",
            "\n",
            "\n",
            "Difference result 3:\n",
            " [[16 12  8]\n",
            " [-2  0  2]\n",
            " [12 -4  4]]\n"
          ]
        }
      ]
    },
    {
      "cell_type": "code",
      "source": [
        "#Element-wise multiplication of the matrices\n",
        "\n",
        "if result1:\n",
        "  m_1= mat_4 * mat_5\n",
        "  print('Product result 1:\\n',m_1)\n",
        "else:\n",
        "  print('Matrix 4 and Matrix 5 are Not Viable for Operation')\n",
        "\n",
        "if result3:\n",
        "  m_2= mat_5 * mat_6\n",
        "  print('\\n\\nProduct result 2:\\n',m_2)\n",
        "else:\n",
        "  print('\\n\\nMatrix 5 and Matrix 6 are Not Viable for Operation')\n",
        "\n",
        "if result4:\n",
        "  m_3= mat_4 * mat_7\n",
        "  print('\\n\\nProduct result 3:\\n',m_3)\n",
        "else:\n",
        "  print('\\n\\nMatrix 4 and Matrix 7 are Not Viable for Operation')"
      ],
      "metadata": {
        "id": "n_9TyU919n8-",
        "colab": {
          "base_uri": "https://localhost:8080/"
        },
        "outputId": "8a470b09-7918-43c8-8d38-3d9f35bdc531"
      },
      "execution_count": null,
      "outputs": [
        {
          "output_type": "stream",
          "name": "stdout",
          "text": [
            "Product result 1:\n",
            " [[ 9 16 21]\n",
            " [24 25 24]\n",
            " [21 16  9]]\n",
            "\n",
            "\n",
            "Product result 2:\n",
            " [[-63 -32  -7]\n",
            " [ 48  25   8]\n",
            " [-27  12  -3]]\n",
            "\n",
            "\n",
            "Matrix 4 and Matrix 7 are Not Viable for Operation\n"
          ]
        }
      ]
    },
    {
      "cell_type": "code",
      "source": [
        "#Element-wise division of the matrices\n",
        "\n",
        "if result4:\n",
        "  dv_3= mat_4 / mat_7\n",
        "  print('Quotient result 1:\\n',dv_3)\n",
        "else:\n",
        "  print('Matrix 4 and Matrix 7 are Not Viable for Operation')\n",
        "\n",
        "if result2:\n",
        "  dv_1= mat_4 / mat_6\n",
        "  print('\\n\\nQuotient result 2:\\n',dv_1)\n",
        "else:\n",
        "  print('\\n\\nMatrix 4 and Matrix 6 are Not Viable for Operation')\n",
        "\n",
        "if result3:\n",
        "  dv_2= mat_5 / mat_6\n",
        "  print('\\n\\nQuotient result 3:\\n',dv_2)\n",
        "else:\n",
        "  print('\\n\\nMatrix 5 and Matrix 6 are Not Viable for Operation')"
      ],
      "metadata": {
        "id": "eqmWTaaw9sPf",
        "colab": {
          "base_uri": "https://localhost:8080/"
        },
        "outputId": "5dbe0281-318d-4921-d758-76d29934ad62"
      },
      "execution_count": null,
      "outputs": [
        {
          "output_type": "stream",
          "name": "stdout",
          "text": [
            "Matrix 4 and Matrix 7 are Not Viable for Operation\n",
            "\n",
            "\n",
            "Quotient result 2:\n",
            " [[-0.14285714 -0.5        -3.        ]\n",
            " [ 0.5         1.          3.        ]\n",
            " [-0.77777778  1.33333333 -3.        ]]\n",
            "\n",
            "\n",
            "Quotient result 3:\n",
            " [[-1.28571429 -2.         -7.        ]\n",
            " [ 0.75        1.          2.        ]\n",
            " [-0.33333333  0.33333333 -0.33333333]]\n"
          ]
        }
      ]
    },
    {
      "cell_type": "markdown",
      "source": [
        "##Conclusion\n",
        "\n",
        "\n",
        "> Matrix is a method or technique that is widely used in mathematics and physics to easier solve linear equations.[9] In this laboratory, the students gained knowledge about how the matrix can be applied to programming. They have learned that matrices can be: converted into a linear combination or LaTex Markdown, classified into zero matrix, identity matrix or ones matrix, and solved with different operations such as addition, subtraction, multiplication, and division. With the help of the functions and variables like NumPy or np, and “describe_mat(),” “mat_desc(),” & “mat_operations(),” the students were able to run programs that prints matrices and define them. \n",
        "\n",
        "\n",
        "> The world today adapted to the advancement of technology which increased human reliability, especially in the future. The current generation is welcomed in the world wherein they must be skilled and knowledgeable enough on technology to survive and work as a person. [10] This technology nowadays is composed of endless codes to make something work, including matrix. Therefore when technology has an emerging problem, it is only through itself also that it can be solved. One application that matrix can be used as a solution would be on Wireless Communication because it is a sensor that detects problems on wireless communication and its signal estimation. Matrices are said to be used as wireless signals(sensor arrays) in which the information is extracted and operated. The sensor arrays detect and locate the problem radiating provenance by the temporal and spatial information collected from the sensors. The matrices can help the process of illustrating digital images.[9]"
      ],
      "metadata": {
        "id": "Dkb5l3KwyT95"
      }
    }
  ]
}