{
  "cells": [
    {
      "cell_type": "markdown",
      "metadata": {
        "id": "view-in-github",
        "colab_type": "text"
      },
      "source": [
        "<a href=\"https://colab.research.google.com/github/jooeeeiy/LinearAlgebra_2ndSem/blob/main/Assignment_3.ipynb\" target=\"_parent\"><img src=\"https://colab.research.google.com/assets/colab-badge.svg\" alt=\"Open In Colab\"/></a>"
      ]
    },
    {
      "cell_type": "markdown",
      "metadata": {
        "id": "2HnDY3Mwxcmu"
      },
      "source": [
        "#Linear Algebra for ChE\n",
        "## Laboratory 2: Matrices"
      ]
    },
    {
      "cell_type": "markdown",
      "metadata": {
        "id": "oOcqUiacyEhK"
      },
      "source": [
        "#Discussion"
      ]
    },
    {
      "cell_type": "code",
      "execution_count": null,
      "metadata": {
        "id": "oQlsjoTUu7fp"
      },
      "outputs": [],
      "source": [
        "#next to import, calling out the numberical libraries\n",
        "#numpy numerical phton.. mat about matrix..\"as *next word*\" making shortcut\n",
        "#no output in the commands\n",
        "\n",
        "import numpy as np\n",
        "import matplotlib.pyplot as plt\n",
        "import scipy.linalg as la\n",
        "%matplotlib inline"
      ]
    },
    {
      "cell_type": "markdown",
      "metadata": {
        "id": "WdzbPsIFzAB0"
      },
      "source": [
        "###Matrices"
      ]
    },
    {
      "cell_type": "markdown",
      "metadata": {
        "id": "9k4PyvGo1HYl"
      },
      "source": [
        "$$\n",
        "A = \\left\\{\n",
        "    \\begin{array}\\\n",
        "        x + y \\\\ \n",
        "        4x - 10y\n",
        "    \\end{array}\n",
        "\\right. \\\\\n",
        "B = \\left\\{\n",
        "    \\begin{array}\\\n",
        "        x+y+z \\\\ \n",
        "        3x -2y -z \\\\\n",
        "        -x + 4y +2z\n",
        "    \\end{array}\n",
        "\\right. \\\\\n",
        "C = \\left\\{\n",
        "    \\begin{array}\\\n",
        "        w-2x+3y-4z \\\\ \n",
        "        3w-x -2y +z \\\\\n",
        "        2w-x + 3y -2z\n",
        "    \\end{array}\n",
        "\\right. $$"
      ]
    },
    {
      "cell_type": "markdown",
      "metadata": {
        "id": "v00F-3NT1bdI"
      },
      "source": [
        ":$$\n",
        "A=\\begin{bmatrix} 1 & 1 \\\\ 4 & {-10}\\end{bmatrix} \\\\\n",
        "B=\\begin{bmatrix} 1 & 1 & 1 \\\\ 3 & -2 & -1 \\\\ -1 & 4 & 2\\end{bmatrix} \\\\\n",
        "C=\\begin{bmatrix} 1 & -2 & 3 & -4 \\\\ 3 & -1 & -2 & 1 \\\\ 2 & -1 & 3 & -2 \\end {bmatrix}\n",
        "$$\n"
      ]
    },
    {
      "cell_type": "markdown",
      "metadata": {
        "id": "W6EkyuSC3IDe"
      },
      "source": [
        "### Declaring Matrices"
      ]
    },
    {
      "cell_type": "markdown",
      "metadata": {
        "id": "ZxRwn_P13eM-"
      },
      "source": [
        "$$A=\\begin{bmatrix}\n",
        "a_{(0,0)}&a_{(0,1)}&\\dots&a_{(0,j-1)}\\\\\n",
        "a_{(1,0)}&a_{(1,1)}&\\dots&a_{(1,j-1)}\\\\\n",
        "\\vdots&\\vdots&\\ddots&\\vdots&\\\\\n",
        "a_{(i-1,0)}&a_{(i-1,1)}&\\dots&a_{(i-1,j-1)}\n",
        "\\end{bmatrix}\n",
        "$$\n"
      ]
    },
    {
      "cell_type": "code",
      "execution_count": null,
      "metadata": {
        "id": "x93v8qnB3wmT"
      },
      "outputs": [],
      "source": [
        "## Since we'll keep describing matrices, make function timeeeeeeeeee\n",
        "#shape is dimension,, rank ~~\n",
        "\n",
        "def describe_mat(matrix):\n",
        "  print (f'Matrix:\\n{matrix}\\n\\nShape: \\t{matrix.shape}\\nRank:\\t{matrix.ndim}\\n ')"
      ]
    },
    {
      "cell_type": "code",
      "execution_count": null,
      "metadata": {
        "colab": {
          "base_uri": "https://localhost:8080/"
        },
        "id": "Q1lIAzdw4Use",
        "outputId": "a6adc281-9970-4421-cf50-e5bf279c8c93"
      },
      "outputs": [
        {
          "name": "stdout",
          "output_type": "stream",
          "text": [
            "Matrix:\n",
            "[[1 2]\n",
            " [3 1]]\n"
          ]
        }
      ],
      "source": [
        "##Declaring a 2 x 2 matrix\n",
        "A = np.array([\n",
        "    [1, 2],\n",
        "    [3, 1]\n",
        "])\n",
        "describe_mat(A)"
      ]
    },
    {
      "cell_type": "code",
      "execution_count": null,
      "metadata": {
        "colab": {
          "base_uri": "https://localhost:8080/"
        },
        "id": "78ZHq00D6IZ8",
        "outputId": "16ec275c-e0bd-4c83-d01a-d6b67206a237"
      },
      "outputs": [
        {
          "name": "stdout",
          "output_type": "stream",
          "text": [
            "Matrix:\n",
            "[[1 2 3]\n",
            " [3 4 5]]\n",
            "\n",
            "Shape: \t(2, 3)\n",
            "Rank:\t2\n",
            " \n"
          ]
        }
      ],
      "source": [
        "J= np.array ([\n",
        "      [1,2,3],\n",
        "      [3,4,5]         \n",
        "])\n",
        "describe_mat(J)"
      ]
    },
    {
      "cell_type": "code",
      "execution_count": null,
      "metadata": {
        "colab": {
          "base_uri": "https://localhost:8080/"
        },
        "id": "RVWIIXZP6m7N",
        "outputId": "c02a54ec-eaf6-47f1-c615-b3036d81b488"
      },
      "outputs": [
        {
          "name": "stdout",
          "output_type": "stream",
          "text": [
            "Matrix:\n",
            "[1 2 3 4 5 6]\n",
            "\n",
            "Shape: \t(6,)\n",
            "Rank:\t1\n",
            " \n"
          ]
        }
      ],
      "source": [
        "U= np.array(\n",
        "    [1,2,3,4,5,6]\n",
        ")\n",
        "describe_mat(U)"
      ]
    },
    {
      "cell_type": "markdown",
      "metadata": {
        "id": "fOqn9fqc7Sln"
      },
      "source": [
        "## Categorizing Matrices"
      ]
    },
    {
      "cell_type": "markdown",
      "metadata": {
        "id": "51A_IFvT8w6Q"
      },
      "source": [
        "###Row and Column Matrices"
      ]
    },
    {
      "cell_type": "code",
      "execution_count": null,
      "metadata": {
        "colab": {
          "base_uri": "https://localhost:8080/"
        },
        "id": "TsAMcf0k6z1c",
        "outputId": "4e91fc0d-aa4d-4065-ab26-a70bc1f4f3eb"
      },
      "outputs": [
        {
          "name": "stdout",
          "output_type": "stream",
          "text": [
            "Matrix:\n",
            "[1 3 2]\n",
            "\n",
            "Shape: \t(3,)\n",
            "Rank:\t1\n",
            " \n",
            "Matrix:\n",
            "[[ 1  2  3 -4]]\n",
            "\n",
            "Shape: \t(1, 4)\n",
            "Rank:\t2\n",
            " \n"
          ]
        }
      ],
      "source": [
        "## Declaring Row Matrix\n",
        "\n",
        "row_mat_1D= np.array ([\n",
        "                       1,3,2\n",
        "]) #1D MATRIX, SHAPE (3,), NOT A ROW MATRIX\n",
        "\n",
        "row_mat_2D= np.array ([\n",
        "                       [1,2,3,-4]\n",
        "]) ##2D MATRIX WITH SHAPE (1,3)\n",
        "describe_mat(row_mat_1D)\n",
        "describe_mat(row_mat_2D)"
      ]
    },
    {
      "cell_type": "code",
      "execution_count": null,
      "metadata": {
        "colab": {
          "base_uri": "https://localhost:8080/"
        },
        "id": "gTBRrWi79X0W",
        "outputId": "7b8815a6-dfac-4365-d058-4710b8ba62a3"
      },
      "outputs": [
        {
          "name": "stdout",
          "output_type": "stream",
          "text": [
            "Matrix:\n",
            "[[ 8]\n",
            " [25]\n",
            " [27]\n",
            " [30]]\n",
            "\n",
            "Shape: \t(4, 1)\n",
            "Rank:\t2\n",
            " \n"
          ]
        }
      ],
      "source": [
        "## Declaring Column Matrix\n",
        "\n",
        "col_mat= np.array ([\n",
        "                    [8],\n",
        "                    [25],\n",
        "                    [27],\n",
        "                    [30]\n",
        "])\n",
        "describe_mat(col_mat)"
      ]
    },
    {
      "cell_type": "markdown",
      "metadata": {
        "id": "RoGWWtrl95IV"
      },
      "source": [
        "###Square Matrices"
      ]
    },
    {
      "cell_type": "code",
      "execution_count": null,
      "metadata": {
        "id": "uEhIV2Tt9-em"
      },
      "outputs": [],
      "source": [
        "# matrix.shape[0] starts with 0\n",
        "\n",
        "def describe_mat(matrix):\n",
        "  is_square= True if matrix.shape[0] == matrix.shape[1] else False\n",
        "  print (f'Matrix:\\n{matrix}\\n\\nShape: \\t{matrix.shape}\\nRank:\\t{matrix.ndim}\\nSquare {is_square}\\n ')"
      ]
    },
    {
      "cell_type": "code",
      "execution_count": null,
      "metadata": {
        "colab": {
          "base_uri": "https://localhost:8080/"
        },
        "id": "2DjdKedr-bLK",
        "outputId": "c5aadd15-c2fb-4da8-cf51-9464d27bec74"
      },
      "outputs": [
        {
          "name": "stdout",
          "output_type": "stream",
          "text": [
            "Matrix:\n",
            "[[ 1 25  4]\n",
            " [ 6 72 81]\n",
            " [ 2  5 34]]\n",
            "\n",
            "Shape: \t(3, 3)\n",
            "Rank:\t2\n",
            "Square True\n",
            " \n",
            "Matrix:\n",
            "[[49  5 67]\n",
            " [37 11  8]]\n",
            "\n",
            "Shape: \t(2, 3)\n",
            "Rank:\t2\n",
            "Square False\n",
            " \n"
          ]
        }
      ],
      "source": [
        "sq_mat= np.array ([\n",
        "                   [1,25,4],\n",
        "                   [6,72,81],\n",
        "                   [2,5,34]\n",
        "])\n",
        "\n",
        "nsq_mat= np.array ([ \n",
        "                    [49,5,67],\n",
        "                    [37,11,8]\n",
        "])\n",
        "\n",
        "describe_mat(sq_mat)\n",
        "describe_mat(nsq_mat)"
      ]
    },
    {
      "cell_type": "markdown",
      "metadata": {
        "id": "ScmWAOnvBEak"
      },
      "source": [
        "### Null Matrix"
      ]
    },
    {
      "cell_type": "code",
      "execution_count": null,
      "metadata": {
        "id": "WY3TIIDUBJ-R"
      },
      "outputs": [],
      "source": [
        "def describe_mat(matrix):\n",
        "  if matrix.size >0:\n",
        "    is_square= True if matrix.shape[0] == matrix.shape[1] else False\n",
        "    print (f'Matrix:\\n{matrix}\\n\\nShape: \\t{matrix.shape}\\nRank:\\t{matrix.ndim}\\nSquare {is_square}\\n ')\n",
        "  else:\n",
        "    print ('Matrix is Null')"
      ]
    },
    {
      "cell_type": "code",
      "execution_count": null,
      "metadata": {
        "colab": {
          "base_uri": "https://localhost:8080/"
        },
        "id": "Q9HWDcyvBdRF",
        "outputId": "bc505379-1cbd-4c1c-fae6-0fb6615d5c3b"
      },
      "outputs": [
        {
          "name": "stdout",
          "output_type": "stream",
          "text": [
            "Matrix is Null\n"
          ]
        }
      ],
      "source": [
        "null_mat= np.array([])\n",
        "describe_mat(null_mat)"
      ]
    },
    {
      "cell_type": "code",
      "execution_count": null,
      "metadata": {
        "colab": {
          "base_uri": "https://localhost:8080/"
        },
        "id": "4EdSk7wmBvwu",
        "outputId": "b83a865d-d121-46af-db88-d453b5aa2b24"
      },
      "outputs": [
        {
          "name": "stdout",
          "output_type": "stream",
          "text": [
            "Matrix:\n",
            "[[3 4 5]\n",
            " [1 2 3]]\n",
            "\n",
            "Shape: \t(2, 3)\n",
            "Rank:\t2\n",
            "Square False\n",
            " \n"
          ]
        }
      ],
      "source": [
        "n_mat= np.array([\n",
        "                 [3,4,5],\n",
        "                 [1,2,3]\n",
        "])\n",
        "describe_mat(n_mat)"
      ]
    },
    {
      "cell_type": "markdown",
      "metadata": {
        "id": "w5HZ2G2OCRU3"
      },
      "source": [
        "### Zero Matrix"
      ]
    },
    {
      "cell_type": "code",
      "execution_count": null,
      "metadata": {
        "colab": {
          "base_uri": "https://localhost:8080/"
        },
        "id": "sC1Rt5lHCUSt",
        "outputId": "9e9b93d5-fe7b-4e3b-c462-65e0741d3dd2"
      },
      "outputs": [
        {
          "name": "stdout",
          "output_type": "stream",
          "text": [
            "Zero matrix: \n",
            "[[0. 0.]]\n",
            "Zero matrix: \n",
            "[[0. 0.]\n",
            " [0. 0.]]\n",
            "Zero matrix: \n",
            "[[0. 0.]\n",
            " [0. 0.]\n",
            " [0. 0.]]\n"
          ]
        }
      ],
      "source": [
        "z_mat_row= np.zeros((1,2,))\n",
        "z_mat_sq=np.zeros((2,2))\n",
        "z_mat_rct= np.zeros((3,2))\n",
        "\n",
        "print(f'Zero matrix: \\n{z_mat_row}')\n",
        "print(f'Zero matrix: \\n{z_mat_sq}')\n",
        "print(f'Zero matrix: \\n{z_mat_rct}')"
      ]
    },
    {
      "cell_type": "markdown",
      "metadata": {
        "id": "wTTUFbeHDsuo"
      },
      "source": [
        "### Ones Matrix"
      ]
    },
    {
      "cell_type": "code",
      "execution_count": null,
      "metadata": {
        "colab": {
          "base_uri": "https://localhost:8080/"
        },
        "id": "utbs8DWuDxS0",
        "outputId": "9f9eb05d-57b3-431a-f0f5-a7ddd8cf202b"
      },
      "outputs": [
        {
          "name": "stdout",
          "output_type": "stream",
          "text": [
            "Zero matrix: \n",
            "[[1. 1.]]\n",
            "Zero matrix: \n",
            "[[1. 1.]\n",
            " [1. 1.]]\n",
            "Zero matrix: \n",
            "[[1. 1.]\n",
            " [1. 1.]\n",
            " [1. 1.]]\n"
          ]
        }
      ],
      "source": [
        "o_mat_row= np.ones((1,2,))\n",
        "o_mat_sq=np.ones((2,2))\n",
        "o_mat_rct= np.ones((3,2))\n",
        "\n",
        "print(f'Zero matrix: \\n{o_mat_row}')\n",
        "print(f'Zero matrix: \\n{o_mat_sq}')\n",
        "print(f'Zero matrix: \\n{o_mat_rct}')"
      ]
    },
    {
      "cell_type": "markdown",
      "metadata": {
        "id": "cRFEbnJ2Emt-"
      },
      "source": [
        "###Diagonal Matrix"
      ]
    },
    {
      "cell_type": "code",
      "execution_count": null,
      "metadata": {
        "colab": {
          "base_uri": "https://localhost:8080/"
        },
        "id": "HbGqQlKmEshw",
        "outputId": "eb54ff14-03fe-45be-cc67-988c26bdb8e3"
      },
      "outputs": [
        {
          "data": {
            "text/plain": [
              "array([[2, 0, 0],\n",
              "       [0, 6, 0],\n",
              "       [0, 0, 8]])"
            ]
          },
          "execution_count": 79,
          "metadata": {},
          "output_type": "execute_result"
        }
      ],
      "source": [
        "np.array ([\n",
        "           [2,0,0],\n",
        "           [0,6,0],\n",
        "           [0,0,8]\n",
        "])"
      ]
    },
    {
      "cell_type": "code",
      "execution_count": null,
      "metadata": {
        "colab": {
          "base_uri": "https://localhost:8080/"
        },
        "id": "NirL4yRaE9VM",
        "outputId": "d6746cd2-3083-4220-9434-60baa82d7db8"
      },
      "outputs": [
        {
          "data": {
            "text/plain": [
              "array([[  25,    0,    0,    0,    0],\n",
              "       [   0,   30,    0,    0,    0],\n",
              "       [   0,    0,    8,    0,    0],\n",
              "       [   0,    0,    0,   27,    0],\n",
              "       [   0,    0,    0,    0, 2019]])"
            ]
          },
          "execution_count": 81,
          "metadata": {},
          "output_type": "execute_result"
        }
      ],
      "source": [
        "d= np.diag([25,30,8,27,2019])\n",
        "d.shape[0] == d.shape [1] \n",
        "d"
      ]
    },
    {
      "cell_type": "markdown",
      "metadata": {
        "id": "M8ADMohEF0Ro"
      },
      "source": [
        "### Identity Matrix"
      ]
    },
    {
      "cell_type": "code",
      "execution_count": null,
      "metadata": {
        "colab": {
          "base_uri": "https://localhost:8080/"
        },
        "id": "lt0Qf9SkF3sF",
        "outputId": "c3276e15-ab02-4e8e-a968-6997543176b2"
      },
      "outputs": [
        {
          "data": {
            "text/plain": [
              "array([[1., 0., 0., 0., 0.],\n",
              "       [0., 1., 0., 0., 0.],\n",
              "       [0., 0., 1., 0., 0.],\n",
              "       [0., 0., 0., 1., 0.],\n",
              "       [0., 0., 0., 0., 1.]])"
            ]
          },
          "execution_count": 82,
          "metadata": {},
          "output_type": "execute_result"
        }
      ],
      "source": [
        "np.eye(5)"
      ]
    },
    {
      "cell_type": "code",
      "execution_count": null,
      "metadata": {
        "colab": {
          "base_uri": "https://localhost:8080/"
        },
        "id": "q9vlMN2QF9vS",
        "outputId": "68b2b862-2f09-41bb-d077-36cf2f884b34"
      },
      "outputs": [
        {
          "data": {
            "text/plain": [
              "array([[1., 0., 0., 0., 0.],\n",
              "       [0., 1., 0., 0., 0.],\n",
              "       [0., 0., 1., 0., 0.],\n",
              "       [0., 0., 0., 1., 0.],\n",
              "       [0., 0., 0., 0., 1.]])"
            ]
          },
          "execution_count": 4,
          "metadata": {},
          "output_type": "execute_result"
        }
      ],
      "source": [
        "np.identity(5)"
      ]
    },
    {
      "cell_type": "markdown",
      "metadata": {
        "id": "QvSfttnzGZXc"
      },
      "source": [
        "###Upper Triangular Matrix"
      ]
    },
    {
      "cell_type": "code",
      "execution_count": null,
      "metadata": {
        "colab": {
          "base_uri": "https://localhost:8080/"
        },
        "id": "U7K0hVQFGiDO",
        "outputId": "cc8656d9-6844-4084-bc1f-1b1853d322b2"
      },
      "outputs": [
        {
          "data": {
            "text/plain": [
              "array([[1, 2, 3, 4],\n",
              "       [0, 9, 4, 6],\n",
              "       [0, 0, 3, 8],\n",
              "       [0, 0, 0, 7]])"
            ]
          },
          "execution_count": 85,
          "metadata": {},
          "output_type": "execute_result"
        }
      ],
      "source": [
        "np.array([\n",
        "         [1,2,3,4],\n",
        "         [0,9,4,6],\n",
        "          [0,0,3,8,],\n",
        "          [0,0,0,7] \n",
        "])"
      ]
    },
    {
      "cell_type": "markdown",
      "metadata": {
        "id": "hvic6rK7HBcO"
      },
      "source": [
        "### Lower Triangular Matrix"
      ]
    },
    {
      "cell_type": "code",
      "execution_count": null,
      "metadata": {
        "colab": {
          "base_uri": "https://localhost:8080/"
        },
        "id": "lzTvfxFAHEQr",
        "outputId": "1da529de-5c97-460a-9c1a-a6fdd0cee0f9"
      },
      "outputs": [
        {
          "data": {
            "text/plain": [
              "array([[0, 0, 0, 7],\n",
              "       [0, 0, 3, 8],\n",
              "       [0, 9, 4, 6],\n",
              "       [1, 2, 3, 4]])"
            ]
          },
          "execution_count": 86,
          "metadata": {},
          "output_type": "execute_result"
        }
      ],
      "source": [
        "np.array([\n",
        "         [0,0,0,7], \n",
        "         [0,0,3,8,],\n",
        "        [0,9,4,6],\n",
        "          [1,2,3,4],\n",
        "])"
      ]
    },
    {
      "cell_type": "markdown",
      "metadata": {
        "id": "NebXWxRZHX7Q"
      },
      "source": [
        "#**PRACTICE**"
      ]
    },
    {
      "cell_type": "markdown",
      "metadata": {
        "id": "sZYcJZl7HaGs"
      },
      "source": [
        "1.Given the linear combination below, try to create a corresponding matrix\n",
        "representing it."
      ]
    },
    {
      "cell_type": "markdown",
      "metadata": {
        "id": "KzOWIT37HmMa"
      },
      "source": [
        "$$\\theta = 5x + 3y - z$$\n"
      ]
    },
    {
      "cell_type": "markdown",
      "metadata": {
        "id": "lReA1v-kwjaB"
      },
      "source": [
        "##Answer"
      ]
    },
    {
      "cell_type": "code",
      "execution_count": null,
      "metadata": {
        "colab": {
          "base_uri": "https://localhost:8080/"
        },
        "id": "aDfjaIJ1w243",
        "outputId": "1d5e3b40-a53b-4de5-c514-9316d5e91b1b"
      },
      "outputs": [
        {
          "name": "stdout",
          "output_type": "stream",
          "text": [
            "[[ 5  3 -1]]\n"
          ]
        }
      ],
      "source": [
        "num = np.array ([\n",
        "                   [5,3,-1],\n",
        "])\n",
        "print (num)"
      ]
    },
    {
      "cell_type": "markdown",
      "metadata": {
        "id": "kb_R3vsiHrXv"
      },
      "source": [
        "2.Given the system of linear combinations below, try to encode it as a matrix. Also describe the matrix.\n"
      ]
    },
    {
      "cell_type": "markdown",
      "metadata": {
        "id": "wF9r7agcIE2N"
      },
      "source": [
        "$$\n",
        "A = \\left\\{\\begin{array}\n",
        "5x_1 + 2x_2 +x_3\\\\\n",
        "4x_2 - x_3\\\\\n",
        "10x_3\n",
        "\\end{array}\\right.\n",
        "$$\n"
      ]
    },
    {
      "cell_type": "markdown",
      "metadata": {
        "id": "4wAjRyR7wax-"
      },
      "source": [
        "##Answer"
      ]
    },
    {
      "cell_type": "code",
      "execution_count": null,
      "metadata": {
        "colab": {
          "base_uri": "https://localhost:8080/"
        },
        "id": "gmOXsYrjZ6iK",
        "outputId": "cb930518-2fd9-4277-84a8-88bededf94e5"
      },
      "outputs": [
        {
          "name": "stdout",
          "output_type": "stream",
          "text": [
            "[[ 1  2  1]\n",
            " [ 0  4 -1]\n",
            " [ 0  0 10]]\n"
          ]
        }
      ],
      "source": [
        "num_A = np.array ([\n",
        "                   [1,2,1],\n",
        "                   [0,4,-1],\n",
        "                   [0,0,10],\n",
        "])\n",
        "print (num_A)"
      ]
    },
    {
      "cell_type": "markdown",
      "metadata": {
        "id": "xbGjYyjtIHoT"
      },
      "source": [
        "3.Given the matrix below, express it as a linear combination in a markdown and a LaTeX markdown\n"
      ]
    },
    {
      "cell_type": "code",
      "execution_count": null,
      "metadata": {
        "id": "w3zm3trCJM7r"
      },
      "outputs": [],
      "source": [
        "G = np.array([\n",
        "    [1,7,8],\n",
        "    [2,2,2],\n",
        "    [4,6,7]\n",
        "])"
      ]
    },
    {
      "cell_type": "markdown",
      "metadata": {
        "id": "06Zca5p3wfk1"
      },
      "source": [
        "##Answer"
      ]
    },
    {
      "cell_type": "markdown",
      "metadata": {
        "id": "VyiFqPgmj6TJ"
      },
      "source": [
        "#Linear Combination:\n",
        "$$\n",
        "G = \\left\\{\n",
        "\\begin{array}\n",
        "1x_1 + 7x_2 +8x_3\\\\\n",
        "2x_1 + 2x_2 +2x_3\\\\\n",
        "4x_1 + 6x_2 +7x_3\n",
        "\\end{array}\\right.\n",
        "$$\n"
      ]
    },
    {
      "cell_type": "markdown",
      "metadata": {
        "id": "nzI5KWFpmb-H"
      },
      "source": [
        "#LaTex Markdown\n",
        "$$\n",
        "G=\\begin{bmatrix} 1 & 7 & 8 \\\\ 2 & 2 & 2 \\\\ 4 & 6 & 7\\end{bmatrix} \\\\\n",
        "$$\n"
      ]
    },
    {
      "cell_type": "markdown",
      "metadata": {
        "id": "LDdPgy4rIIyc"
      },
      "source": [
        "4.Given the matrix below, display the output as a LaTeX markdown also express it as a system of linear combinations.\n"
      ]
    },
    {
      "cell_type": "code",
      "execution_count": null,
      "metadata": {
        "colab": {
          "base_uri": "https://localhost:8080/"
        },
        "id": "_X0xshanJMcr",
        "outputId": "74b19e7e-ab05-4256-c018-e1837be336cd"
      },
      "outputs": [
        {
          "data": {
            "text/plain": [
              "array([[1, 0, 0],\n",
              "       [2, 2, 0],\n",
              "       [4, 6, 7]])"
            ]
          },
          "execution_count": 90,
          "metadata": {},
          "output_type": "execute_result"
        }
      ],
      "source": [
        "H = np.tril(G)\n",
        "H"
      ]
    },
    {
      "cell_type": "markdown",
      "metadata": {
        "id": "7TYfUjuxnS76"
      },
      "source": [
        "#LaTex Markdown\n",
        "\n",
        "$$\n",
        "H=\\begin{bmatrix} 1 & 0 & 0 \\\\ 2 & 2 & 0 \\\\ 4 & 6 & 7\\end{bmatrix} \\\\\n",
        "$$\n"
      ]
    },
    {
      "cell_type": "markdown",
      "metadata": {
        "id": "R9BNWSfGncwd"
      },
      "source": [
        "#Linear Combination\n",
        "\n",
        "$$\n",
        "H = \\left\\{\n",
        "\\begin{array}\n",
        "1x_1 \\\\\n",
        "2x_1 + 2x_2\\\\\n",
        "4x_1 + 6x_2 +7x_3\n",
        "\\end{array}\\right.\n",
        "$$\n"
      ]
    },
    {
      "cell_type": "markdown",
      "metadata": {
        "id": "sFO4kT0qKt1R"
      },
      "source": [
        "#Matrix Algebra"
      ]
    },
    {
      "cell_type": "markdown",
      "metadata": {
        "id": "l4fx4wiwojuJ"
      },
      "source": [
        "###Addition"
      ]
    },
    {
      "cell_type": "code",
      "execution_count": null,
      "metadata": {
        "colab": {
          "base_uri": "https://localhost:8080/"
        },
        "id": "Bu1tQHXnoq6U",
        "outputId": "6c6a651c-f779-43e5-c395-6bdc9b66e62b"
      },
      "outputs": [
        {
          "data": {
            "text/plain": [
              "array([[3, 4],\n",
              "       [2, 3],\n",
              "       [5, 2]])"
            ]
          },
          "execution_count": 13,
          "metadata": {},
          "output_type": "execute_result"
        }
      ],
      "source": [
        "A = np.array([\n",
        "    [1,2],\n",
        "    [2,3],\n",
        "    [4,1]\n",
        "])\n",
        "B = np.array([\n",
        "    [2,2],\n",
        "    [0,0],\n",
        "    [1,1]\n",
        "])\n",
        "A+B"
      ]
    },
    {
      "cell_type": "code",
      "execution_count": null,
      "metadata": {
        "colab": {
          "base_uri": "https://localhost:8080/"
        },
        "id": "T4YJoTSZoy-L",
        "outputId": "ca04b2ae-7d4b-4071-c4b0-cd772c44e822"
      },
      "outputs": [
        {
          "data": {
            "text/plain": [
              "array([[3, 4],\n",
              "       [4, 5],\n",
              "       [6, 3]])"
            ]
          },
          "execution_count": 14,
          "metadata": {},
          "output_type": "execute_result"
        }
      ],
      "source": [
        "2+A ##Broadcasting\n",
        "# 2*np.ones(A.shape)+A"
      ]
    },
    {
      "cell_type": "markdown",
      "metadata": {
        "id": "2XlxTenYo3TW"
      },
      "source": [
        "###Subtraction"
      ]
    },
    {
      "cell_type": "code",
      "execution_count": null,
      "metadata": {
        "colab": {
          "base_uri": "https://localhost:8080/"
        },
        "id": "yk8D9chPo5Zo",
        "outputId": "ff1ca52c-8949-4496-ee8b-7def9499c747"
      },
      "outputs": [
        {
          "data": {
            "text/plain": [
              "array([[-1,  0],\n",
              "       [ 2,  3],\n",
              "       [ 3,  0]])"
            ]
          },
          "execution_count": 15,
          "metadata": {},
          "output_type": "execute_result"
        }
      ],
      "source": [
        "A-B\n"
      ]
    },
    {
      "cell_type": "code",
      "execution_count": null,
      "metadata": {
        "colab": {
          "base_uri": "https://localhost:8080/"
        },
        "id": "0yR6pfeUo7J1",
        "outputId": "13a69c21-5ae4-43be-94fa-ee5472bbd447"
      },
      "outputs": [
        {
          "data": {
            "text/plain": [
              "array([[ True,  True],\n",
              "       [ True,  True],\n",
              "       [ True,  True]])"
            ]
          },
          "execution_count": 16,
          "metadata": {},
          "output_type": "execute_result"
        }
      ],
      "source": [
        "3-B == 3*np.ones(B.shape)-B\n"
      ]
    },
    {
      "cell_type": "markdown",
      "metadata": {
        "id": "X8x2u7i0o9LP"
      },
      "source": [
        "###Element-wise Multiplication\n"
      ]
    },
    {
      "cell_type": "code",
      "execution_count": null,
      "metadata": {
        "colab": {
          "base_uri": "https://localhost:8080/"
        },
        "id": "JPaHddqDpB-t",
        "outputId": "e44e60e6-ad58-44ad-b86c-22627847878c"
      },
      "outputs": [
        {
          "data": {
            "text/plain": [
              "array([[2, 4],\n",
              "       [0, 0],\n",
              "       [4, 1]])"
            ]
          },
          "execution_count": 17,
          "metadata": {},
          "output_type": "execute_result"
        }
      ],
      "source": [
        "A*B\n",
        "np.multiply(A,B)"
      ]
    },
    {
      "cell_type": "code",
      "execution_count": null,
      "metadata": {
        "colab": {
          "base_uri": "https://localhost:8080/"
        },
        "id": "8885GA2_pD-B",
        "outputId": "18d0a1f4-18c2-4317-9b2f-ec5c0e3bf109"
      },
      "outputs": [
        {
          "data": {
            "text/plain": [
              "array([[2, 4],\n",
              "       [4, 6],\n",
              "       [8, 2]])"
            ]
          },
          "execution_count": 18,
          "metadata": {},
          "output_type": "execute_result"
        }
      ],
      "source": [
        "2*A\n"
      ]
    },
    {
      "cell_type": "code",
      "execution_count": null,
      "metadata": {
        "colab": {
          "base_uri": "https://localhost:8080/",
          "height": 167
        },
        "id": "KJgio7qqpF4E",
        "outputId": "fb421693-f77e-4df5-88f6-da038f5f5228"
      },
      "outputs": [
        {
          "ename": "ValueError",
          "evalue": "ignored",
          "output_type": "error",
          "traceback": [
            "\u001b[0;31m---------------------------------------------------------------------------\u001b[0m",
            "\u001b[0;31mValueError\u001b[0m                                Traceback (most recent call last)",
            "\u001b[0;32m<ipython-input-19-5016aafd2858>\u001b[0m in \u001b[0;36m<module>\u001b[0;34m()\u001b[0m\n\u001b[0;32m----> 1\u001b[0;31m \u001b[0mA\u001b[0m\u001b[0;34m@\u001b[0m\u001b[0mB\u001b[0m\u001b[0;34m\u001b[0m\u001b[0;34m\u001b[0m\u001b[0m\n\u001b[0m",
            "\u001b[0;31mValueError\u001b[0m: matmul: Input operand 1 has a mismatch in its core dimension 0, with gufunc signature (n?,k),(k,m?)->(n?,m?) (size 3 is different from 2)"
          ]
        }
      ],
      "source": [
        "A@B\n"
      ]
    },
    {
      "cell_type": "code",
      "execution_count": null,
      "metadata": {
        "colab": {
          "base_uri": "https://localhost:8080/"
        },
        "id": "L3w6bLeIpH_T",
        "outputId": "8f1dbb9b-f3b4-45f2-828c-5f5024ac86fb"
      },
      "outputs": [
        {
          "data": {
            "text/plain": [
              "array([[5.e-01, 1.e+00],\n",
              "       [2.e+10, 3.e+10],\n",
              "       [4.e+00, 1.e+00]])"
            ]
          },
          "execution_count": 20,
          "metadata": {},
          "output_type": "execute_result"
        }
      ],
      "source": [
        "alpha=10**-10\n",
        "A/(alpha+B)"
      ]
    },
    {
      "cell_type": "code",
      "execution_count": null,
      "metadata": {
        "colab": {
          "base_uri": "https://localhost:8080/"
        },
        "id": "lU6r3vQCpKz_",
        "outputId": "fda02abb-48e9-479a-8144-6cdf98976f69"
      },
      "outputs": [
        {
          "data": {
            "text/plain": [
              "array([[3, 4],\n",
              "       [2, 3],\n",
              "       [5, 2]])"
            ]
          },
          "execution_count": 21,
          "metadata": {},
          "output_type": "execute_result"
        }
      ],
      "source": [
        "np.add(A,B)"
      ]
    },
    {
      "cell_type": "markdown",
      "metadata": {
        "id": "NKOGOIMkpMNN"
      },
      "source": [
        "#**Activity**"
      ]
    },
    {
      "cell_type": "markdown",
      "source": [
        "##Task 1\n",
        "Create a function named mat_desc() that througouhly describes a matrix, it should:\n",
        "\n",
        "\n",
        "1. Displays the shape, size, and rank of the matrix.\n",
        "2. Displays whether the matrix is square or non-square.\n",
        "3. Displays whether the matrix is an empty matrix.\n",
        "4. Displays if the matrix is an identity, ones, or zeros matrix\n",
        "\n",
        "Use 3 sample matrices in which their shapes are not lower than (3,3). In your methodology, create a flowchart discuss the functions and methods you have done. Present your results in the results section showing the description of each matrix you have declared."
      ],
      "metadata": {
        "id": "DH4aEihHxP8h"
      }
    },
    {
      "cell_type": "code",
      "source": [
        "## Function area\n",
        "\n",
        "import numpy as np"
      ],
      "metadata": {
        "id": "ezspMWKShFoV"
      },
      "execution_count": null,
      "outputs": []
    },
    {
      "cell_type": "code",
      "source": [
        "## Matrix declarations\n",
        "\n",
        "def mat_desc(matrix):\n",
        "  if matrix.size >0:\n",
        "    is_square= True if matrix.shape[0] == matrix.shape[1] else False\n",
        "    print (f'{matrix}\\n\\nShape:\\t{matrix.shape}\\nRank:\\t{matrix.ndim}\\nSquare:\\t{is_square}\\nMatrix is not Null')\n",
        "  else:\n",
        "    print ('Matrix is Null')"
      ],
      "metadata": {
        "id": "dm-KW_3GxrkY"
      },
      "execution_count": null,
      "outputs": []
    },
    {
      "cell_type": "code",
      "source": [
        "## Test Areas\n",
        "\n",
        "mat_1= np.ones((6,6,))\n",
        "\n",
        "print('Matrix 1:')\n",
        "mat_desc(mat_1)\n",
        "\n",
        "result = np.all((np.identity(6)))\n",
        "if result:\n",
        "  print('Identity Matrix')\n",
        "else:\n",
        "  print('Not an Identity Matrix')\n",
        "\n",
        "result = np.all((mat_1 == 1))\n",
        "if result:\n",
        "  print('Ones Matrix')\n",
        "else:\n",
        "  print('Contains non-one element')\n",
        "\n",
        "result = np.all((mat_1 == 0))\n",
        "if result:\n",
        "  print('Zero Matrix')\n",
        "else:\n",
        "  print('Contains non-zero element')"
      ],
      "metadata": {
        "id": "t1ProNJexs6G",
        "colab": {
          "base_uri": "https://localhost:8080/"
        },
        "outputId": "e3e2e0b9-1a81-4cd2-cd54-6e70b929e56f"
      },
      "execution_count": null,
      "outputs": [
        {
          "output_type": "stream",
          "name": "stdout",
          "text": [
            "Matrix 1:\n",
            "[[1. 1. 1. 1. 1. 1.]\n",
            " [1. 1. 1. 1. 1. 1.]\n",
            " [1. 1. 1. 1. 1. 1.]\n",
            " [1. 1. 1. 1. 1. 1.]\n",
            " [1. 1. 1. 1. 1. 1.]\n",
            " [1. 1. 1. 1. 1. 1.]]\n",
            "\n",
            "Shape:\t(6, 6)\n",
            "Rank:\t2\n",
            "Square:\tTrue\n",
            "Matrix is not Null\n",
            "Not an Identity Matrix\n",
            "Ones Matrix\n",
            "Contains non-zero element\n"
          ]
        }
      ]
    },
    {
      "cell_type": "code",
      "source": [
        "## Test Areas\n",
        "\n",
        "mat_2= np.zeros((5,10))\n",
        "print('Matrix 2:')\n",
        "mat_desc(mat_2)\n",
        "\n",
        "result = np.all((np.identity(5)))\n",
        "if result:\n",
        "  print('Identity Matrix')\n",
        "else:\n",
        "  print('Not an Identity Matrix')\n",
        "\n",
        "result = np.all((mat_2 == 1))\n",
        "if result:\n",
        "  print('Ones Matrix')\n",
        "else:\n",
        "  print('Contains non-one element')\n",
        "\n",
        "result = np.all((mat_2 == 0))\n",
        "if result:\n",
        "  print('Zero Matrix')\n",
        "else:\n",
        "  print('Contains non-zero element')"
      ],
      "metadata": {
        "id": "ltE71ODrQvSj",
        "colab": {
          "base_uri": "https://localhost:8080/"
        },
        "outputId": "67e6e741-7e5a-4905-e1d8-2834647d1039"
      },
      "execution_count": null,
      "outputs": [
        {
          "output_type": "stream",
          "name": "stdout",
          "text": [
            "Matrix 2:\n",
            "[[0. 0. 0. 0. 0. 0. 0. 0. 0. 0.]\n",
            " [0. 0. 0. 0. 0. 0. 0. 0. 0. 0.]\n",
            " [0. 0. 0. 0. 0. 0. 0. 0. 0. 0.]\n",
            " [0. 0. 0. 0. 0. 0. 0. 0. 0. 0.]\n",
            " [0. 0. 0. 0. 0. 0. 0. 0. 0. 0.]]\n",
            "\n",
            "Shape:\t(5, 10)\n",
            "Rank:\t2\n",
            "Square:\tFalse\n",
            "Matrix is not Null\n",
            "Not an Identity Matrix\n",
            "Contains non-one element\n",
            "Zero Matrix\n"
          ]
        }
      ]
    },
    {
      "cell_type": "code",
      "source": [
        "## Test Areas\n",
        "\n",
        "mat_3= np.array ([   \n",
        "                  [13,67,89,90,67,55,99],\n",
        "                  [55,78,6,33,900,0,3],\n",
        "                  [21,34,5,88,93,87,54],\n",
        "                  [27,76,98,0,96,26,37],\n",
        "                  [4,5,3,9,2,8,9],\n",
        "                  [25,30,11,3,1,27,8],\n",
        "                  [13,69,0,65,7,8,45]         \n",
        "])\n",
        "print('Matrix 3:')\n",
        "mat_desc(mat_3)\n",
        "\n",
        "result = np.all((np.identity(7)))\n",
        "if result:\n",
        "  print('Identity Matrix')\n",
        "else:\n",
        "  print('Not an Identity Matrix')\n",
        "\n",
        "result = np.all((mat_3 == 1))\n",
        "if result:\n",
        "  print('Ones Matrix')\n",
        "else:\n",
        "  print('Contains non-one element')\n",
        "\n",
        "result = np.all((mat_3 == 0))\n",
        "if result:\n",
        "  print('Zero Matrix')\n",
        "else:\n",
        "  print('Contains non-zero element')"
      ],
      "metadata": {
        "id": "ONVIOqkHQvaU",
        "colab": {
          "base_uri": "https://localhost:8080/"
        },
        "outputId": "0fb585fc-564f-457a-c4e0-cd3ecbed9f9d"
      },
      "execution_count": null,
      "outputs": [
        {
          "output_type": "stream",
          "name": "stdout",
          "text": [
            "Matrix 3:\n",
            "[[ 13  67  89  90  67  55  99]\n",
            " [ 55  78   6  33 900   0   3]\n",
            " [ 21  34   5  88  93  87  54]\n",
            " [ 27  76  98   0  96  26  37]\n",
            " [  4   5   3   9   2   8   9]\n",
            " [ 25  30  11   3   1  27   8]\n",
            " [ 13  69   0  65   7   8  45]]\n",
            "\n",
            "Shape:\t(7, 7)\n",
            "Rank:\t2\n",
            "Square:\tTrue\n",
            "Matrix is not Null\n",
            "Not an Identity Matrix\n",
            "Contains non-one element\n",
            "Contains non-zero element\n"
          ]
        }
      ]
    },
    {
      "cell_type": "markdown",
      "source": [
        "##Task 2\n",
        "Create a function named mat_operations() that takes in two matrices a input parameters it should:\n",
        "\n",
        "1. Determines if the matrices are viable for operation and returns your own error message if they are not viable.\n",
        "2. Returns the sum of the matrices.\n",
        "3. Returns the difference of the matrices.\n",
        "4. Returns the element-wise multiplication of the matrices.\n",
        "5. Returns the element-wise division of the matrices.\n",
        "\n",
        "Use 3 sample matrices in which their shapes are not lower than (3x3). In your methodology, create a flowchart discuss the functions and methods you have done. Present your results in the results section showing the description of each matrix you have declared."
      ],
      "metadata": {
        "id": "AKJqVauyx8E3"
      }
    },
    {
      "cell_type": "code",
      "source": [
        "import numpy as np\n",
        "import matplotlib.pyplot as plt\n",
        "import scipy.linalg as la\n",
        "%matplotlib inline"
      ],
      "metadata": {
        "id": "yTMpWd8VwICY"
      },
      "execution_count": null,
      "outputs": []
    },
    {
      "cell_type": "code",
      "source": [
        "def mat_operations(matrix):\n",
        "  print (f'{matrix}')"
      ],
      "metadata": {
        "id": "6oKXqOhOySr6"
      },
      "execution_count": null,
      "outputs": []
    },
    {
      "cell_type": "code",
      "source": [
        "R4 = int(input('Enter the number of rows: '))\n",
        "C4 = int(input('Enter the number of columns: '))\n",
        "\n",
        "print('\\nEnter',R4*C4,'values for Matrix 1\\n\\t(NOTE: Use space for separating the numbers)\\n\\t(NOTE:Your first',C4,' number/s would be the first row):')\n",
        "m4 = list(map(int, input().split()))\n",
        "mat_4 = np.array(m4).reshape(R4, C4)\n",
        "print('\\nMatrix 4 is:')\n",
        "mat_operations(mat_4)\n",
        "\n",
        "print('----------------------------------------------')\n",
        "\n",
        "R5 = int(input('Enter the number of rows: '))\n",
        "C5 = int(input('Enter the number of columns: '))\n",
        "\n",
        "print('\\nEnter',R5*C5,'values for Matrix 1\\n\\t(NOTE: Use space for separating the numbers)\\n\\t(NOTE: Your first',C5,' number/s would be the first row):')\n",
        "m5 = list(map(int, input().split()))\n",
        "mat_5 = np.array(m5).reshape(R5, C5)\n",
        "print('\\nMatrix 5 is:')\n",
        "mat_operations(mat_5)\n",
        "\n",
        "print('----------------------------------------------')\n",
        "\n",
        "R6 = int(input('Enter the number of rows: '))\n",
        "C6 = int(input('Enter the number of columns: '))\n",
        "\n",
        "print('\\nEnter',R6*C6,'values for Matrix 1\\n\\t(NOTE: Use space for separating the numbers)\\n\\t(NOTE: Your first',C6,' number/s would be the first row):')\n",
        "m6 = list(map(int, input().split()))\n",
        "mat_6 = np.array(m6).reshape(R6, C6)\n",
        "print('\\nMatrix 6 is:')\n",
        "mat_operations(mat_6)\n",
        "\n",
        "print('----------------------------------------------')\n",
        "\n",
        "R7 = int(input('Enter the number of rows: '))\n",
        "C7 = int(input('Enter the number of columns: '))\n",
        "\n",
        "print('\\nEnter',R7*C7,'values for Matrix 1\\n\\t(NOTE: Use space for separating the numbers)\\n\\t(NOTE: Your first',C7,' number/s would be the first row):')\n",
        "m7 = list(map(int, input().split()))\n",
        "mat_7 = np.array(m7).reshape(R7, C7)\n",
        "print('\\nMatrix 7 is:')\n",
        "mat_operations(mat_7)"
      ],
      "metadata": {
        "colab": {
          "base_uri": "https://localhost:8080/"
        },
        "id": "Leg9ODYfzKlW",
        "outputId": "be443569-9dc6-43d0-8b6b-b0610477e711"
      },
      "execution_count": null,
      "outputs": [
        {
          "output_type": "stream",
          "name": "stdout",
          "text": [
            "Enter the number of rows: 3\n",
            "Enter the number of columns: 3\n",
            "\n",
            "Enter 9 values for Matrix 1\n",
            "\t(NOTE: Use space for separating the numbers)\n",
            "\t(NOTE:Your first 3  number/s would be the first row):\n",
            "1 2 3 4 5 6 7 8 9\n",
            "\n",
            "Matrix 4 is:\n",
            "[[1 2 3]\n",
            " [4 5 6]\n",
            " [7 8 9]]\n",
            "----------------------------------------------\n",
            "Enter the number of rows: 3\n",
            "Enter the number of columns: 3\n",
            "\n",
            "Enter 9 values for Matrix 1\n",
            "\t(NOTE: Use space for separating the numbers)\n",
            "\t(NOTE: Your first 3  number/s would be the first row):\n",
            "9 8 7 6 5 4 3 2 1\n",
            "\n",
            "Matrix 5 is:\n",
            "[[9 8 7]\n",
            " [6 5 4]\n",
            " [3 2 1]]\n",
            "----------------------------------------------\n",
            "Enter the number of rows: 3\n",
            "Enter the number of columns: 3\n",
            "\n",
            "Enter 9 values for Matrix 1\n",
            "\t(NOTE: Use space for separating the numbers)\n",
            "\t(NOTE: Your first 3  number/s would be the first row):\n",
            "-7 -4 -1 8 5 2 -9 6 -3\n",
            "\n",
            "Matrix 6 is:\n",
            "[[-7 -4 -1]\n",
            " [ 8  5  2]\n",
            " [-9  6 -3]]\n",
            "----------------------------------------------\n",
            "Enter the number of rows: 4\n",
            "Enter the number of columns: 4\n",
            "\n",
            "Enter 16 values for Matrix 1\n",
            "\t(NOTE: Use space for separating the numbers)\n",
            "\t(NOTE: Your first 4  number/s would be the first row):\n",
            "1 2 3 4 5 6 7 8 9 -9 -8 -7 -6 -5 -4 -2\n",
            "\n",
            "Matrix 7 is:\n",
            "[[ 1  2  3  4]\n",
            " [ 5  6  7  8]\n",
            " [ 9 -9 -8 -7]\n",
            " [-6 -5 -4 -2]]\n"
          ]
        }
      ]
    },
    {
      "cell_type": "code",
      "source": [
        "#Determines if the matrices are viable for operation and returns your own error message if they are not viable.\n",
        "print('Matrix 4:')\n",
        "mat_operations(mat_4)\n",
        "print('\\nMatrix 5:')\n",
        "mat_operations(mat_5)\n",
        "result1 = (mat_4.shape == mat_5.shape)\n",
        "if result1:\n",
        "  print('\\nMatrix 4 and Matrix 5 are Viable for Operation')\n",
        "else:\n",
        "  print('\\nMatrix 4 and Matrix 5 are Not Viable for Operation')\n",
        "\n",
        "print('\\n------------------------------------------------------')\n",
        "\n",
        "print('Matrix 4:')\n",
        "mat_operations(mat_4)\n",
        "print('\\nMatrix 6:')\n",
        "mat_operations(mat_6)\n",
        "result2 = (mat_4.shape == mat_6.shape)\n",
        "if result2:\n",
        "  print('\\nMatrix 4 and Matrix 6 are Viable for Operation')\n",
        "else:\n",
        "  print('\\nMatrix 4 and Matrix 6 are Not Viable for Operation')\n",
        "\n",
        "print('\\n------------------------------------------------------')\n",
        "\n",
        "print('Matrix 5:')\n",
        "mat_operations(mat_5)\n",
        "print('\\nMatrix 6:')\n",
        "mat_operations(mat_6) \n",
        "result3 = (mat_5.shape == mat_6.shape)\n",
        "if result3:\n",
        "  print('\\nMatrix 5 and Matrix 6 are Viable for Operation')\n",
        "else:\n",
        "  print('\\nMatrix 5 and Matrix 6 are Not Viable for Operation')\n",
        "\n",
        "print('\\n------------------------------------------------------')\n",
        "\n",
        "print('Matrix 4:')\n",
        "mat_operations(mat_4)\n",
        "print('\\nMatrix 7:')\n",
        "mat_operations(mat_7) \n",
        "result4 = (mat_4.shape == mat_7.shape)\n",
        "if result4:\n",
        "  print('\\nMatrix 4 and Matrix 7 are Viable for Operation')\n",
        "else:\n",
        "  print('\\nMatrix 4 and Matrix 7 are Not Viable for Operation')"
      ],
      "metadata": {
        "id": "nPD9BYW1yMgn",
        "colab": {
          "base_uri": "https://localhost:8080/"
        },
        "outputId": "935ed4aa-ee46-4631-de40-28dded59fd96"
      },
      "execution_count": null,
      "outputs": [
        {
          "output_type": "stream",
          "name": "stdout",
          "text": [
            "Matrix 4:\n",
            "[[1 2 3]\n",
            " [4 5 6]\n",
            " [7 8 9]]\n",
            "\n",
            "Matrix 5:\n",
            "[[9 8 7]\n",
            " [6 5 4]\n",
            " [3 2 1]]\n",
            "\n",
            "Matrix 4 and Matrix 5 are Viable for Operation\n",
            "\n",
            "------------------------------------------------------\n",
            "Matrix 4:\n",
            "[[1 2 3]\n",
            " [4 5 6]\n",
            " [7 8 9]]\n",
            "\n",
            "Matrix 6:\n",
            "[[-7 -4 -1]\n",
            " [ 8  5  2]\n",
            " [-9  6 -3]]\n",
            "\n",
            "Matrix 4 and Matrix 6 are Viable for Operation\n",
            "\n",
            "------------------------------------------------------\n",
            "Matrix 5:\n",
            "[[9 8 7]\n",
            " [6 5 4]\n",
            " [3 2 1]]\n",
            "\n",
            "Matrix 6:\n",
            "[[-7 -4 -1]\n",
            " [ 8  5  2]\n",
            " [-9  6 -3]]\n",
            "\n",
            "Matrix 5 and Matrix 6 are Viable for Operation\n",
            "\n",
            "------------------------------------------------------\n",
            "Matrix 4:\n",
            "[[1 2 3]\n",
            " [4 5 6]\n",
            " [7 8 9]]\n",
            "\n",
            "Matrix 7:\n",
            "[[ 1  2  3  4]\n",
            " [ 5  6  7  8]\n",
            " [ 9 -9 -8 -7]\n",
            " [-6 -5 -4 -2]]\n",
            "\n",
            "Matrix 4 and Matrix 7 are Not Viable for Operation\n"
          ]
        }
      ]
    },
    {
      "cell_type": "code",
      "source": [
        "#Sum of the matrices\n",
        "\n",
        "if result1:\n",
        "  sum_1= mat_4 + mat_5\n",
        "  print('Sum result 1:\\n',sum_1)\n",
        "else:\n",
        "  print('Matrix 4 and Matrix 5 are Not Viable for Operation')\n",
        "\n",
        "if result3:\n",
        "  sum_2= mat_5 + mat_6\n",
        "  print('\\n\\nSum result 2:\\n',sum_2)\n",
        "else:\n",
        "  print('\\n\\nMatrix 5 and Matrix 6 are Not Viable for Operation')\n",
        "\n",
        "if result4:\n",
        "  sum_4= mat_4 + mat_7\n",
        "  print('\\n\\nSum result 3:\\n',sum_4)\n",
        "else:\n",
        "  print('\\n\\nMatrix 4 and Matrix 7 are Not Viable for Operation')"
      ],
      "metadata": {
        "id": "mugwhGTqyMvn",
        "colab": {
          "base_uri": "https://localhost:8080/"
        },
        "outputId": "1297e0bc-dbf6-4129-afb6-73d8658330e6"
      },
      "execution_count": null,
      "outputs": [
        {
          "output_type": "stream",
          "name": "stdout",
          "text": [
            "Sum result 1:\n",
            " [[10 10 10]\n",
            " [10 10 10]\n",
            " [10 10 10]]\n",
            "\n",
            "\n",
            "Sum result 2:\n",
            " [[ 2  4  6]\n",
            " [14 10  6]\n",
            " [-6  8 -2]]\n",
            "\n",
            "\n",
            "Matrix 4 and Matrix 7 are Not Viable for Operation\n"
          ]
        }
      ]
    },
    {
      "cell_type": "code",
      "source": [
        "#Difference of the matrices\n",
        "\n",
        "if result2:\n",
        "  d_1= mat_4 - mat_6\n",
        "  print('Difference result 1:\\n',d_1)\n",
        "else:\n",
        "  print('Matrix 4 and Matrix 6 are Not Viable for Operation')\n",
        "\n",
        "if result4:\n",
        "  sum_4= mat_4 - mat_7\n",
        "  print('\\n\\nDifference result 2:\\n',sum_4)\n",
        "else:\n",
        "  print('\\n\\nMatrix 4 and Matrix 7 are Not Viable for Operation')\n",
        "\n",
        "if result3:\n",
        "  d_2= mat_5 - mat_6\n",
        "  print('\\n\\nDifference result 3:\\n',d_2)\n",
        "else:\n",
        "  print('\\n\\nMatrix 5 and Matrix 6 are Not Viable for Operation')"
      ],
      "metadata": {
        "id": "IQWP7Y7J9jYJ",
        "colab": {
          "base_uri": "https://localhost:8080/"
        },
        "outputId": "2d94032d-15aa-4b0e-c981-2d5b28579ecb"
      },
      "execution_count": null,
      "outputs": [
        {
          "output_type": "stream",
          "name": "stdout",
          "text": [
            "Difference result 1:\n",
            " [[ 8  6  4]\n",
            " [-4  0  4]\n",
            " [16  2 12]]\n",
            "\n",
            "\n",
            "Matrix 4 and Matrix 7 are Not Viable for Operation\n",
            "\n",
            "\n",
            "Difference result 3:\n",
            " [[16 12  8]\n",
            " [-2  0  2]\n",
            " [12 -4  4]]\n"
          ]
        }
      ]
    },
    {
      "cell_type": "code",
      "source": [
        "#Element-wise multiplication of the matrices\n",
        "\n",
        "if result1:\n",
        "  m_1= mat_4 * mat_5\n",
        "  print('Product result 1:\\n',m_1)\n",
        "else:\n",
        "  print('Matrix 4 and Matrix 5 are Not Viable for Operation')\n",
        "\n",
        "if result3:\n",
        "  m_2= mat_5 * mat_6\n",
        "  print('\\n\\nProduct result 2:\\n',m_2)\n",
        "else:\n",
        "  print('\\n\\nMatrix 5 and Matrix 6 are Not Viable for Operation')\n",
        "\n",
        "if result4:\n",
        "  m_3= mat_4 * mat_7\n",
        "  print('\\n\\nProduct result 3:\\n',m_3)\n",
        "else:\n",
        "  print('\\n\\nMatrix 4 and Matrix 7 are Not Viable for Operation')"
      ],
      "metadata": {
        "id": "n_9TyU919n8-",
        "colab": {
          "base_uri": "https://localhost:8080/"
        },
        "outputId": "75d49fca-c342-445e-ba82-868f8c0d13fb"
      },
      "execution_count": null,
      "outputs": [
        {
          "output_type": "stream",
          "name": "stdout",
          "text": [
            "Product result 1:\n",
            " [[ 9 16 21]\n",
            " [24 25 24]\n",
            " [21 16  9]]\n",
            "\n",
            "\n",
            "Product result 2:\n",
            " [[-63 -32  -7]\n",
            " [ 48  25   8]\n",
            " [-27  12  -3]]\n",
            "\n",
            "\n",
            "Matrix 4 and Matrix 7 are Not Viable for Operation\n"
          ]
        }
      ]
    },
    {
      "cell_type": "code",
      "source": [
        "#Element-wise division of the matrices\n",
        "\n",
        "if result4:\n",
        "  dv_3= mat_4 / mat_7\n",
        "  print('Quotient result 1:\\n',dv_3)\n",
        "else:\n",
        "  print('Matrix 4 and Matrix 7 are Not Viable for Operation')\n",
        "\n",
        "if result2:\n",
        "  dv_1= mat_4 / mat_6\n",
        "  print('\\n\\nQuotient result 2:\\n',dv_1)\n",
        "else:\n",
        "  print('\\n\\nMatrix 4 and Matrix 6 are Not Viable for Operation')\n",
        "\n",
        "if result3:\n",
        "  dv_2= mat_5 / mat_6\n",
        "  print('\\n\\nQuotient result 3:\\n',dv_2)\n",
        "else:\n",
        "  print('\\n\\nMatrix 5 and Matrix 6 are Not Viable for Operation')"
      ],
      "metadata": {
        "id": "eqmWTaaw9sPf",
        "colab": {
          "base_uri": "https://localhost:8080/"
        },
        "outputId": "049aaaf1-7728-4ceb-eb27-091ecf4d4338"
      },
      "execution_count": null,
      "outputs": [
        {
          "output_type": "stream",
          "name": "stdout",
          "text": [
            "Matrix 4 and Matrix 7 are Not Viable for Operation\n",
            "\n",
            "\n",
            "Quotient result 2:\n",
            " [[-0.14285714 -0.5        -3.        ]\n",
            " [ 0.5         1.          3.        ]\n",
            " [-0.77777778  1.33333333 -3.        ]]\n",
            "\n",
            "\n",
            "Quotient result 3:\n",
            " [[-1.28571429 -2.         -7.        ]\n",
            " [ 0.75        1.          2.        ]\n",
            " [-0.33333333  0.33333333 -0.33333333]]\n"
          ]
        }
      ]
    },
    {
      "cell_type": "markdown",
      "metadata": {
        "id": "Dkb5l3KwyT95"
      },
      "source": [
        "##Conclusion\n",
        "\n",
        "\n",
        "> Matrix is a method or technique that is widely used in mathematics and physics to easier solve linear equations.[9] In this laboratory, the students gained knowledge about how the matrix can be applied to programming. They have learned that matrices can be: converted into a linear combination or LaTex Markdown, classified into zero matrix, identity matrix or ones matrix, and solved with different operations such as addition, subtraction, multiplication, and division. With the help of the functions and variables like NumPy or np, and “describe_mat(),” “mat_desc(),” & “mat_operations(),” the students were able to run programs that prints matrices and define them. \n",
        "\n",
        "\n",
        "> The world today adapted to the advancement of technology which increased human reliability, especially in the future. The current generation is welcomed in the world wherein they must be skilled and knowledgeable enough on technology to survive and work as a person. [10] This technology nowadays is composed of endless codes to make something work, including matrix. Therefore when technology has an emerging problem, it is only through itself also that it can be solved. One application that matrix can be used as a solution would be on Wireless Communication because it is a sensor that detects problems on wireless communication and its signal estimation. Matrices are said to be used as wireless signals(sensor arrays) in which the information is extracted and operated. The sensor arrays detect and locate the problem radiating provenance by the temporal and spatial information collected from the sensors. The matrices can help the process of illustrating digital images.[9]"
      ]
    }
  ],
  "metadata": {
    "colab": {
      "collapsed_sections": [],
      "name": "Assignment 3.ipynb",
      "provenance": [],
      "authorship_tag": "ABX9TyPZVGd27e9CrdDne8/+KF16",
      "include_colab_link": true
    },
    "kernelspec": {
      "display_name": "Python 3",
      "name": "python3"
    },
    "language_info": {
      "name": "python"
    }
  },
  "nbformat": 4,
  "nbformat_minor": 0
}