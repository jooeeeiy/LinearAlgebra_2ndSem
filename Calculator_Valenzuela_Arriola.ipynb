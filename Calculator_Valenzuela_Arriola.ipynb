{
  "nbformat": 4,
  "nbformat_minor": 0,
  "metadata": {
    "colab": {
      "name": "Calculator_Valenzuela_Arriola",
      "provenance": [],
      "collapsed_sections": [],
      "include_colab_link": true
    },
    "kernelspec": {
      "name": "python3",
      "display_name": "Python 3"
    },
    "language_info": {
      "name": "python"
    }
  },
  "cells": [
    {
      "cell_type": "markdown",
      "metadata": {
        "id": "view-in-github",
        "colab_type": "text"
      },
      "source": [
        "<a href=\"https://colab.research.google.com/github/jooeeeiy/LinearAlgebra_2ndSem/blob/main/Calculator_Valenzuela_Arriola.ipynb\" target=\"_parent\"><img src=\"https://colab.research.google.com/assets/colab-badge.svg\" alt=\"Open In Colab\"/></a>"
      ]
    },
    {
      "cell_type": "code",
      "source": [
        "#Print: It displays the typed-text when running the program.\n",
        "print('Annyeong! Let us compute your semestral grade together!')\n",
        "\n",
        "#Input: It also displays the the typed-text when running the program but the \n",
        "#       difference is, after the the typed-text there would be a rectangle box \n",
        "#       floating wherein the user can enter any text/ require text(numbers or words).\n",
        "fname= input(\"\\n \\nFirst Name:\")\n",
        "lname= input(\"Last Name:\")\n",
        "course= input(\"Course:\")\n",
        "\n",
        "pgrade=input(\"\\nInput your Prelim Grade:\")\n",
        "mgrade=input(\"Input your Midterm Grade:\")\n",
        "fgrade=input(\"Input your Final Grade:\")\n",
        "\n",
        "\n",
        "#Float: This variable is used to convert the inputted text by the user into\n",
        "#        an integer.\n",
        "pgrade= float (pgrade)\n",
        "mgrade= float(mgrade)\n",
        "fgrade= float(fgrade)\n",
        "\n",
        "\n",
        "#Operations: There are three operations used: multiplication, addition, and \n",
        "#             division. Asterisk is a symbol for multiplication, plus sign for \n",
        "#             addition, and slash for division.\n",
        "prelim= pgrade*0.30\n",
        "midterm= mgrade*0.30\n",
        "finals= fgrade*0.40\n",
        "\n",
        "sem= prelim + midterm + finals\n",
        "grade= sem/100\n",
        "\n",
        "\n",
        "#Condition: From the name itself, the program follows a certain condition before\n",
        "#           displaying the text. \n",
        "passing= 0.70\n",
        "if (grade > passing):\n",
        "  print('\\nHello {} {} of {}. Your semstral grade is *drums*:{: .2%} \\U0001F600\\nKamsahamnida! See you next time <3' .format(fname, lname, course, grade))\n",
        "elif(grade == passing):\n",
        "  print('\\nHello {} {} of {}. Your semstral grade is *drums*:{: .2%} \\U0001F606\\nKamsahamnida! See you next time <3' .format(fname, lname, course, grade))\n",
        "else:\n",
        "  print('\\nHello {} {} of {}. Your semstral grade is *drums*:{: .2%} \\U0001F62D\\nKamsahamnida! See you next time <3' .format(fname, lname, course, grade))"
      ],
      "metadata": {
        "colab": {
          "base_uri": "https://localhost:8080/"
        },
        "outputId": "e1409b86-f09a-405c-c283-86493ccf1d39",
        "id": "9zpHEc7WQY5j"
      },
      "execution_count": null,
      "outputs": [
        {
          "output_type": "stream",
          "name": "stdout",
          "text": [
            "Annyeong! Let us compute your semestral grade together!\n",
            "\n",
            " \n",
            "First Name:Jennie\n",
            "Last Name:Kim\n",
            "Course:BS ChE\n",
            "\n",
            "Input your Prelim Grade:65\n",
            "Input your Midterm Grade:70\n",
            "Input your Final Grade:69\n",
            "\n",
            "Hello Jennie Kim of BS ChE. Your semstral grade is *drums*: 68.10% 😭\n",
            "Kamsahamnida! See you next time <3\n"
          ]
        }
      ]
    }
  ]
}