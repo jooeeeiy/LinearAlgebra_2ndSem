{
  "nbformat": 4,
  "nbformat_minor": 0,
  "metadata": {
    "colab": {
      "name": "Assignment 9_Arriola-Valenzuela.ipynb",
      "provenance": [],
      "include_colab_link": true
    },
    "kernelspec": {
      "name": "python3",
      "display_name": "Python 3"
    },
    "language_info": {
      "name": "python"
    }
  },
  "cells": [
    {
      "cell_type": "markdown",
      "metadata": {
        "id": "view-in-github",
        "colab_type": "text"
      },
      "source": [
        "<a href=\"https://colab.research.google.com/github/jooeeeiy/LinearAlgebra_2ndSem/blob/main/Assignment_9_Arriola_Valenzuela.ipynb\" target=\"_parent\"><img src=\"https://colab.research.google.com/assets/colab-badge.svg\" alt=\"Open In Colab\"/></a>"
      ]
    },
    {
      "cell_type": "markdown",
      "source": [
        "# Lab 4 - Plotting Vector using NumPy and MatPlotLib"
      ],
      "metadata": {
        "id": "X8J92aTSyK_F"
      }
    },
    {
      "cell_type": "markdown",
      "source": [
        "In this laboratory we will be discussing the basics of numerical and scientific programming by working with Vectors using NumPy and MatPlotLib.\n",
        "\n"
      ],
      "metadata": {
        "id": "YU5BijFoyO2e"
      }
    },
    {
      "cell_type": "markdown",
      "source": [
        "Objectives\n",
        "At the end of this activity you will be able to:\n",
        "\n",
        "1. Be familiar with the libraries in Python for numerical and scientific programming.\n",
        "2. Visualize vectors through Python programming.\n",
        "3. Perform simple vector operations through code.\n",
        "4. Illustrate the vector in a graph through Python programming.\n"
      ],
      "metadata": {
        "id": "iSamO1JfyRaV"
      }
    },
    {
      "cell_type": "markdown",
      "source": [
        "## Discussion"
      ],
      "metadata": {
        "id": "kstjMfHh-k3R"
      }
    },
    {
      "cell_type": "markdown",
      "source": [
        "### NumPy\n",
        "\n"
      ],
      "metadata": {
        "id": "CT1OKYjTyu96"
      }
    },
    {
      "cell_type": "markdown",
      "source": [
        "NumPy or Numerical Python, is mainly used for matrix and vector operations. It is capable of declaring computing and representing matrices. Most Python scientific programming libraries uses NumPy as the basic code.\n",
        "\n",
        "\n",
        "Scalars - Value the is only one dimensional \\ represents only the magnitude\n",
        "\n",
        "Vectors - Valeus that is multidimensional \\ represent magnitude with direction"
      ],
      "metadata": {
        "id": "W6Z5Gnj4-v14"
      }
    },
    {
      "cell_type": "markdown",
      "source": [
        "### Representing Vectors\n",
        "\n",
        "Now that you know how to represent vectors using their component and matrix form we can now hard-code them in Python. Let's say that you have the vectors:"
      ],
      "metadata": {
        "id": "_l4qG6JfzBSh"
      }
    },
    {
      "cell_type": "markdown",
      "source": [
        "$$ \n",
        "BTS = 10\\hat{x} + 78\\hat{y} -41\\hat{z}\\\\\n",
        "BP = 32\\hat{x} - 25\\hat{y}+22\\hat{z}\\\\\n",
        "EXO = 5ax + 19ay - 3az + 13xy - 12xz\\\\\n",
        "ITZY = \\hat{i} - 20\\hat{j} + 8\\hat{k}- 5\\hat{l} + 14\\hat{m}\n",
        "$$\n",
        "\n",
        "\n",
        "\n",
        "\n",
        "\n"
      ],
      "metadata": {
        "id": "YJu3I0N91Spy"
      }
    },
    {
      "cell_type": "markdown",
      "source": [
        "In which it's matrix equivalent is:\n",
        "\n",
        "$$ BTS = \\begin{bmatrix} 10 \\\\ 78\\\\-41\\end{bmatrix} , BP = \\begin{bmatrix} 32 \\\\ -25\\\\22\\end{bmatrix} , EXO = \\begin{bmatrix} 5\\\\ 19 \\\\  -3 \\\\13\\\\-12\\end{bmatrix}, ITZY = \\begin{bmatrix} 1 \\\\ -20 \\\\ 8\\\\-5\\\\14\\end{bmatrix}\n",
        "$$\n",
        "$$ BTS = \\begin{bmatrix} 10 & 78&-41\\end{bmatrix} , BP = \\begin{bmatrix} 32 & -25&22\\end{bmatrix} , EXO = \\begin{bmatrix} 5 & 19 & -3&13&-12\\end{bmatrix} , ITZY = \\begin{bmatrix} 1 & -20 & 8&-5&14\\end{bmatrix} \n",
        "$$\n",
        "\n",
        "\n",
        "\n"
      ],
      "metadata": {
        "id": "h6FeLyLJCkTW"
      }
    },
    {
      "cell_type": "markdown",
      "source": [
        "We can then start doing numpy code with this by:"
      ],
      "metadata": {
        "id": "6tRvDuVSDGn8"
      }
    },
    {
      "cell_type": "code",
      "source": [
        "## Importing necessary libraries\n",
        "import numpy as np ## 'np' here is short-hand name of the library (numpy) or a nickname."
      ],
      "metadata": {
        "id": "UFF9uYlJ4LJ0"
      },
      "execution_count": null,
      "outputs": []
    },
    {
      "cell_type": "code",
      "source": [
        "BTS = np.array([10, 78, -41])\n",
        "BP = np.array([32, -25, 22])\n",
        "EXO = np.array([\n",
        "              [5],\n",
        "              [19],\n",
        "              [-3],\n",
        "              [13],\n",
        "              [-12]\n",
        "])\n",
        "ITZY = np.array ([[1],\n",
        "              [-20],\n",
        "              [8],\n",
        "              [-5],\n",
        "              [14]\n",
        "              ])\n",
        "print('Vector BTS is ', BTS, \"\\n\")\n",
        "print('Vector BP is ', BP, \"\\n\")\n",
        "print('Vector EXO is ', EXO, \"\\n\")\n",
        "print('Vector ITZY is ', ITZY, \"\\n\")"
      ],
      "metadata": {
        "colab": {
          "base_uri": "https://localhost:8080/"
        },
        "id": "_WdZ1Qcl4Osl",
        "outputId": "b9a2d1b6-8a4b-45bd-fe85-5d006e9166cd"
      },
      "execution_count": null,
      "outputs": [
        {
          "output_type": "stream",
          "name": "stdout",
          "text": [
            "Vector BTS is  [ 10  78 -41] \n",
            "\n",
            "Vector BP is  [ 32 -25  22] \n",
            "\n",
            "Vector EXO is  [[  5]\n",
            " [ 19]\n",
            " [ -3]\n",
            " [ 13]\n",
            " [-12]] \n",
            "\n",
            "Vector ITZY is  [[  1]\n",
            " [-20]\n",
            " [  8]\n",
            " [ -5]\n",
            " [ 14]] \n",
            "\n"
          ]
        }
      ]
    },
    {
      "cell_type": "markdown",
      "source": [
        "### Describing vectors in NumPy\n",
        "Describing vectors is identifying its magnitude along with its direction. There are several ways to identify its direction either through graphical, resultant vector, or conventions. It is very important to describe the vector if we want to perform basic to advanced operations with them. The fundamental ways in describing vectors are knowing their shape, size and dimensions."
      ],
      "metadata": {
        "id": "i_glDvDs47E4"
      }
    },
    {
      "cell_type": "code",
      "source": [
        "### Checking shapes\n",
        "### Shapes tells us how many elements are there on each row and column\n",
        "\n",
        "BTS.shape\n",
        "kpop = np.array([13, 0, 9, 25, -18.9, 2])\n",
        "kpop.shape\n",
        "EXO.shape"
      ],
      "metadata": {
        "colab": {
          "base_uri": "https://localhost:8080/"
        },
        "id": "m9n14z2W49uE",
        "outputId": "9a41726c-91b0-4179-a4ba-b7569d474208"
      },
      "execution_count": null,
      "outputs": [
        {
          "output_type": "execute_result",
          "data": {
            "text/plain": [
              "(5, 1)"
            ]
          },
          "metadata": {},
          "execution_count": 3
        }
      ]
    },
    {
      "cell_type": "code",
      "source": [
        "### Checking size\n",
        "### Array/Vector sizes tells us many total number of elements are there in the vector\n",
        "\n",
        "BP.size"
      ],
      "metadata": {
        "colab": {
          "base_uri": "https://localhost:8080/"
        },
        "id": "I0G1v9FY5LVm",
        "outputId": "95f40fb2-af1b-410f-bd9f-438dc05bad8b"
      },
      "execution_count": null,
      "outputs": [
        {
          "output_type": "execute_result",
          "data": {
            "text/plain": [
              "3"
            ]
          },
          "metadata": {},
          "execution_count": 4
        }
      ]
    },
    {
      "cell_type": "code",
      "source": [
        "### Checking dimensions\n",
        "### The dimensions or rank of a vector tells us how many dimensions are there for the vector.\n",
        "\n",
        "ITZY.ndim"
      ],
      "metadata": {
        "colab": {
          "base_uri": "https://localhost:8080/"
        },
        "id": "2yEDRXCr5PCL",
        "outputId": "98b7e587-c286-4128-d85f-55116a420c77"
      },
      "execution_count": null,
      "outputs": [
        {
          "output_type": "execute_result",
          "data": {
            "text/plain": [
              "2"
            ]
          },
          "metadata": {},
          "execution_count": 5
        }
      ]
    },
    {
      "cell_type": "markdown",
      "source": [
        "Great! Now let's try to explore in performing operations with these vectors.\n",
        "\n",
        "### Addition\n",
        "The addition rule is simple, the we just need to add the elements of the matrices according to their index. So in this case if we add vector  and vector  we will have a resulting vector:"
      ],
      "metadata": {
        "id": "teZ2_ynf5Ti_"
      }
    },
    {
      "cell_type": "markdown",
      "source": [
        "\n",
        "$$ggs = 42\\hat{x} +53\\hat{y} -19\\hat{z} \\\\ \\\\or \\\\ \\\\ ggs = \\begin{bmatrix} 42 \\\\ 53\\\\-19\\end{bmatrix} $$\n",
        "\n",
        "So let's try to do that in NumPy in several number of ways:\n",
        "\n",
        "\n"
      ],
      "metadata": {
        "id": "5PHIjl185V_e"
      }
    },
    {
      "cell_type": "code",
      "source": [
        "ggs = np.add(BTS, BP) ## this is the functional method using the numpy library\n",
        "snsd = np.add(EXO, ITZY)"
      ],
      "metadata": {
        "id": "kCKrIi4R6SE0"
      },
      "execution_count": null,
      "outputs": []
    },
    {
      "cell_type": "code",
      "source": [
        "ror = BTS + BP   ## this is the explicit method, since Python does a value-reference so it can \n",
        "                 ## know that these variables would need to do array operations.\n",
        "print(ror, \"\\n\")\n",
        "\n",
        "plop = EXO + ITZY\n",
        "\n",
        "print(plop)"
      ],
      "metadata": {
        "colab": {
          "base_uri": "https://localhost:8080/"
        },
        "id": "VQVxDNe-6cjR",
        "outputId": "489b929f-86af-4433-bb41-ac4bb9f5d078"
      },
      "execution_count": null,
      "outputs": [
        {
          "output_type": "stream",
          "name": "stdout",
          "text": [
            "[ 42  53 -19] \n",
            "\n",
            "[[ 6]\n",
            " [-1]\n",
            " [ 5]\n",
            " [ 8]\n",
            " [ 2]]\n"
          ]
        }
      ]
    },
    {
      "cell_type": "code",
      "source": [
        "from numpy.lib.index_tricks import AxisConcatenator\n",
        "svt = np.array([12,8,4,2])\n",
        "ace = np.array([9,6,3,1])\n",
        "gf = np.array([10,9,8,7])\n",
        "rv = np.array([-8,-3,-3,-8])\n",
        "\n",
        "#ror = svt + ace + gf + rv\n",
        "#ror = np.multiply(gf, rv)\n",
        "\n",
        "ror = svt/ace\n",
        "ror"
      ],
      "metadata": {
        "colab": {
          "base_uri": "https://localhost:8080/"
        },
        "id": "pLYxR0n36hyV",
        "outputId": "7a585323-39ee-49ba-f7ab-675a5f1d0f4a"
      },
      "execution_count": null,
      "outputs": [
        {
          "output_type": "execute_result",
          "data": {
            "text/plain": [
              "array([1.33333333, 1.33333333, 1.33333333, 2.        ])"
            ]
          },
          "metadata": {},
          "execution_count": 8
        }
      ]
    },
    {
      "cell_type": "markdown",
      "source": [
        "Try for yourself!\n",
        "\n",
        "\n",
        "Try to implement subtraction, multiplication, and division with vectors *BTS* and *BP*"
      ],
      "metadata": {
        "id": "KB3d0V5a7Cpq"
      }
    },
    {
      "cell_type": "code",
      "source": [
        "an = BTS - BP   \n",
        "\n",
        "print(\"When vectors bts and bp are subtracted >>>\", an, \"\\n\")\n",
        "\n",
        "ny = BTS*BP   \n",
        "\n",
        "print(\"When vectors bts and bp are multiplied >>>\", ny, \"\\n\")\n",
        "\n",
        "eo = BTS/BP  \n",
        "\n",
        "print(\"When vectors bts and bp are divied >>>\", eo, \"\\n\")"
      ],
      "metadata": {
        "colab": {
          "base_uri": "https://localhost:8080/"
        },
        "id": "12bZ_aGO7TvV",
        "outputId": "cc75f11b-b3d9-4025-b699-6125aba77bd0"
      },
      "execution_count": null,
      "outputs": [
        {
          "output_type": "stream",
          "name": "stdout",
          "text": [
            "When vectors bts and bp are subtracted >>> [-22 103 -63] \n",
            "\n",
            "When vectors bts and bp are multiplied >>> [  320 -1950  -902] \n",
            "\n",
            "When vectors bts and bp are divied >>> [ 0.3125     -3.12       -1.86363636] \n",
            "\n"
          ]
        }
      ]
    },
    {
      "cell_type": "markdown",
      "source": [
        "###Scaling\n",
        "Scaling or scalar multiplication takes a scalar value and performs multiplication with a vector. Let's take the example below:"
      ],
      "metadata": {
        "id": "DC72YKjx9U98"
      }
    },
    {
      "cell_type": "markdown",
      "source": [
        "$$ sassagirl= 2*BTS $$"
      ],
      "metadata": {
        "id": "RPWbKCtG9Y_2"
      }
    },
    {
      "cell_type": "markdown",
      "source": [
        "We can do this in numpy through:\n",
        "\n"
      ],
      "metadata": {
        "id": "HknzdjUy9gDm"
      }
    },
    {
      "cell_type": "code",
      "source": [
        "#sasagirl = 2 * BTS\n",
        "sassagirl = np.multiply(2,BTS)\n",
        "sassagirl"
      ],
      "metadata": {
        "colab": {
          "base_uri": "https://localhost:8080/"
        },
        "id": "DJ5n5Cmu9hCU",
        "outputId": "9e2df1ff-a6be-406e-ff8f-33d21e4fe2ec"
      },
      "execution_count": null,
      "outputs": [
        {
          "output_type": "execute_result",
          "data": {
            "text/plain": [
              "array([ 20, 156, -82])"
            ]
          },
          "metadata": {},
          "execution_count": 16
        }
      ]
    },
    {
      "cell_type": "markdown",
      "source": [
        "Try to implement scaling with two vectors."
      ],
      "metadata": {
        "id": "8sCZoQAD9xc6"
      }
    },
    {
      "cell_type": "code",
      "source": [
        "mj= np.array ([[1,7,3,94,0],\n",
        "              [91,2,5,-10,8],\n",
        "              [13,56,7,9,-41],\n",
        "              [3,-4,8,9,13,],\n",
        "              [3,30,1,11,25]])\n",
        "\n",
        "jozel= np.array ([[0,7,54,-2,5],\n",
        "                 [19,-7,18,5,2],\n",
        "                 [25,9,54,4,0],\n",
        "                 [-3,16,1,3,5],\n",
        "                 [16,7,3,4,1]])\n",
        "\n",
        "eugene= mj * 3\n",
        "print(\"When mj matrix is scaled to 2, the answer would be represented as: \\n \\n eugene= \\n\",eugene)\n",
        "\n",
        "print('\\n _____________________________________________________________________________________________\\n')\n",
        "\n",
        "embalzado= jozel * 5\n",
        "print(\"When jozel matrix  is scaled to 5, the answer would be represented as: \\n \\n embalzado= \\n\",embalzado)"
      ],
      "metadata": {
        "id": "9GJpElo59yxi",
        "colab": {
          "base_uri": "https://localhost:8080/"
        },
        "outputId": "618ac8d0-93e4-4a9b-9e71-51eeda333017"
      },
      "execution_count": null,
      "outputs": [
        {
          "output_type": "stream",
          "name": "stdout",
          "text": [
            "When mj matrix is scaled to 2, the answer would be represented as: \n",
            " \n",
            " eugene= \n",
            " [[   3   21    9  282    0]\n",
            " [ 273    6   15  -30   24]\n",
            " [  39  168   21   27 -123]\n",
            " [   9  -12   24   27   39]\n",
            " [   9   90    3   33   75]]\n",
            "\n",
            " _____________________________________________________________________________________________\n",
            "\n",
            "When jozel matrix  is scaled to 5, the answer would be represented as: \n",
            " \n",
            " embalzado= \n",
            " [[  0  35 270 -10  25]\n",
            " [ 95 -35  90  25  10]\n",
            " [125  45 270  20   0]\n",
            " [-15  80   5  15  25]\n",
            " [ 80  35  15  20   5]]\n"
          ]
        }
      ]
    },
    {
      "cell_type": "markdown",
      "source": [
        "### MatPlotLib\n",
        "MatPlotLib or MATLab Plotting library is Python's take on MATLabs plotting feature. It is a library cor creating interactive, static, and animated visualization in Python. In addition, MatPlotLib can be used vastly from graping values to visualizing several dimensions of data - it makes things easier and what seems impossible to be possible.\n",
        "\n"
      ],
      "metadata": {
        "id": "Ogh5br3P-biF"
      }
    },
    {
      "cell_type": "markdown",
      "source": [
        "Visualizing Data\n",
        "\n",
        "It's not enough just solving these vectors so might need to visualize them. So we'll use MatPlotLib for that. We'll need to import it first.\n",
        "\n"
      ],
      "metadata": {
        "id": "lRVu8EAi_BP6"
      }
    },
    {
      "cell_type": "code",
      "source": [
        "import matplotlib.pyplot as plt\n",
        "import matplotlib\n",
        "%matplotlib inline"
      ],
      "metadata": {
        "id": "Cmv3HMt0_LeH"
      },
      "execution_count": null,
      "outputs": []
    },
    {
      "cell_type": "code",
      "source": [
        "A = [8, -2, 4]\n",
        "B = [6, 6, 5]\n",
        "plt.scatter(A[0], A[1], label='A', c='black')\n",
        "plt.scatter(B[0], B[1], label='B', c='pink')\n",
        "plt.grid()\n",
        "plt.legend()\n",
        "plt.show()"
      ],
      "metadata": {
        "colab": {
          "base_uri": "https://localhost:8080/",
          "height": 265
        },
        "id": "1h5KoH_V_P-5",
        "outputId": "45c10bb3-e9ab-4d5d-cfff-1d1b3b93220a"
      },
      "execution_count": null,
      "outputs": [
        {
          "output_type": "display_data",
          "data": {
            "text/plain": [
              "<Figure size 432x288 with 1 Axes>"
            ],
            "image/png": "[encoded data removed]"
          },
          "metadata": {
            "needs_background": "light"
          }
        }
      ]
    },
    {
      "cell_type": "code",
      "source": [
        "A = np.array([3, -6])\n",
        "B = np.array([2, 4])\n",
        "plt.xlim(-5, 10)\n",
        "plt.ylim(-8, 8)\n",
        "plt.quiver(0, 0, A[0], A[1], angles='xy', scale_units='xy', scale=1, color='purple')\n",
        "plt.quiver(A[0], A[1], B[0], B[1], angles='xy', scale_units='xy', scale=1, color='yellow')\n",
        "R = A + B\n",
        "plt.quiver(0, 0, R[0], R[1], angles='xy', scale_units='xy', scale=1, color='black')\n",
        "plt.grid()\n",
        "plt.show()\n",
        "print(R)\n",
        "Magnitude = np.sqrt(np.sum(R**2))\n",
        "plt.title(\"Resultant Vector\\nMagnitude:{}\".format(Magnitude))\n",
        "print(Magnitude)\n",
        "Slope = R[1]/R[0]\n",
        "print(Slope)\n",
        "Angle = (np.arctan(Slope))*(180/np.pi)\n",
        "print(Angle)"
      ],
      "metadata": {
        "colab": {
          "base_uri": "https://localhost:8080/",
          "height": 617
        },
        "id": "RpXT4nUG_ceQ",
        "outputId": "f8831426-dc9a-4210-fb01-964f3af2be23"
      },
      "execution_count": null,
      "outputs": [
        {
          "output_type": "display_data",
          "data": {
            "text/plain": [
              "<Figure size 432x288 with 1 Axes>"
            ],
            "image/png": "[encoded data removed]"
          },
          "metadata": {
            "needs_background": "light"
          }
        },
        {
          "output_type": "stream",
          "name": "stdout",
          "text": [
            "[ 5 -2]\n",
            "5.385164807134504\n",
            "-0.4\n",
            "-21.80140948635181\n"
          ]
        },
        {
          "output_type": "display_data",
          "data": {
            "text/plain": [
              "<Figure size 432x288 with 1 Axes>"
            ],
            "image/png": "[encoded data removed]"
          },
          "metadata": {
            "needs_background": "light"
          }
        }
      ]
    },
    {
      "cell_type": "code",
      "source": [
        "n = A.shape[0]\n",
        "plt.xlim(-10, 10)\n",
        "plt.ylim(-10, 10)\n",
        "plt.quiver(0,0, A[0], A[1], angles='xy', scale_units='xy',scale=1)\n",
        "plt.quiver(A[0],A[1], B[0], B[1], angles='xy', scale_units='xy',scale=1)\n",
        "plt.quiver(0,0, R[0], R[1], angles='xy', scale_units='xy',scale=1)\n",
        "plt.show()"
      ],
      "metadata": {
        "colab": {
          "base_uri": "https://localhost:8080/",
          "height": 269
        },
        "id": "_N_a8yzB_qEw",
        "outputId": "e23d15e1-e362-4916-c265-fb166c84533f"
      },
      "execution_count": null,
      "outputs": [
        {
          "output_type": "display_data",
          "data": {
            "text/plain": [
              "<Figure size 432x288 with 1 Axes>"
            ],
            "image/png": "[encoded data removed]"
          },
          "metadata": {
            "needs_background": "light"
          }
        }
      ]
    },
    {
      "cell_type": "markdown",
      "source": [
        "Try plotting Three Vectors and show the Resultant Vector as a result. Use Head to Tail Method.\n",
        "\n"
      ],
      "metadata": {
        "id": "azW_q9a0_z6u"
      }
    },
    {
      "cell_type": "code",
      "source": [
        "A = np.array([3, -4])\n",
        "B = np.array([4, 8])\n",
        "C = np.array([2, -2])\n",
        "D = A + B\n",
        "plt.xlim(0, 15)\n",
        "plt.ylim(-8, 8)\n",
        "plt.quiver(0, 0, A[0], A[1], angles='xy', scale_units='xy', scale=1, color='cyan')\n",
        "plt.quiver(A[0], A[1], B[0], B[1], angles='xy', scale_units='xy', scale=1, color='orange')\n",
        "plt.quiver(D[0], D[1], C[0], C[1], angles='xy', scale_units='xy', scale=1, color='red')\n",
        "R = A + B + C\n",
        "plt.quiver(0, 0, R[0], R[1], angles='xy', scale_units='xy', scale=1, color='black')\n",
        "plt.grid()\n",
        "plt.show()\n",
        "print(R)\n",
        "Magnitude = np.sqrt(np.sum(R**2))\n",
        "plt.title(\"Resultant Vector\\nMagnitude:{}\".format(Magnitude))\n",
        "print(Magnitude)\n",
        "Slope = R[1]/R[0]\n",
        "print(Slope)\n",
        "Angle = (np.arctan(Slope))*(180/np.pi)\n",
        "print(Angle)"
      ],
      "metadata": {
        "colab": {
          "base_uri": "https://localhost:8080/",
          "height": 617
        },
        "id": "-7sZPh0NY7D_",
        "outputId": "aa6adf3d-67eb-453a-ba35-12615eeb8f50"
      },
      "execution_count": null,
      "outputs": [
        {
          "output_type": "display_data",
          "data": {
            "text/plain": [
              "<Figure size 432x288 with 1 Axes>"
            ],
            "image/png": "[encoded data removed]"
          },
          "metadata": {
            "needs_background": "light"
          }
        },
        {
          "output_type": "stream",
          "name": "stdout",
          "text": [
            "[9 2]\n",
            "9.219544457292887\n",
            "0.2222222222222222\n",
            "12.528807709151511\n"
          ]
        },
        {
          "output_type": "display_data",
          "data": {
            "text/plain": [
              "<Figure size 432x288 with 1 Axes>"
            ],
            "image/png": "[encoded data removed]"
          },
          "metadata": {
            "needs_background": "light"
          }
        }
      ]
    }
  ]
}