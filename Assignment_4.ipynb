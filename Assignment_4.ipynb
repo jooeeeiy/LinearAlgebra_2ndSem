{
  "nbformat": 4,
  "nbformat_minor": 0,
  "metadata": {
    "colab": {
      "name": "Assignment 4.ipynb",
      "provenance": [],
      "collapsed_sections": [],
      "authorship_tag": "ABX9TyPZrz8quWSKkUwj4PIP7PDp",
      "include_colab_link": true
    },
    "kernelspec": {
      "name": "python3",
      "display_name": "Python 3"
    },
    "language_info": {
      "name": "python"
    }
  },
  "cells": [
    {
      "cell_type": "markdown",
      "metadata": {
        "id": "view-in-github",
        "colab_type": "text"
      },
      "source": [
        "<a href=\"https://colab.research.google.com/github/jooeeeiy/LinearAlgebra_2ndSem/blob/main/Assignment_4.ipynb\" target=\"_parent\"><img src=\"https://colab.research.google.com/assets/colab-badge.svg\" alt=\"Open In Colab\"/></a>"
      ]
    },
    {
      "cell_type": "markdown",
      "source": [
        "# Linear Algebra for ChE\n",
        "###Objective\n",
        "1) Be familiar with the fundamental matrix operations.\n",
        "\n",
        "2) Apply the operations to solve intermediate.\n",
        "\n",
        "3) Apply matrix algebra in engineering solutions."
      ],
      "metadata": {
        "id": "rQztEih98X3p"
      }
    },
    {
      "cell_type": "code",
      "execution_count": null,
      "metadata": {
        "id": "7lrtX0Ti4lcd"
      },
      "outputs": [],
      "source": [
        "import numpy as np\n",
        "import matplotlib.pyplot as plt\n",
        "%matplotlib inline"
      ]
    },
    {
      "cell_type": "markdown",
      "source": [
        "# Transposition\n",
        "One of the fundamental operations in matrix algebra is Transposition. The transpose of a matrix is done by flipping the values of its elements over its diagonals. With this, the rows and columns from the original matrix will be switched. So for a matrix  its transpose is denoted as . So for example:"
      ],
      "metadata": {
        "id": "KLPXbmvOHwdU"
      }
    },
    {
      "cell_type": "markdown",
      "source": [
        "$$\n",
        "A=\\begin{bmatrix} 1 & 2 & 5 \\\\ 5 & {-1} & 0\\\\ 0 & {-3} & 3\\end{bmatrix} $$\n",
        "\n",
        "$$ A^T=\\begin{bmatrix} 1 & 5 & 0 \\\\ 2 & {-1} & {-3} \\\\ 5 & 0 & 3\\end{bmatrix}\n",
        "$$\n"
      ],
      "metadata": {
        "id": "Boo1-J5H9Vsb"
      }
    },
    {
      "cell_type": "markdown",
      "source": [
        "np.transpose or T"
      ],
      "metadata": {
        "id": "ucfH5I_SH0Ly"
      }
    },
    {
      "cell_type": "code",
      "source": [
        "A= np.array ([\n",
        "              [1,4,3],\n",
        "              [3,30,1],\n",
        "              [11, 25, 1]\n",
        "])"
      ],
      "metadata": {
        "id": "MA5AMZkE8rDs"
      },
      "execution_count": null,
      "outputs": []
    },
    {
      "cell_type": "code",
      "source": [
        "AT1= np.transpose(A)\n",
        "AT1"
      ],
      "metadata": {
        "colab": {
          "base_uri": "https://localhost:8080/"
        },
        "id": "kCraf-i39703",
        "outputId": "1294267f-7ad0-4218-d30d-29422175c18a"
      },
      "execution_count": null,
      "outputs": [
        {
          "output_type": "execute_result",
          "data": {
            "text/plain": [
              "array([[ 1,  3, 11],\n",
              "       [ 4, 30, 25],\n",
              "       [ 3,  1,  1]])"
            ]
          },
          "metadata": {},
          "execution_count": 3
        }
      ]
    },
    {
      "cell_type": "code",
      "source": [
        "AT2= A.T\n",
        "AT2"
      ],
      "metadata": {
        "colab": {
          "base_uri": "https://localhost:8080/"
        },
        "id": "bMUFXSq_-OqR",
        "outputId": "1adeb48d-b658-431f-f8fa-c5180eab59ce"
      },
      "execution_count": null,
      "outputs": [
        {
          "output_type": "execute_result",
          "data": {
            "text/plain": [
              "array([[ 1,  3, 11],\n",
              "       [ 4, 30, 25],\n",
              "       [ 3,  1,  1]])"
            ]
          },
          "metadata": {},
          "execution_count": 4
        }
      ]
    },
    {
      "cell_type": "code",
      "source": [
        "np.array_equiv(AT1, AT2)"
      ],
      "metadata": {
        "colab": {
          "base_uri": "https://localhost:8080/"
        },
        "id": "lS_AsI7f-wq6",
        "outputId": "af128e2d-8fcd-49c9-e12f-c7ffb7c475ec"
      },
      "execution_count": null,
      "outputs": [
        {
          "output_type": "execute_result",
          "data": {
            "text/plain": [
              "True"
            ]
          },
          "metadata": {},
          "execution_count": 5
        }
      ]
    },
    {
      "cell_type": "code",
      "source": [
        "B= np.array ([\n",
        "              [10,-4],\n",
        "              [36,0,],\n",
        "              [3,6],\n",
        "              [89,6],\n",
        "              [10,19]\n",
        "])\n",
        "B.shape"
      ],
      "metadata": {
        "colab": {
          "base_uri": "https://localhost:8080/"
        },
        "id": "UKQ1B8K9_H8b",
        "outputId": "d7fdae45-f321-483e-d040-feeacf4288c4"
      },
      "execution_count": null,
      "outputs": [
        {
          "output_type": "execute_result",
          "data": {
            "text/plain": [
              "(5, 2)"
            ]
          },
          "metadata": {},
          "execution_count": 6
        }
      ]
    },
    {
      "cell_type": "code",
      "source": [
        "np.transpose(B).shape"
      ],
      "metadata": {
        "colab": {
          "base_uri": "https://localhost:8080/"
        },
        "id": "ChYxWl0O_dwU",
        "outputId": "1b8bcab6-bfe4-454f-a7aa-383904975cd9"
      },
      "execution_count": null,
      "outputs": [
        {
          "output_type": "execute_result",
          "data": {
            "text/plain": [
              "(2, 5)"
            ]
          },
          "metadata": {},
          "execution_count": 7
        }
      ]
    },
    {
      "cell_type": "code",
      "source": [
        "B.T. shape"
      ],
      "metadata": {
        "colab": {
          "base_uri": "https://localhost:8080/"
        },
        "id": "PwXPDks8_h4J",
        "outputId": "01c06271-817a-4a2e-a883-c23505a359fb"
      },
      "execution_count": null,
      "outputs": [
        {
          "output_type": "execute_result",
          "data": {
            "text/plain": [
              "(2, 5)"
            ]
          },
          "metadata": {},
          "execution_count": 8
        }
      ]
    },
    {
      "cell_type": "markdown",
      "source": [
        "**Try to create your own matrix (you can try non-squares) to test transposition.**\n"
      ],
      "metadata": {
        "id": "GVcOS5IWH9Ft"
      }
    },
    {
      "cell_type": "code",
      "source": [
        "jozel= np.array ([\n",
        "                  [0,11,25,1],\n",
        "                  [1,30,3,0],\n",
        "                  [6,2,9,3],\n",
        "                  [10,17,85,89],\n",
        "                  [1,2,3,4]\n",
        "])\n",
        "print('jozel matrix: \\n',jozel, '\\n')\n",
        "print('Shape: ',jozel.shape)"
      ],
      "metadata": {
        "colab": {
          "base_uri": "https://localhost:8080/"
        },
        "id": "7Fn0iBQbICph",
        "outputId": "c89fa369-4a8d-4940-d077-d73a5df78893"
      },
      "execution_count": null,
      "outputs": [
        {
          "output_type": "stream",
          "name": "stdout",
          "text": [
            "jozel matrix: \n",
            " [[ 0 11 25  1]\n",
            " [ 1 30  3  0]\n",
            " [ 6  2  9  3]\n",
            " [10 17 85 89]\n",
            " [ 1  2  3  4]] \n",
            "\n",
            "Shape:  (5, 4)\n"
          ]
        }
      ]
    },
    {
      "cell_type": "code",
      "source": [
        "print('Transpose Shape: ',np.transpose(jozel).shape)"
      ],
      "metadata": {
        "colab": {
          "base_uri": "https://localhost:8080/"
        },
        "id": "vni1nwc2Jc3n",
        "outputId": "fcb6bce7-4a09-48e6-ab64-aca661a96bee"
      },
      "execution_count": null,
      "outputs": [
        {
          "output_type": "stream",
          "name": "stdout",
          "text": [
            "Transpose Shape:  (4, 5)\n"
          ]
        }
      ]
    },
    {
      "cell_type": "code",
      "source": [
        "print('Transpose Shape: ',jozel.T.shape)\n"
      ],
      "metadata": {
        "colab": {
          "base_uri": "https://localhost:8080/"
        },
        "id": "HX_0GtScJfJJ",
        "outputId": "f3bc1951-3fb0-4779-f1ac-8ee736c6aaf3"
      },
      "execution_count": null,
      "outputs": [
        {
          "output_type": "stream",
          "name": "stdout",
          "text": [
            "Transpose Shape:  (4, 5)\n"
          ]
        }
      ]
    },
    {
      "cell_type": "markdown",
      "source": [
        "## Dot Product/Inner Product\n",
        "If you recall the dot product from laboratory activity before, we will try to implement the same operation with matrices. In matrix dot product we are going to get the sum of products of the vectors by row-column pairs. So if we have two matrices $X$ and $Y$:\n",
        "\n",
        "$$X = \\begin{bmatrix}x_{(0,0)}&x_{(0,1)}\\\\ x_{(1,0)}&x_{(1,1)}\\end{bmatrix}, Y = \\begin{bmatrix}y_{(0,0)}&y_{(0,1)}\\\\ y_{(1,0)}&y_{(1,1)}\\end{bmatrix}$$\n",
        "\n",
        "The dot product will then be computed as:\n",
        "$$X \\cdot Y= \\begin{bmatrix} x_{(0,0)}*y_{(0,0)} + x_{(0,1)}*y_{(1,0)} & x_{(0,0)}*y_{(0,1)} + x_{(0,1)}*y_{(1,1)} \\\\  x_{(1,0)}*y_{(0,0)} + x_{(1,1)}*y_{(1,0)} & x_{(1,0)}*y_{(0,1)} + x_{(1,1)}*y_{(1,1)}\n",
        "\\end{bmatrix}$$\n",
        "\n",
        "So if we assign values to $X$ and $Y$:\n",
        "$$X = \\begin{bmatrix}1&2\\\\ 0&1\\end{bmatrix}, Y = \\begin{bmatrix}-1&0\\\\ 2&2\\end{bmatrix}$$"
      ],
      "metadata": {
        "id": "83LMwoA8kOZm"
      }
    },
    {
      "cell_type": "markdown",
      "source": [
        "$$X \\cdot Y= \\begin{bmatrix} 1*-1 + 2*2 & 1*0 + 2*2 \\\\  0*-1 + 1*2 & 0*0 + 1*2 \\end{bmatrix} = \\begin{bmatrix} 3 & 4 \\\\2 & 2 \\end{bmatrix}$$"
      ],
      "metadata": {
        "id": "_6xXZqIAkcXJ"
      }
    },
    {
      "cell_type": "markdown",
      "source": [
        " np.dot, np.matmul , @"
      ],
      "metadata": {
        "id": "ZoPYgTniktnY"
      }
    },
    {
      "cell_type": "code",
      "source": [
        "J= np.array([\n",
        "             [1,2],\n",
        "             [0,1],\n",
        "             [8,9]\n",
        "])\n",
        "O= np.array ([\n",
        "              [1,7,8,9,5,6,0],\n",
        "              [2,5,6,7,8,9,1]\n",
        "])"
      ],
      "metadata": {
        "id": "12pm0XiZAWR5"
      },
      "execution_count": null,
      "outputs": []
    },
    {
      "cell_type": "code",
      "source": [
        "np.array_equiv(J,O)"
      ],
      "metadata": {
        "colab": {
          "base_uri": "https://localhost:8080/"
        },
        "id": "p3s3wVY8CQqZ",
        "outputId": "32801138-bd49-41ca-92d9-f758d85f4811"
      },
      "execution_count": null,
      "outputs": [
        {
          "output_type": "execute_result",
          "data": {
            "text/plain": [
              "False"
            ]
          },
          "metadata": {},
          "execution_count": 13
        }
      ]
    },
    {
      "cell_type": "code",
      "source": [
        "J.dot(O)"
      ],
      "metadata": {
        "colab": {
          "base_uri": "https://localhost:8080/"
        },
        "id": "m52G1Vj3BWPp",
        "outputId": "211cac20-2d9a-4126-eda0-d1b1f93be2db"
      },
      "execution_count": null,
      "outputs": [
        {
          "output_type": "execute_result",
          "data": {
            "text/plain": [
              "array([[  5,  17,  20,  23,  21,  24,   2],\n",
              "       [  2,   5,   6,   7,   8,   9,   1],\n",
              "       [ 26, 101, 118, 135, 112, 129,   9]])"
            ]
          },
          "metadata": {},
          "execution_count": 14
        }
      ]
    },
    {
      "cell_type": "code",
      "source": [
        "J @ O"
      ],
      "metadata": {
        "colab": {
          "base_uri": "https://localhost:8080/"
        },
        "id": "FVXZcYP1Bg2c",
        "outputId": "2a43f74c-f1df-4575-8b21-d325e8f5c58c"
      },
      "execution_count": null,
      "outputs": [
        {
          "output_type": "execute_result",
          "data": {
            "text/plain": [
              "array([[  5,  17,  20,  23,  21,  24,   2],\n",
              "       [  2,   5,   6,   7,   8,   9,   1],\n",
              "       [ 26, 101, 118, 135, 112, 129,   9]])"
            ]
          },
          "metadata": {},
          "execution_count": 15
        }
      ]
    },
    {
      "cell_type": "code",
      "source": [
        "np.matmul(J,O)"
      ],
      "metadata": {
        "colab": {
          "base_uri": "https://localhost:8080/"
        },
        "id": "WL4v4EXgBire",
        "outputId": "aac6580c-1106-411b-c18c-85c9b8bba5d8"
      },
      "execution_count": null,
      "outputs": [
        {
          "output_type": "execute_result",
          "data": {
            "text/plain": [
              "array([[  5,  17,  20,  23,  21,  24,   2],\n",
              "       [  2,   5,   6,   7,   8,   9,   1],\n",
              "       [ 26, 101, 118, 135, 112, 129,   9]])"
            ]
          },
          "metadata": {},
          "execution_count": 16
        }
      ]
    },
    {
      "cell_type": "markdown",
      "source": [
        "### RULE 1 The inner dimensions of the two matrices in question must be the same.\n",
        "\n",
        "So given a matrix $A$ with a shape of $(a,b)$ where $a$ and $b$ are any integers. If we want to do a dot product between $A$ and another matrix $B$, then matrix $B$ should have a shape of $(b,c)$ where $b$ and $c$ are any integers. So for given the following matrices:\n",
        "\n",
        "\n",
        "$$A = \\begin{bmatrix}2 &4\\\\ 5 & {-2} \\\\0 & 1 \\end{bmatrix}, B = \\begin{bmatrix}1 & 1\\\\3 & 3 \\\\{-1} & {-2} \\end{bmatrix}, C = \\begin{bmatrix}0 & 1 & 1\\\\ 1 & 1& 2\\end{bmatrix}$$\n",
        "\n",
        "\n",
        "So in this case $A$ has a shape of $(3,2)$, $B$ has a shape of $(3,2)$ and $C$ has a shape of $(2,3)$. So the only matrix pairs that is eligible to perform dot product is matrices $A \\cdot C$, or $B \\cdot C$.  "
      ],
      "metadata": {
        "id": "UqywRtTnDAPw"
      }
    },
    {
      "cell_type": "code",
      "source": [
        "U= np.array([\n",
        "             [2,3,4],\n",
        "             [5,6,7],\n",
        "             [8,9,10]\n",
        "])\n",
        "\n",
        "N= np.array ([\n",
        "             [8,9,7],\n",
        "             [10,6,4],\n",
        "             [8,2,9],\n",
        "            [10,8,0]\n",
        "])\n",
        "R= np.array([\n",
        "             [0,6,7,3],\n",
        "             [0,1,2,9]\n",
        "])\n",
        "\n",
        "print('U:',U.shape)\n",
        "print('N:',N.shape)\n",
        "print('R: ',R.shape)"
      ],
      "metadata": {
        "colab": {
          "base_uri": "https://localhost:8080/"
        },
        "id": "oKKxJs5dC89S",
        "outputId": "49a3085d-b781-451b-cd9d-59e8a01ac685"
      },
      "execution_count": null,
      "outputs": [
        {
          "output_type": "stream",
          "name": "stdout",
          "text": [
            "U: (3, 3)\n",
            "N: (4, 3)\n",
            "R:  (2, 4)\n"
          ]
        }
      ]
    },
    {
      "cell_type": "code",
      "source": [
        "N @ U"
      ],
      "metadata": {
        "colab": {
          "base_uri": "https://localhost:8080/"
        },
        "id": "2J-iLl43EwsL",
        "outputId": "935f0150-2d8d-4017-a82d-6ec75d580499"
      },
      "execution_count": null,
      "outputs": [
        {
          "output_type": "execute_result",
          "data": {
            "text/plain": [
              "array([[117, 141, 165],\n",
              "       [ 82, 102, 122],\n",
              "       [ 98, 117, 136],\n",
              "       [ 60,  78,  96]])"
            ]
          },
          "metadata": {},
          "execution_count": 18
        }
      ]
    },
    {
      "cell_type": "code",
      "source": [
        "R @ N"
      ],
      "metadata": {
        "colab": {
          "base_uri": "https://localhost:8080/"
        },
        "id": "H3pXgK5Vm9Oz",
        "outputId": "9ed6b7d6-17b6-44ec-984c-ddbf0304c411"
      },
      "execution_count": null,
      "outputs": [
        {
          "output_type": "execute_result",
          "data": {
            "text/plain": [
              "array([[146,  74,  87],\n",
              "       [116,  82,  22]])"
            ]
          },
          "metadata": {},
          "execution_count": 19
        }
      ]
    },
    {
      "cell_type": "code",
      "source": [
        "U @ N"
      ],
      "metadata": {
        "colab": {
          "base_uri": "https://localhost:8080/",
          "height": 167
        },
        "id": "J22ks0J6ndFh",
        "outputId": "8d6a7a3e-3701-494b-bd74-565982eb89d1"
      },
      "execution_count": null,
      "outputs": [
        {
          "output_type": "error",
          "ename": "ValueError",
          "evalue": "ignored",
          "traceback": [
            "\u001b[0;31m---------------------------------------------------------------------------\u001b[0m",
            "\u001b[0;31mValueError\u001b[0m                                Traceback (most recent call last)",
            "\u001b[0;32m<ipython-input-20-56a5fd4c9ef0>\u001b[0m in \u001b[0;36m<module>\u001b[0;34m()\u001b[0m\n\u001b[0;32m----> 1\u001b[0;31m \u001b[0mU\u001b[0m \u001b[0;34m@\u001b[0m \u001b[0mN\u001b[0m\u001b[0;34m\u001b[0m\u001b[0;34m\u001b[0m\u001b[0m\n\u001b[0m",
            "\u001b[0;31mValueError\u001b[0m: matmul: Input operand 1 has a mismatch in its core dimension 0, with gufunc signature (n?,k),(k,m?)->(n?,m?) (size 4 is different from 3)"
          ]
        }
      ]
    },
    {
      "cell_type": "code",
      "source": [
        "U @ N.T"
      ],
      "metadata": {
        "colab": {
          "base_uri": "https://localhost:8080/"
        },
        "id": "NNbtDjEfnDS4",
        "outputId": "feae7cb9-4b0a-4a90-f56c-62a8422e0401"
      },
      "execution_count": null,
      "outputs": [
        {
          "output_type": "execute_result",
          "data": {
            "text/plain": [
              "array([[ 71,  54,  58,  44],\n",
              "       [143, 114, 115,  98],\n",
              "       [215, 174, 172, 152]])"
            ]
          },
          "metadata": {},
          "execution_count": 21
        }
      ]
    },
    {
      "cell_type": "markdown",
      "source": [
        "### RULE 2:Dot Product has special properties\n",
        " 1. $A \\cdot B \\neq B \\cdot A$\n",
        " 2. $A \\cdot (B \\cdot C) = (A \\cdot B) \\cdot C$\n",
        " 3. $A\\cdot(B+C) = A\\cdot B + A\\cdot C$\n",
        " 4. $(B+C)\\cdot A = B\\cdot A + C\\cdot A$\n",
        " 5. $A\\cdot I = A$\n",
        " 6. $A\\cdot \\emptyset = \\emptyset$"
      ],
      "metadata": {
        "id": "rLbPhpx7GaSE"
      }
    },
    {
      "cell_type": "code",
      "source": [
        "A=np.array([\n",
        "            [1,2,3,4],\n",
        "            [4,5,3,6],\n",
        "            [1,0,1,9],\n",
        "            [3,6,9,2]\n",
        "])\n",
        "\n",
        "B=np.array([\n",
        "            [1,9,6,4],\n",
        "            [8,2,5,2],\n",
        "            [8,0,1,0],\n",
        "            [1,0,2,0]\n",
        "])\n",
        "\n",
        "C=np.array([\n",
        "            [6,7,4,5],\n",
        "            [1,2,3,2],\n",
        "            [0,0,6,8],\n",
        "            [5,3,2,7]\n",
        "])"
      ],
      "metadata": {
        "id": "GmYkI63YGSgY",
        "cellView": "code"
      },
      "execution_count": null,
      "outputs": []
    },
    {
      "cell_type": "code",
      "source": [
        "print('A @ B: \\n',A @ B,'\\n')\n",
        "print('B @ A: \\n',B @ A)"
      ],
      "metadata": {
        "colab": {
          "base_uri": "https://localhost:8080/"
        },
        "id": "826Dp71AocIr",
        "outputId": "646043b3-dcac-4ff3-d2f5-129b0b087a49"
      },
      "execution_count": null,
      "outputs": [
        {
          "output_type": "stream",
          "name": "stdout",
          "text": [
            "A @ B: \n",
            " [[ 45  13  27   8]\n",
            " [ 74  46  64  26]\n",
            " [ 18   9  25   4]\n",
            " [125  39  61  24]] \n",
            "\n",
            "B @ A: \n",
            " [[ 55  71  72 120]\n",
            " [ 27  38  53  93]\n",
            " [  9  16  25  41]\n",
            " [  3   2   5  22]]\n"
          ]
        }
      ]
    },
    {
      "cell_type": "code",
      "source": [
        "np.array_equiv(A @ B, B @ A)"
      ],
      "metadata": {
        "colab": {
          "base_uri": "https://localhost:8080/"
        },
        "id": "bmoM3IlupKyb",
        "outputId": "c2eee0b8-5dfb-45a3-8773-0f75b7608d64"
      },
      "execution_count": null,
      "outputs": [
        {
          "output_type": "execute_result",
          "data": {
            "text/plain": [
              "False"
            ]
          },
          "metadata": {},
          "execution_count": 24
        }
      ]
    },
    {
      "cell_type": "code",
      "source": [
        "print('A @ (B @ C): \\n',A @ (B @ C),'\\n')\n",
        "print('(A @ B) @ C: \\n',(A @ B) @ C)"
      ],
      "metadata": {
        "colab": {
          "base_uri": "https://localhost:8080/"
        },
        "id": "PcQ_s58Ip60J",
        "outputId": "131ac9fe-f9c3-4cef-e655-e767aa55284e"
      },
      "execution_count": null,
      "outputs": [
        {
          "output_type": "stream",
          "name": "stdout",
          "text": [
            "A @ (B @ C): \n",
            " [[ 323  365  397  523]\n",
            " [ 620  688  870 1156]\n",
            " [ 137  156  257  336]\n",
            " [ 909 1025 1031 1359]] \n",
            "\n",
            "(A @ B) @ C: \n",
            " [[ 323  365  397  523]\n",
            " [ 620  688  870 1156]\n",
            " [ 137  156  257  336]\n",
            " [ 909 1025 1031 1359]]\n"
          ]
        }
      ]
    },
    {
      "cell_type": "code",
      "source": [
        "np.array_equiv(A @ (B @ C), (A @ B) @ C)"
      ],
      "metadata": {
        "colab": {
          "base_uri": "https://localhost:8080/"
        },
        "id": "YoAZ97-nrdv3",
        "outputId": "1866fd29-ad75-4b84-b96a-6ba30b33dee7"
      },
      "execution_count": null,
      "outputs": [
        {
          "output_type": "execute_result",
          "data": {
            "text/plain": [
              "True"
            ]
          },
          "metadata": {},
          "execution_count": 26
        }
      ]
    },
    {
      "cell_type": "code",
      "source": [
        "print('A @ (B + C): \\n',A @ (B + C),'\\n')\n",
        "print('(A @ B) + (A @ C): \\n',(A @ B) + (A @ C))"
      ],
      "metadata": {
        "colab": {
          "base_uri": "https://localhost:8080/"
        },
        "id": "VyIt9yMIrwhq",
        "outputId": "9fa33a57-95e1-4841-94de-4601983af4ee"
      },
      "execution_count": null,
      "outputs": [
        {
          "output_type": "stream",
          "name": "stdout",
          "text": [
            "A @ (B + C): \n",
            " [[ 73  36  63  69]\n",
            " [133 102 125 122]\n",
            " [ 69  43  53  80]\n",
            " [159  78 149 137]] \n",
            "\n",
            "(A @ B) + (A @ C): \n",
            " [[ 73  36  63  69]\n",
            " [133 102 125 122]\n",
            " [ 69  43  53  80]\n",
            " [159  78 149 137]]\n"
          ]
        }
      ]
    },
    {
      "cell_type": "code",
      "source": [
        "np.array_equiv(A @ (B + C), (A @ B) + (A @ C))"
      ],
      "metadata": {
        "colab": {
          "base_uri": "https://localhost:8080/"
        },
        "id": "dALdjFaKr7Ni",
        "outputId": "89976fe4-7706-42a8-e1a6-5c6bbcefe953"
      },
      "execution_count": null,
      "outputs": [
        {
          "output_type": "execute_result",
          "data": {
            "text/plain": [
              "True"
            ]
          },
          "metadata": {},
          "execution_count": 28
        }
      ]
    },
    {
      "cell_type": "code",
      "source": [
        "print('(B + C) @ A: \\n',(B + C)@ A,'\\n')\n",
        "print('(B @ A) + (C @ A): \\n',(B @ A) + (C @ A))"
      ],
      "metadata": {
        "colab": {
          "base_uri": "https://localhost:8080/"
        },
        "id": "oqSl_4o1sRhK",
        "outputId": "3213c1dd-fbf9-4c44-848f-c7f8c87affe8"
      },
      "execution_count": null,
      "outputs": [
        {
          "output_type": "stream",
          "name": "stdout",
          "text": [
            "(B + C) @ A: \n",
            " [[108 148 160 232]\n",
            " [ 45  62  83 140]\n",
            " [ 39  64 103 111]\n",
            " [ 43  69  94  92]] \n",
            "\n",
            "(B @ A) + (C @ A): \n",
            " [[108 148 160 232]\n",
            " [ 45  62  83 140]\n",
            " [ 39  64 103 111]\n",
            " [ 43  69  94  92]]\n"
          ]
        }
      ]
    },
    {
      "cell_type": "code",
      "source": [
        "np.array_equiv((B + C) @ A, (B @ A) + (C @ A))"
      ],
      "metadata": {
        "colab": {
          "base_uri": "https://localhost:8080/"
        },
        "id": "ZqLkXss9sfxW",
        "outputId": "a455d0a6-5471-49cc-8425-eeb4321fc7f5"
      },
      "execution_count": null,
      "outputs": [
        {
          "output_type": "execute_result",
          "data": {
            "text/plain": [
              "True"
            ]
          },
          "metadata": {},
          "execution_count": 30
        }
      ]
    },
    {
      "cell_type": "code",
      "source": [
        "A@np.eye(4)"
      ],
      "metadata": {
        "colab": {
          "base_uri": "https://localhost:8080/"
        },
        "id": "no4u4b_Ls07U",
        "outputId": "751f6836-7bc0-4af8-ac08-56f46bac57c4"
      },
      "execution_count": null,
      "outputs": [
        {
          "output_type": "execute_result",
          "data": {
            "text/plain": [
              "array([[1., 2., 3., 4.],\n",
              "       [4., 5., 3., 6.],\n",
              "       [1., 0., 1., 9.],\n",
              "       [3., 6., 9., 2.]])"
            ]
          },
          "metadata": {},
          "execution_count": 31
        }
      ]
    },
    {
      "cell_type": "code",
      "source": [
        "np.array_equiv(A, A@np.eye(4))"
      ],
      "metadata": {
        "colab": {
          "base_uri": "https://localhost:8080/"
        },
        "id": "2yrcY3tHs-mO",
        "outputId": "86b85626-8d6a-4321-a768-3402ea295a96"
      },
      "execution_count": null,
      "outputs": [
        {
          "output_type": "execute_result",
          "data": {
            "text/plain": [
              "True"
            ]
          },
          "metadata": {},
          "execution_count": 32
        }
      ]
    },
    {
      "cell_type": "code",
      "source": [
        "A @ np.zeros((4,4))"
      ],
      "metadata": {
        "colab": {
          "base_uri": "https://localhost:8080/"
        },
        "id": "0ztlHc9btDMP",
        "outputId": "c990fec9-bbb5-4f65-ad63-5c297fed8ec3"
      },
      "execution_count": null,
      "outputs": [
        {
          "output_type": "execute_result",
          "data": {
            "text/plain": [
              "array([[0., 0., 0., 0.],\n",
              "       [0., 0., 0., 0.],\n",
              "       [0., 0., 0., 0.],\n",
              "       [0., 0., 0., 0.]])"
            ]
          },
          "metadata": {},
          "execution_count": 33
        }
      ]
    },
    {
      "cell_type": "code",
      "source": [
        "np.array_equiv(A @ np.zeros((4,4)),np.zeros((4,4)))"
      ],
      "metadata": {
        "colab": {
          "base_uri": "https://localhost:8080/"
        },
        "id": "Qmv5rzjCtKI3",
        "outputId": "85aa5a8c-b5f9-4ed0-8b06-54e9410c764d"
      },
      "execution_count": null,
      "outputs": [
        {
          "output_type": "execute_result",
          "data": {
            "text/plain": [
              "True"
            ]
          },
          "metadata": {},
          "execution_count": 34
        }
      ]
    },
    {
      "cell_type": "code",
      "source": [
        "A.dot(np.zeros(A.shape))"
      ],
      "metadata": {
        "colab": {
          "base_uri": "https://localhost:8080/"
        },
        "id": "sdJ3bA3jtTCe",
        "outputId": "4944f465-e4e2-4f59-82da-ea9fff00edb3"
      },
      "execution_count": null,
      "outputs": [
        {
          "output_type": "execute_result",
          "data": {
            "text/plain": [
              "array([[0., 0., 0., 0.],\n",
              "       [0., 0., 0., 0.],\n",
              "       [0., 0., 0., 0.],\n",
              "       [0., 0., 0., 0.]])"
            ]
          },
          "metadata": {},
          "execution_count": 35
        }
      ]
    },
    {
      "cell_type": "code",
      "source": [
        "j_mat = np.zeros(A.shape)\n",
        "j_mat"
      ],
      "metadata": {
        "colab": {
          "base_uri": "https://localhost:8080/"
        },
        "id": "lstlUspltW7o",
        "outputId": "a541897c-ba00-479e-ff71-989a49c939e1"
      },
      "execution_count": null,
      "outputs": [
        {
          "output_type": "execute_result",
          "data": {
            "text/plain": [
              "array([[0., 0., 0., 0.],\n",
              "       [0., 0., 0., 0.],\n",
              "       [0., 0., 0., 0.],\n",
              "       [0., 0., 0., 0.]])"
            ]
          },
          "metadata": {},
          "execution_count": 36
        }
      ]
    },
    {
      "cell_type": "code",
      "source": [
        "o_dot_z = A.dot(np.zeros(A.shape))\n",
        "o_dot_z"
      ],
      "metadata": {
        "colab": {
          "base_uri": "https://localhost:8080/"
        },
        "id": "7O50Zkoctckx",
        "outputId": "cc0baad9-a3ee-4f0a-f94c-bb4a3f55b0fc"
      },
      "execution_count": null,
      "outputs": [
        {
          "output_type": "execute_result",
          "data": {
            "text/plain": [
              "array([[0., 0., 0., 0.],\n",
              "       [0., 0., 0., 0.],\n",
              "       [0., 0., 0., 0.],\n",
              "       [0., 0., 0., 0.]])"
            ]
          },
          "metadata": {},
          "execution_count": 37
        }
      ]
    },
    {
      "cell_type": "code",
      "source": [
        "np.array_equal(o_dot_z,j_mat)"
      ],
      "metadata": {
        "colab": {
          "base_uri": "https://localhost:8080/"
        },
        "id": "8APUUMLEtgio",
        "outputId": "19065b8b-b76d-47f3-f1b1-5a18c4ccc51a"
      },
      "execution_count": null,
      "outputs": [
        {
          "output_type": "execute_result",
          "data": {
            "text/plain": [
              "True"
            ]
          },
          "metadata": {},
          "execution_count": 38
        }
      ]
    },
    {
      "cell_type": "code",
      "source": [
        "null_mat = np.empty(A.shape, dtype=float)\n",
        "null = np.array(null_mat,dtype=float)\n",
        "print(null)\n",
        "np.allclose(o_dot_z,null)"
      ],
      "metadata": {
        "colab": {
          "base_uri": "https://localhost:8080/"
        },
        "id": "WqA6wKm5tnpI",
        "outputId": "8fd799c1-f19d-4812-e232-1b35f294e536"
      },
      "execution_count": null,
      "outputs": [
        {
          "output_type": "stream",
          "name": "stdout",
          "text": [
            "[[0. 0. 0. 0.]\n",
            " [0. 0. 0. 0.]\n",
            " [0. 0. 0. 0.]\n",
            " [0. 0. 0. 0.]]\n"
          ]
        },
        {
          "output_type": "execute_result",
          "data": {
            "text/plain": [
              "True"
            ]
          },
          "metadata": {},
          "execution_count": 39
        }
      ]
    },
    {
      "cell_type": "markdown",
      "source": [
        "##Determinant (only on square matrix)\n",
        "A determinant is a scalar value derived from a square matrix. The determinant is a fundamental and important value used in matrix algebra. Although it will not be evident in this laboratory on how it can be used practically, but it will be reatly used in future lessons.\n",
        "\n",
        "The determinant of some matrix $A$ is denoted as $det(A)$ or $|A|$. So let's say $A$ is represented as:\n",
        "$$A = \\begin{bmatrix}a_{(0,0)}&a_{(0,1)}\\\\a_{(1,0)}&a_{(1,1)}\\end{bmatrix}$$\n",
        "We can compute for the determinant as:\n",
        "$$|A| = a_{(0,0)}*a_{(1,1)} - a_{(1,0)}*a_{(0,1)}$$\n",
        "So if we have $A$ as:\n",
        "$$A = \\begin{bmatrix}1&4\\\\0&3\\end{bmatrix}, |A| = 3$$\n",
        "\n",
        "But you might wonder how about square matrices beyond the shape $(2,2)$? We can approach this problem by using several methods such as co-factor expansion and the minors method. This can be taught in the lecture of the laboratory but we can achieve the strenuous computation of high-dimensional matrices programmatically using Python. We can achieve this by using `np.linalg.det()`."
      ],
      "metadata": {
        "id": "H2611crULhTw"
      }
    },
    {
      "cell_type": "code",
      "source": [
        "J= np.array ([\n",
        "              [1,2],\n",
        "              [6,5],\n",
        "])\n",
        "np.linalg.det(J)"
      ],
      "metadata": {
        "colab": {
          "base_uri": "https://localhost:8080/"
        },
        "id": "DaB4IAyYLp7S",
        "outputId": "30001580-3805-4ff3-c8d3-d45882061196"
      },
      "execution_count": null,
      "outputs": [
        {
          "output_type": "execute_result",
          "data": {
            "text/plain": [
              "-6.999999999999999"
            ]
          },
          "metadata": {},
          "execution_count": 40
        }
      ]
    },
    {
      "cell_type": "code",
      "source": [
        " ## Now other mathematics classes would require you to solve this by hand, \n",
        "## and that is great for practicing your memorization and coordination skills \n",
        "## but in this class we aim for simplicity and speed so we'll use programming\n",
        "## but it's completely fine if you want to try to solve this one by hand.\n",
        "\n",
        "V= np.array ([\n",
        "              [4,8],\n",
        "              [3,7]\n",
        "])\n",
        "\n",
        "np.linalg.det(V)"
      ],
      "metadata": {
        "colab": {
          "base_uri": "https://localhost:8080/"
        },
        "id": "FbTy7hq4L1SY",
        "outputId": "4aae8746-5a98-4c7b-ac3f-55d531f0d1c0"
      },
      "execution_count": null,
      "outputs": [
        {
          "output_type": "execute_result",
          "data": {
            "text/plain": [
              "4.0"
            ]
          },
          "metadata": {},
          "execution_count": 41
        }
      ]
    },
    {
      "cell_type": "markdown",
      "source": [
        "##Inverse\n",
        "The inverse of a matrix is another fundamental operation in matrix algebra. Determining the inverse of a matrix let us determine if its solvability and its characteristic as a system of linear equation — we'll expand on this in the nect module. Another use of the inverse matrix is solving the problem of divisibility between matrices. Although element-wise division exists but dividing the entire concept of matrices does not exists. Inverse matrices provides a related operation that could have the same concept of \"dividing\" matrices.\n",
        "\n",
        "Now to determine the inverse of a matrix we need to perform several steps. So let's say we have a matrix $M$:\n",
        "$$M = \\begin{bmatrix}1&7\\\\-3&5\\end{bmatrix}$$\n",
        "First, we need to get the determinant of $M$.\n",
        "$$|M| = (1)(5)-(-3)(7) = 26$$\n",
        "Next, we need to reform the matrix into the inverse form:\n",
        "$$M^{-1} = \\frac{1}{|M|} \\begin{bmatrix} m_{(1,1)} & -m_{(0,1)} \\\\ -m_{(1,0)} & m_{(0,0)}\\end{bmatrix}$$\n",
        "So that will be:\n",
        "$$M^{-1} = \\frac{1}{26} \\begin{bmatrix} 5 & -7 \\\\ 3 & 1\\end{bmatrix} = \\begin{bmatrix} \\frac{5}{26} & \\frac{-7}{26} \\\\ \\frac{3}{26} & \\frac{1}{26}\\end{bmatrix}$$\n",
        "For higher-dimension matrices you might need to use co-factors, minors, adjugates, and other reduction techinques. To solve this programmatially we can use `np.linalg.inv()`."
      ],
      "metadata": {
        "id": "vEO4vLkbNZAm"
      }
    },
    {
      "cell_type": "code",
      "source": [
        "joey = np.array([\n",
        "                 [1,4,3],\n",
        "                 [8,7,7],\n",
        "                 [1,5,4]\n",
        "])\n",
        "\n",
        "np.array(joey @ np.linalg.inv(joey), dtype=int)"
      ],
      "metadata": {
        "colab": {
          "base_uri": "https://localhost:8080/"
        },
        "id": "ymcnapR9Nb5O",
        "outputId": "b9119b40-29fd-40dd-da29-1373bc807768"
      },
      "execution_count": null,
      "outputs": [
        {
          "output_type": "execute_result",
          "data": {
            "text/plain": [
              "array([[1, 0, 0],\n",
              "       [0, 1, 0],\n",
              "       [0, 0, 1]])"
            ]
          },
          "metadata": {},
          "execution_count": 42
        }
      ]
    },
    {
      "cell_type": "code",
      "source": [
        "## And now let's test your skills in solving a matrix with high dimensions:\n",
        "jozie= np.array ([\n",
        "                  [25,20,30,65,98,9],\n",
        "                  [1,2,3,4,5,6],\n",
        "                  [10, 11,23,78,7,8],\n",
        "                  [19,53,86,72,6,32],\n",
        "                  [5,5,5,5,5,5],\n",
        "                  [9,26,74,25,26,25]\n",
        "])\n",
        "jozie_inv = np.linalg.inv(jozie)\n",
        "np.array(jozie @ jozie_inv,dtype=int)"
      ],
      "metadata": {
        "colab": {
          "base_uri": "https://localhost:8080/"
        },
        "id": "XwXNvywBu1Qy",
        "outputId": "24dc366a-65f6-4d69-fea4-3da8e8c97b6e"
      },
      "execution_count": null,
      "outputs": [
        {
          "output_type": "execute_result",
          "data": {
            "text/plain": [
              "array([[1, 0, 0, 0, 0, 0],\n",
              "       [0, 1, 0, 0, 0, 0],\n",
              "       [0, 0, 0, 0, 0, 0],\n",
              "       [0, 0, 0, 1, 0, 0],\n",
              "       [0, 0, 0, 0, 1, 0],\n",
              "       [0, 0, 0, 0, 0, 1]])"
            ]
          },
          "metadata": {},
          "execution_count": 43
        }
      ]
    },
    {
      "cell_type": "code",
      "source": [
        "Q= np.array([\n",
        "             [1,2,3],\n",
        "             [3,5,4],\n",
        "             [7,2,1]\n",
        "])\n",
        "R=np.linalg.inv(Q)\n",
        "R"
      ],
      "metadata": {
        "colab": {
          "base_uri": "https://localhost:8080/"
        },
        "id": "jNykqQSVOCRZ",
        "outputId": "58c88a00-3966-4c4d-c22f-aa7685aa933b"
      },
      "execution_count": null,
      "outputs": [
        {
          "output_type": "execute_result",
          "data": {
            "text/plain": [
              "array([[ 0.075, -0.1  ,  0.175],\n",
              "       [-0.625,  0.5  , -0.125],\n",
              "       [ 0.725, -0.3  ,  0.025]])"
            ]
          },
          "metadata": {},
          "execution_count": 44
        }
      ]
    },
    {
      "cell_type": "code",
      "source": [
        "Q@R"
      ],
      "metadata": {
        "colab": {
          "base_uri": "https://localhost:8080/"
        },
        "id": "C2YIh-LGOThu",
        "outputId": "475c8a96-36a4-4fdd-8cba-6b035e55ecbd"
      },
      "execution_count": null,
      "outputs": [
        {
          "output_type": "execute_result",
          "data": {
            "text/plain": [
              "array([[ 1.00000000e+00, -1.66533454e-16,  0.00000000e+00],\n",
              "       [ 0.00000000e+00,  1.00000000e+00,  2.77555756e-17],\n",
              "       [ 0.00000000e+00,  1.66533454e-16,  1.00000000e+00]])"
            ]
          },
          "metadata": {},
          "execution_count": 45
        }
      ]
    },
    {
      "cell_type": "markdown",
      "source": [
        "To validate the wether if the matric that you have solved is really the inverse, we follow this dot product property for a matrix $M$:\n",
        "$$M\\cdot M^{-1} = I$$"
      ],
      "metadata": {
        "id": "witjs3V0xLkP"
      }
    },
    {
      "cell_type": "code",
      "source": [
        "squad = np.array([\n",
        "    [1.0, 1.0, 0.5],\n",
        "    [0.7, 0.7, 0.9],\n",
        "    [0.3, 0.3, 1.0]\n",
        "])\n",
        "weights = np.array([\n",
        "    [0.2, 0.2, 0.6]\n",
        "])\n",
        "p_grade = squad @ weights.T\n",
        "p_grade"
      ],
      "metadata": {
        "colab": {
          "base_uri": "https://localhost:8080/"
        },
        "id": "XDN0t40axO61",
        "outputId": "8353ead1-3bf0-4a82-b003-8e237873c6e4"
      },
      "execution_count": null,
      "outputs": [
        {
          "output_type": "execute_result",
          "data": {
            "text/plain": [
              "array([[0.7 ],\n",
              "       [0.82],\n",
              "       [0.72]])"
            ]
          },
          "metadata": {},
          "execution_count": 46
        }
      ]
    },
    {
      "cell_type": "markdown",
      "source": [
        "# **Activity**\n",
        "\n",
        "## Task 1\n",
        "\n",
        "Prove and implement the remaining 6 matrix multiplication properties. You may create your own matrices in which their shapes should not be lower than . In your methodology, create individual flowcharts for each property and discuss the property you would then present your proofs or validity of your implementation in the results section by comparing your result to present functions from NumPy."
      ],
      "metadata": {
        "id": "oOB4Uw1XxVkt"
      }
    },
    {
      "cell_type": "markdown",
      "source": [
        "### Rule 2: Dot Product has special properties\n",
        "\n",
        "Dot products are prevalent in matrix algebra, this implies that it has several unique properties and it should be considered when formulation solutions:\n",
        " 1. $A \\cdot B \\neq B \\cdot A$\n",
        " 2. $A \\cdot (B \\cdot C) = (A \\cdot B) \\cdot C$\n",
        " 3. $A\\cdot(B+C) = A\\cdot B + A\\cdot C$\n",
        " 4. $(B+C)\\cdot A = B\\cdot A + C\\cdot A$\n",
        " 5. $A\\cdot I = A$\n",
        " 6. $A\\cdot \\emptyset = \\emptyset$ "
      ],
      "metadata": {
        "id": "ySEW76vmGaBb"
      }
    },
    {
      "cell_type": "code",
      "source": [
        "A = np.array([\n",
        "    [12,54,64],\n",
        "    [46,78,46],\n",
        "    [8,18,23]\n",
        "])\n",
        "B = np.array([\n",
        "    [65,1213,643],\n",
        "    [124,165,965],\n",
        "    [313,343,383]\n",
        "])\n",
        "C = np.array([\n",
        "    [131,313,10],\n",
        "    [660,451,134],\n",
        "    [112,302,112]\n",
        "])"
      ],
      "metadata": {
        "id": "OFpmhyBnGb3y"
      },
      "execution_count": null,
      "outputs": []
    },
    {
      "cell_type": "code",
      "source": [
        "A @ B"
      ],
      "metadata": {
        "colab": {
          "base_uri": "https://localhost:8080/"
        },
        "id": "THYdZ9puIMvp",
        "outputId": "2ff4417f-fa31-475b-a0b6-956104d053b4"
      },
      "execution_count": null,
      "outputs": [
        {
          "output_type": "execute_result",
          "data": {
            "text/plain": [
              "array([[ 27508,  45418,  84338],\n",
              "       [ 27060,  84446, 122466],\n",
              "       [  9951,  20563,  31323]])"
            ]
          },
          "metadata": {},
          "execution_count": 48
        }
      ]
    },
    {
      "cell_type": "code",
      "source": [
        "B @ A"
      ],
      "metadata": {
        "colab": {
          "base_uri": "https://localhost:8080/"
        },
        "id": "9ukWIEZUIVQJ",
        "outputId": "3ae5865c-fb64-4f19-dfa6-8e9bf9e1a6d3"
      },
      "execution_count": null,
      "outputs": [
        {
          "output_type": "execute_result",
          "data": {
            "text/plain": [
              "array([[ 61722, 109698,  74747],\n",
              "       [ 16798,  36936,  37721],\n",
              "       [ 22598,  50550,  44619]])"
            ]
          },
          "metadata": {},
          "execution_count": 49
        }
      ]
    },
    {
      "cell_type": "code",
      "source": [
        "np.array_equiv(A @ B, B @ A)"
      ],
      "metadata": {
        "colab": {
          "base_uri": "https://localhost:8080/"
        },
        "id": "m4NH6ITnIfqw",
        "outputId": "b758ae96-c486-4c81-b182-0a4745008345"
      },
      "execution_count": null,
      "outputs": [
        {
          "output_type": "execute_result",
          "data": {
            "text/plain": [
              "False"
            ]
          },
          "metadata": {},
          "execution_count": 50
        }
      ]
    },
    {
      "cell_type": "code",
      "source": [
        "A @ (B@C)"
      ],
      "metadata": {
        "colab": {
          "base_uri": "https://localhost:8080/"
        },
        "id": "cUpb_ybEIrT3",
        "outputId": "725cf040-04fb-4c53-c067-bc74c9dc655c"
      },
      "execution_count": null,
      "outputs": [
        {
          "output_type": "execute_result",
          "data": {
            "text/plain": [
              "array([[43025284, 54563598, 15806948],\n",
              "       [72995412, 83539658, 25302556],\n",
              "       [18383337, 21848122,  6363128]])"
            ]
          },
          "metadata": {},
          "execution_count": 51
        }
      ]
    },
    {
      "cell_type": "code",
      "source": [
        "(A@B)@C"
      ],
      "metadata": {
        "colab": {
          "base_uri": "https://localhost:8080/"
        },
        "id": "6c1PKKh4I4bz",
        "outputId": "3de84891-7871-4126-99c8-95c41c17a749"
      },
      "execution_count": null,
      "outputs": [
        {
          "output_type": "execute_result",
          "data": {
            "text/plain": [
              "array([[43025284, 54563598, 15806948],\n",
              "       [72995412, 83539658, 25302556],\n",
              "       [18383337, 21848122,  6363128]])"
            ]
          },
          "metadata": {},
          "execution_count": 52
        }
      ]
    },
    {
      "cell_type": "code",
      "source": [
        "np.array_equiv(A@(B@C),(A@B)@C)"
      ],
      "metadata": {
        "colab": {
          "base_uri": "https://localhost:8080/"
        },
        "id": "BtpQyOR_JCXo",
        "outputId": "b38c08eb-ea4f-4de6-f14a-4f67e2c82ea8"
      },
      "execution_count": null,
      "outputs": [
        {
          "output_type": "execute_result",
          "data": {
            "text/plain": [
              "True"
            ]
          },
          "metadata": {},
          "execution_count": 53
        }
      ]
    },
    {
      "cell_type": "code",
      "source": [
        "A@(B+C)"
      ],
      "metadata": {
        "colab": {
          "base_uri": "https://localhost:8080/"
        },
        "id": "hVAB1M5HJKvt",
        "outputId": "3ed55f65-8c46-4018-a8dc-2083fec966ef"
      },
      "execution_count": null,
      "outputs": [
        {
          "output_type": "execute_result",
          "data": {
            "text/plain": [
              "array([[ 71888,  92856,  98862],\n",
              "       [ 89718, 147914, 138530],\n",
              "       [ 25455,  38131,  36391]])"
            ]
          },
          "metadata": {},
          "execution_count": 54
        }
      ]
    },
    {
      "cell_type": "code",
      "source": [
        "A@B + A@C"
      ],
      "metadata": {
        "colab": {
          "base_uri": "https://localhost:8080/"
        },
        "id": "Ul5p2ONNJS6n",
        "outputId": "b77827bb-0803-4a3d-a24c-ecd22fb32cf4"
      },
      "execution_count": null,
      "outputs": [
        {
          "output_type": "execute_result",
          "data": {
            "text/plain": [
              "array([[ 71888,  92856,  98862],\n",
              "       [ 89718, 147914, 138530],\n",
              "       [ 25455,  38131,  36391]])"
            ]
          },
          "metadata": {},
          "execution_count": 55
        }
      ]
    },
    {
      "cell_type": "code",
      "source": [
        "np.array_equiv(A@(B+C),A@B + A@C)"
      ],
      "metadata": {
        "colab": {
          "base_uri": "https://localhost:8080/"
        },
        "id": "N8to9OuRJcvB",
        "outputId": "4db295b3-a5ad-4dbd-d215-273044319cc8"
      },
      "execution_count": null,
      "outputs": [
        {
          "output_type": "execute_result",
          "data": {
            "text/plain": [
              "True"
            ]
          },
          "metadata": {},
          "execution_count": 56
        }
      ]
    },
    {
      "cell_type": "code",
      "source": [
        "(B+C)@A"
      ],
      "metadata": {
        "colab": {
          "base_uri": "https://localhost:8080/"
        },
        "id": "ZkpZ7QWsJr0i",
        "outputId": "caf499be-5cd7-4fb8-db30-e506100446d9"
      },
      "execution_count": null,
      "outputs": [
        {
          "output_type": "execute_result",
          "data": {
            "text/plain": [
              "array([[ 77772, 141366,  97759],\n",
              "       [ 46536, 110166, 103789],\n",
              "       [ 38730,  82170,  68255]])"
            ]
          },
          "metadata": {},
          "execution_count": 57
        }
      ]
    },
    {
      "cell_type": "code",
      "source": [
        "B@A + C@A"
      ],
      "metadata": {
        "colab": {
          "base_uri": "https://localhost:8080/"
        },
        "id": "GhxKxCyCJxia",
        "outputId": "54ef9fdd-f603-4283-840f-62c26737ded6"
      },
      "execution_count": null,
      "outputs": [
        {
          "output_type": "execute_result",
          "data": {
            "text/plain": [
              "array([[ 77772, 141366,  97759],\n",
              "       [ 46536, 110166, 103789],\n",
              "       [ 38730,  82170,  68255]])"
            ]
          },
          "metadata": {},
          "execution_count": 58
        }
      ]
    },
    {
      "cell_type": "code",
      "source": [
        "np.array_equiv((B+C)@A,B@A + C@A)"
      ],
      "metadata": {
        "colab": {
          "base_uri": "https://localhost:8080/"
        },
        "id": "mtc0jO0DJ7eX",
        "outputId": "e26363bd-54f7-4575-af7a-9e585019da0b"
      },
      "execution_count": null,
      "outputs": [
        {
          "output_type": "execute_result",
          "data": {
            "text/plain": [
              "True"
            ]
          },
          "metadata": {},
          "execution_count": 59
        }
      ]
    },
    {
      "cell_type": "code",
      "source": [
        "A@np.eye(3)"
      ],
      "metadata": {
        "colab": {
          "base_uri": "https://localhost:8080/"
        },
        "id": "WaYh0cLUKBKT",
        "outputId": "1551a412-97f8-46e4-a26b-dfb902a5e635"
      },
      "execution_count": null,
      "outputs": [
        {
          "output_type": "execute_result",
          "data": {
            "text/plain": [
              "array([[12., 54., 64.],\n",
              "       [46., 78., 46.],\n",
              "       [ 8., 18., 23.]])"
            ]
          },
          "metadata": {},
          "execution_count": 60
        }
      ]
    },
    {
      "cell_type": "code",
      "source": [
        "np.array_equiv(A, A@np.eye(3))"
      ],
      "metadata": {
        "colab": {
          "base_uri": "https://localhost:8080/"
        },
        "id": "0VRV0AZJKx-Q",
        "outputId": "5ecca391-d9c0-4234-e755-fcb1ac59144f"
      },
      "execution_count": null,
      "outputs": [
        {
          "output_type": "execute_result",
          "data": {
            "text/plain": [
              "True"
            ]
          },
          "metadata": {},
          "execution_count": 61
        }
      ]
    },
    {
      "cell_type": "code",
      "source": [
        "A@np.zeros((3,3))"
      ],
      "metadata": {
        "colab": {
          "base_uri": "https://localhost:8080/"
        },
        "id": "1foAU64DKpxl",
        "outputId": "951a1138-6d08-4181-c055-e6cbd87730b3"
      },
      "execution_count": null,
      "outputs": [
        {
          "output_type": "execute_result",
          "data": {
            "text/plain": [
              "array([[0., 0., 0.],\n",
              "       [0., 0., 0.],\n",
              "       [0., 0., 0.]])"
            ]
          },
          "metadata": {},
          "execution_count": 62
        }
      ]
    },
    {
      "cell_type": "code",
      "source": [
        "np.array_equiv(A@np.zeros((3,3)),np.zeros((3,3)))"
      ],
      "metadata": {
        "colab": {
          "base_uri": "https://localhost:8080/"
        },
        "id": "bi2Y7lkIH-eh",
        "outputId": "71d42ee5-233d-47d3-ef85-fb9bac011b68"
      },
      "execution_count": null,
      "outputs": [
        {
          "output_type": "execute_result",
          "data": {
            "text/plain": [
              "True"
            ]
          },
          "metadata": {},
          "execution_count": 63
        }
      ]
    },
    {
      "cell_type": "code",
      "source": [
        "A.dot(np.zeros(A.shape))"
      ],
      "metadata": {
        "colab": {
          "base_uri": "https://localhost:8080/"
        },
        "id": "epdqWPG0GeWU",
        "outputId": "77d866f1-332b-4447-e0d6-2b68790a54fa"
      },
      "execution_count": null,
      "outputs": [
        {
          "output_type": "execute_result",
          "data": {
            "text/plain": [
              "array([[0., 0., 0.],\n",
              "       [0., 0., 0.],\n",
              "       [0., 0., 0.]])"
            ]
          },
          "metadata": {},
          "execution_count": 64
        }
      ]
    },
    {
      "cell_type": "code",
      "source": [
        "z_mat = np.zeros(A.shape)\n",
        "z_mat"
      ],
      "metadata": {
        "colab": {
          "base_uri": "https://localhost:8080/"
        },
        "id": "tMaJWC65GhlK",
        "outputId": "6fcbfa73-3c3b-446e-c832-45b433db98ad"
      },
      "execution_count": null,
      "outputs": [
        {
          "output_type": "execute_result",
          "data": {
            "text/plain": [
              "array([[0., 0., 0.],\n",
              "       [0., 0., 0.],\n",
              "       [0., 0., 0.]])"
            ]
          },
          "metadata": {},
          "execution_count": 65
        }
      ]
    },
    {
      "cell_type": "code",
      "source": [
        "a_dot_z = A.dot(np.zeros(A.shape))\n",
        "a_dot_z"
      ],
      "metadata": {
        "colab": {
          "base_uri": "https://localhost:8080/"
        },
        "id": "zbnq-XiSGibS",
        "outputId": "81dcb3c3-b349-4a2b-b805-4377837cafd2"
      },
      "execution_count": null,
      "outputs": [
        {
          "output_type": "execute_result",
          "data": {
            "text/plain": [
              "array([[0., 0., 0.],\n",
              "       [0., 0., 0.],\n",
              "       [0., 0., 0.]])"
            ]
          },
          "metadata": {},
          "execution_count": 66
        }
      ]
    },
    {
      "cell_type": "code",
      "source": [
        "np.array_equal(a_dot_z,z_mat)"
      ],
      "metadata": {
        "colab": {
          "base_uri": "https://localhost:8080/"
        },
        "id": "A-fJB9LYGkZi",
        "outputId": "c39afe3d-8ccb-41fa-8ae8-d63a0a529040"
      },
      "execution_count": null,
      "outputs": [
        {
          "output_type": "execute_result",
          "data": {
            "text/plain": [
              "True"
            ]
          },
          "metadata": {},
          "execution_count": 67
        }
      ]
    },
    {
      "cell_type": "code",
      "source": [
        "null_mat = np.empty(A.shape, dtype=float)\n",
        "null = np.array(null_mat,dtype=float)\n",
        "print(null)\n",
        "np.allclose(a_dot_z,null)"
      ],
      "metadata": {
        "colab": {
          "base_uri": "https://localhost:8080/"
        },
        "id": "mcjmUPZVGmgD",
        "outputId": "5e01ec38-3652-4491-d674-1b93077d462f"
      },
      "execution_count": null,
      "outputs": [
        {
          "output_type": "stream",
          "name": "stdout",
          "text": [
            "[[0. 0. 0.]\n",
            " [0. 0. 0.]\n",
            " [0. 0. 0.]]\n"
          ]
        },
        {
          "output_type": "execute_result",
          "data": {
            "text/plain": [
              "True"
            ]
          },
          "metadata": {},
          "execution_count": 68
        }
      ]
    },
    {
      "cell_type": "markdown",
      "source": [
        "#**Conclusion**\n",
        "\n",
        "For your conclusion synthesize the concept and application of the laboratory. Briefly discuss what you have learned and achieved in this activity. Also answer the question: \"how can matrix operations solve problems in healthcare?\"."
      ],
      "metadata": {
        "id": "dap9Swi4xy56"
      }
    }
  ]
}