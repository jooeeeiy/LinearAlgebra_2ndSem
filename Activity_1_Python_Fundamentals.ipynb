{
  "nbformat": 4,
  "nbformat_minor": 0,
  "metadata": {
    "colab": {
      "name": "Activity 1- Python Fundamentals",
      "provenance": [],
      "collapsed_sections": [],
      "authorship_tag": "ABX9TyMEg/FBJc7Lw1dH9u5cgivH",
      "include_colab_link": true
    },
    "kernelspec": {
      "name": "python3",
      "display_name": "Python 3"
    },
    "language_info": {
      "name": "python"
    }
  },
  "cells": [
    {
      "cell_type": "markdown",
      "metadata": {
        "id": "view-in-github",
        "colab_type": "text"
      },
      "source": [
        "<a href=\"https://colab.research.google.com/github/jooeeeiy/LinearAlgebra_2ndSem/blob/main/Activity_1_Python_Fundamentals.ipynb\" target=\"_parent\"><img src=\"https://colab.research.google.com/assets/colab-badge.svg\" alt=\"Open In Colab\"/></a>"
      ]
    },
    {
      "cell_type": "markdown",
      "source": [
        "# Welcome to Python Fundamentals\n",
        "In this module, we are going to establish or review our skills in Python programming. In this notebook we are going to cover:\n",
        "* Variables and Data Types \n",
        "* Operations\n",
        "* Input and Output Operations\n",
        "* Logic Control\n",
        "* Iterables\n",
        "* Functions"
      ],
      "metadata": {
        "id": "eDODkXDEtDgF"
      }
    },
    {
      "cell_type": "markdown",
      "source": [
        "## Variable and Data Types"
      ],
      "metadata": {
        "id": "oPpXw36wtFQU"
      }
    },
    {
      "cell_type": "code",
      "source": [
        "j = 25\n",
        "v,b = 8, 27\n",
        "j"
      ],
      "metadata": {
        "colab": {
          "base_uri": "https://localhost:8080/"
        },
        "id": "-u1vJAOotQVa",
        "outputId": "97412690-a9ae-4e00-8384-43da2ab4ed02"
      },
      "execution_count": null,
      "outputs": [
        {
          "output_type": "execute_result",
          "data": {
            "text/plain": [
              "25"
            ]
          },
          "metadata": {},
          "execution_count": 13
        }
      ]
    },
    {
      "cell_type": "code",
      "source": [
        "lee= 30\n",
        "lee"
      ],
      "metadata": {
        "colab": {
          "base_uri": "https://localhost:8080/"
        },
        "id": "XcTN4SRCufYx",
        "outputId": "054c54f9-5b99-4f50-ac78-55e8383737cc"
      },
      "execution_count": null,
      "outputs": [
        {
          "output_type": "execute_result",
          "data": {
            "text/plain": [
              "30"
            ]
          },
          "metadata": {},
          "execution_count": 15
        }
      ]
    },
    {
      "cell_type": "code",
      "source": [
        "type(j)"
      ],
      "metadata": {
        "colab": {
          "base_uri": "https://localhost:8080/"
        },
        "id": "Y4KLnASZu8gx",
        "outputId": "a05f799e-6478-4c6c-ec5f-9991327a57c5"
      },
      "execution_count": null,
      "outputs": [
        {
          "output_type": "execute_result",
          "data": {
            "text/plain": [
              "int"
            ]
          },
          "metadata": {},
          "execution_count": 20
        }
      ]
    },
    {
      "cell_type": "code",
      "source": [
        "o=1.0\n",
        "type(o)"
      ],
      "metadata": {
        "colab": {
          "base_uri": "https://localhost:8080/"
        },
        "id": "dabC8Ra0vkAZ",
        "outputId": "00ac4e39-fae7-4fbd-abd4-d67edd131171"
      },
      "execution_count": null,
      "outputs": [
        {
          "output_type": "execute_result",
          "data": {
            "text/plain": [
              "float"
            ]
          },
          "metadata": {},
          "execution_count": 21
        }
      ]
    },
    {
      "cell_type": "code",
      "source": [
        "j= float(j)\n",
        "j"
      ],
      "metadata": {
        "colab": {
          "base_uri": "https://localhost:8080/"
        },
        "id": "e_jdPND1vsMw",
        "outputId": "46c8f192-6752-4e87-d109-78d1cef5ff05"
      },
      "execution_count": null,
      "outputs": [
        {
          "output_type": "execute_result",
          "data": {
            "text/plain": [
              "25.0"
            ]
          },
          "metadata": {},
          "execution_count": 22
        }
      ]
    },
    {
      "cell_type": "code",
      "source": [
        "z,e,l=\"0\",'1','one'\n",
        "type(l)"
      ],
      "metadata": {
        "colab": {
          "base_uri": "https://localhost:8080/"
        },
        "id": "94jvFvV-v42e",
        "outputId": "5aa2bcef-7853-4906-84d3-b4289be61b78"
      },
      "execution_count": null,
      "outputs": [
        {
          "output_type": "execute_result",
          "data": {
            "text/plain": [
              "str"
            ]
          },
          "metadata": {},
          "execution_count": 24
        }
      ]
    },
    {
      "cell_type": "code",
      "source": [
        "z_int=int(z)\n",
        "type(z)"
      ],
      "metadata": {
        "colab": {
          "base_uri": "https://localhost:8080/"
        },
        "id": "26WH0VKrxRnB",
        "outputId": "0375fcaf-aa87-4ce5-a888-6b4e7204beb8"
      },
      "execution_count": null,
      "outputs": [
        {
          "output_type": "execute_result",
          "data": {
            "text/plain": [
              "str"
            ]
          },
          "metadata": {},
          "execution_count": 29
        }
      ]
    },
    {
      "cell_type": "markdown",
      "source": [
        "## Operations"
      ],
      "metadata": {
        "id": "hr08w9j4x5-L"
      }
    },
    {
      "cell_type": "markdown",
      "source": [
        "### Arithmetic"
      ],
      "metadata": {
        "id": "Rv0umUFhyIzJ"
      }
    },
    {
      "cell_type": "code",
      "source": [
        "y,u,a,n = 2.0, -0.5, 0, -32"
      ],
      "metadata": {
        "id": "wCZB3_Q7yODq"
      },
      "execution_count": null,
      "outputs": []
    },
    {
      "cell_type": "code",
      "source": [
        "# Addition\n",
        "S = y+u\n",
        "S"
      ],
      "metadata": {
        "colab": {
          "base_uri": "https://localhost:8080/"
        },
        "id": "N0Acs6Seyclw",
        "outputId": "a4460599-ddeb-440d-bb5e-6f6569d01bea"
      },
      "execution_count": null,
      "outputs": [
        {
          "output_type": "execute_result",
          "data": {
            "text/plain": [
              "1.5"
            ]
          },
          "metadata": {},
          "execution_count": 47
        }
      ]
    },
    {
      "cell_type": "code",
      "source": [
        "# Subtraction\n",
        "D= u-a\n",
        "D"
      ],
      "metadata": {
        "colab": {
          "base_uri": "https://localhost:8080/"
        },
        "id": "TUsn-pQsy8Tk",
        "outputId": "6e684ed6-3ae8-4785-ca82-794f5dfe5c71"
      },
      "execution_count": null,
      "outputs": [
        {
          "output_type": "execute_result",
          "data": {
            "text/plain": [
              "-0.5"
            ]
          },
          "metadata": {},
          "execution_count": 48
        }
      ]
    },
    {
      "cell_type": "code",
      "source": [
        "# Multiplication\n",
        "P= a*n\n",
        "P"
      ],
      "metadata": {
        "colab": {
          "base_uri": "https://localhost:8080/"
        },
        "id": "CJuc3JErz7AD",
        "outputId": "57e9734a-deb1-45d2-fa9c-fd4347e508f2"
      },
      "execution_count": null,
      "outputs": [
        {
          "output_type": "execute_result",
          "data": {
            "text/plain": [
              "0"
            ]
          },
          "metadata": {},
          "execution_count": 49
        }
      ]
    },
    {
      "cell_type": "code",
      "source": [
        "# Division\n",
        "D= y/n \n",
        "D"
      ],
      "metadata": {
        "colab": {
          "base_uri": "https://localhost:8080/"
        },
        "id": "c3Zbu8eg0ErT",
        "outputId": "ade7c7ac-38a9-439d-ede4-dab223bbf412"
      },
      "execution_count": null,
      "outputs": [
        {
          "output_type": "execute_result",
          "data": {
            "text/plain": [
              "-0.0625"
            ]
          },
          "metadata": {},
          "execution_count": 58
        }
      ]
    },
    {
      "cell_type": "code",
      "source": [
        "# Floor Division\n",
        "Fq= y//n\n",
        "Fq"
      ],
      "metadata": {
        "colab": {
          "base_uri": "https://localhost:8080/"
        },
        "id": "xUB5KvQb0HYT",
        "outputId": "5b651cf7-027a-40cb-ea3d-a59d339021a7"
      },
      "execution_count": null,
      "outputs": [
        {
          "output_type": "execute_result",
          "data": {
            "text/plain": [
              "-1.0"
            ]
          },
          "metadata": {},
          "execution_count": 63
        }
      ]
    },
    {
      "cell_type": "code",
      "source": [
        "# Exponentiation\n",
        "E= y**u\n",
        "E"
      ],
      "metadata": {
        "colab": {
          "base_uri": "https://localhost:8080/"
        },
        "id": "0K1mkVJb0jHj",
        "outputId": "c3e166b5-93a3-451b-ce73-21f390af2e19"
      },
      "execution_count": null,
      "outputs": [
        {
          "output_type": "execute_result",
          "data": {
            "text/plain": [
              "0.7071067811865476"
            ]
          },
          "metadata": {},
          "execution_count": 59
        }
      ]
    },
    {
      "cell_type": "code",
      "source": [
        "# Modulo\n",
        "mod= y%n\n",
        "mod"
      ],
      "metadata": {
        "colab": {
          "base_uri": "https://localhost:8080/"
        },
        "id": "xltbDIGT0-t5",
        "outputId": "33840a72-1d26-45d0-cd80-a50921c4a12d"
      },
      "execution_count": null,
      "outputs": [
        {
          "output_type": "execute_result",
          "data": {
            "text/plain": [
              "-30.0"
            ]
          },
          "metadata": {},
          "execution_count": 61
        }
      ]
    },
    {
      "cell_type": "markdown",
      "source": [
        "### Assignment Operations"
      ],
      "metadata": {
        "id": "mkVbTW9M139R"
      }
    },
    {
      "cell_type": "code",
      "source": [
        "G,H,J,K= 0, 100, 2,3"
      ],
      "metadata": {
        "id": "lqPyNqOA18C1"
      },
      "execution_count": null,
      "outputs": []
    },
    {
      "cell_type": "code",
      "source": [
        "G+= y\n",
        "G"
      ],
      "metadata": {
        "colab": {
          "base_uri": "https://localhost:8080/"
        },
        "id": "QJRvwNAq2BWU",
        "outputId": "b1bad3f8-d4b1-4f9f-8f46-9dcffbae29fe"
      },
      "execution_count": null,
      "outputs": [
        {
          "output_type": "execute_result",
          "data": {
            "text/plain": [
              "2.0"
            ]
          },
          "metadata": {},
          "execution_count": 55
        }
      ]
    },
    {
      "cell_type": "code",
      "source": [
        "H-= n\n",
        "H"
      ],
      "metadata": {
        "colab": {
          "base_uri": "https://localhost:8080/"
        },
        "id": "GE_-qCfH2c3T",
        "outputId": "d7e1edc6-de38-4102-8546-12d4e65fcf03"
      },
      "execution_count": null,
      "outputs": [
        {
          "output_type": "execute_result",
          "data": {
            "text/plain": [
              "164"
            ]
          },
          "metadata": {},
          "execution_count": 64
        }
      ]
    },
    {
      "cell_type": "code",
      "source": [
        "J *=1\n",
        "J"
      ],
      "metadata": {
        "colab": {
          "base_uri": "https://localhost:8080/"
        },
        "id": "y8MT3TTT2uJU",
        "outputId": "2e6245bc-18ab-4772-8bac-524b445d96f4"
      },
      "execution_count": null,
      "outputs": [
        {
          "output_type": "execute_result",
          "data": {
            "text/plain": [
              "0"
            ]
          },
          "metadata": {},
          "execution_count": 72
        }
      ]
    },
    {
      "cell_type": "code",
      "source": [
        "K**= 2\n",
        "K"
      ],
      "metadata": {
        "colab": {
          "base_uri": "https://localhost:8080/"
        },
        "id": "pYJ_w7zF2_k6",
        "outputId": "898457a2-53ed-4fe4-af70-d2288f778b1f"
      },
      "execution_count": null,
      "outputs": [
        {
          "output_type": "execute_result",
          "data": {
            "text/plain": [
              "9"
            ]
          },
          "metadata": {},
          "execution_count": 75
        }
      ]
    },
    {
      "cell_type": "markdown",
      "source": [
        "### Comparators"
      ],
      "metadata": {
        "id": "IbmYFMUf3cbU"
      }
    },
    {
      "cell_type": "code",
      "source": [
        "res_1, res_2, res_3 = 1, 2.0, \"1\"\n",
        "true_val= 1.0"
      ],
      "metadata": {
        "id": "QuhXoJOd3gTB"
      },
      "execution_count": null,
      "outputs": []
    },
    {
      "cell_type": "code",
      "source": [
        "## Equality\n",
        "res_1 == true_val"
      ],
      "metadata": {
        "colab": {
          "base_uri": "https://localhost:8080/"
        },
        "id": "2bHVdGwL3z-e",
        "outputId": "32df198f-cd8b-401c-82f6-1f5e56ef105c"
      },
      "execution_count": null,
      "outputs": [
        {
          "output_type": "execute_result",
          "data": {
            "text/plain": [
              "True"
            ]
          },
          "metadata": {},
          "execution_count": 79
        }
      ]
    },
    {
      "cell_type": "code",
      "source": [
        "## Equality\n",
        "res_2 == true_val"
      ],
      "metadata": {
        "colab": {
          "base_uri": "https://localhost:8080/"
        },
        "id": "ugYXCSNu37O5",
        "outputId": "f39bf4c9-2951-4c0e-c812-10e2e5078e80"
      },
      "execution_count": null,
      "outputs": [
        {
          "output_type": "execute_result",
          "data": {
            "text/plain": [
              "False"
            ]
          },
          "metadata": {},
          "execution_count": 80
        }
      ]
    },
    {
      "cell_type": "code",
      "source": [
        "## Not Equality\n",
        "res_2 != true_val"
      ],
      "metadata": {
        "colab": {
          "base_uri": "https://localhost:8080/"
        },
        "id": "rf8jEFLM387b",
        "outputId": "9438f9da-8e4b-47fa-c3b3-304b558ac5e8"
      },
      "execution_count": null,
      "outputs": [
        {
          "output_type": "execute_result",
          "data": {
            "text/plain": [
              "True"
            ]
          },
          "metadata": {},
          "execution_count": 82
        }
      ]
    },
    {
      "cell_type": "code",
      "source": [
        "## Not Equality\n",
        "res_ != true_val"
      ],
      "metadata": {
        "colab": {
          "base_uri": "https://localhost:8080/"
        },
        "id": "RS3sElmT4G2f",
        "outputId": "61180044-51c9-498c-e03b-b3bb0867b85b"
      },
      "execution_count": null,
      "outputs": [
        {
          "output_type": "execute_result",
          "data": {
            "text/plain": [
              "True"
            ]
          },
          "metadata": {},
          "execution_count": 85
        }
      ]
    },
    {
      "cell_type": "code",
      "source": [
        "## Inequality\n",
        "t1 = res_1 > res_2\n",
        "t2 = res_1 < res_2/2\n",
        "t3 = res_1 >= res_2/2\n",
        "t4 = res_1 <= res_2\n",
        "t4"
      ],
      "metadata": {
        "colab": {
          "base_uri": "https://localhost:8080/"
        },
        "id": "Id6sC8984lhd",
        "outputId": "ed9f119a-f6e9-4a96-9274-b6efca41ac34"
      },
      "execution_count": null,
      "outputs": [
        {
          "output_type": "execute_result",
          "data": {
            "text/plain": [
              "True"
            ]
          },
          "metadata": {},
          "execution_count": 90
        }
      ]
    },
    {
      "cell_type": "markdown",
      "source": [
        "### Logical"
      ],
      "metadata": {
        "id": "iRijCFzm5Mnk"
      }
    },
    {
      "cell_type": "code",
      "source": [
        "res_1 == true_val"
      ],
      "metadata": {
        "colab": {
          "base_uri": "https://localhost:8080/"
        },
        "id": "R8bfr3W25aI5",
        "outputId": "1f16d92c-a2c0-4cce-f496-21cba6ff45b4"
      },
      "execution_count": null,
      "outputs": [
        {
          "output_type": "execute_result",
          "data": {
            "text/plain": [
              "True"
            ]
          },
          "metadata": {},
          "execution_count": 92
        }
      ]
    },
    {
      "cell_type": "code",
      "source": [
        "res_1 is true_val"
      ],
      "metadata": {
        "colab": {
          "base_uri": "https://localhost:8080/"
        },
        "id": "RE50rkSS5d4l",
        "outputId": "d8cd8960-5557-4515-d3bb-bc9260077012"
      },
      "execution_count": null,
      "outputs": [
        {
          "output_type": "execute_result",
          "data": {
            "text/plain": [
              "False"
            ]
          },
          "metadata": {},
          "execution_count": 94
        }
      ]
    },
    {
      "cell_type": "code",
      "source": [
        "res_1 is not true_val"
      ],
      "metadata": {
        "colab": {
          "base_uri": "https://localhost:8080/"
        },
        "id": "MleoTD9m5nhz",
        "outputId": "910859ae-3b46-4442-e007-692a2c07cd43"
      },
      "execution_count": null,
      "outputs": [
        {
          "output_type": "execute_result",
          "data": {
            "text/plain": [
              "True"
            ]
          },
          "metadata": {},
          "execution_count": 95
        }
      ]
    },
    {
      "cell_type": "code",
      "source": [
        "p, q= True, False\n",
        "conj= p and q\n",
        "conj"
      ],
      "metadata": {
        "colab": {
          "base_uri": "https://localhost:8080/"
        },
        "id": "vFS9tvYq5rNk",
        "outputId": "3e4cafd2-effb-40f5-d219-8731761d874f"
      },
      "execution_count": null,
      "outputs": [
        {
          "output_type": "execute_result",
          "data": {
            "text/plain": [
              "False"
            ]
          },
          "metadata": {},
          "execution_count": 97
        }
      ]
    },
    {
      "cell_type": "code",
      "source": [
        "p, q= True, True\n",
        "conj= p and q\n",
        "conj"
      ],
      "metadata": {
        "colab": {
          "base_uri": "https://localhost:8080/"
        },
        "id": "QLSeseA37PgP",
        "outputId": "78deaef1-e85c-4e96-dfe5-dd70e354da4f"
      },
      "execution_count": null,
      "outputs": [
        {
          "output_type": "execute_result",
          "data": {
            "text/plain": [
              "True"
            ]
          },
          "metadata": {},
          "execution_count": 99
        }
      ]
    },
    {
      "cell_type": "code",
      "source": [
        "p, q= True, False\n",
        "disj= p or q\n",
        "disj"
      ],
      "metadata": {
        "colab": {
          "base_uri": "https://localhost:8080/"
        },
        "id": "ueYJkjIA6yqt",
        "outputId": "343bc4f7-e6ce-4e13-c9c8-03baca024af9"
      },
      "execution_count": null,
      "outputs": [
        {
          "output_type": "execute_result",
          "data": {
            "text/plain": [
              "True"
            ]
          },
          "metadata": {},
          "execution_count": 101
        }
      ]
    },
    {
      "cell_type": "code",
      "source": [
        "p, q= False, False\n",
        "disj= p or q\n",
        "disj"
      ],
      "metadata": {
        "colab": {
          "base_uri": "https://localhost:8080/"
        },
        "id": "9-GdHszn7STO",
        "outputId": "7b55fde8-5d07-4219-aa77-834c4763af48"
      },
      "execution_count": null,
      "outputs": [
        {
          "output_type": "execute_result",
          "data": {
            "text/plain": [
              "False"
            ]
          },
          "metadata": {},
          "execution_count": 100
        }
      ]
    },
    {
      "cell_type": "code",
      "source": [
        "p, q= True, False\n",
        "hello= not(p and q)\n",
        "hello"
      ],
      "metadata": {
        "colab": {
          "base_uri": "https://localhost:8080/"
        },
        "id": "tMDMWwoK7HRU",
        "outputId": "c0206891-a35e-494d-c2c5-59f3d5fdb2ff"
      },
      "execution_count": null,
      "outputs": [
        {
          "output_type": "execute_result",
          "data": {
            "text/plain": [
              "True"
            ]
          },
          "metadata": {},
          "execution_count": 103
        }
      ]
    },
    {
      "cell_type": "code",
      "source": [
        "p, q= True, False\n",
        "xori= not(p and q) or not(p and not q)\n",
        "xori"
      ],
      "metadata": {
        "colab": {
          "base_uri": "https://localhost:8080/"
        },
        "id": "tjuewbX07lVO",
        "outputId": "b4d35bd0-14a9-4f41-cb2e-38efc0ad0705"
      },
      "execution_count": null,
      "outputs": [
        {
          "output_type": "execute_result",
          "data": {
            "text/plain": [
              "True"
            ]
          },
          "metadata": {},
          "execution_count": 104
        }
      ]
    },
    {
      "cell_type": "markdown",
      "source": [
        "### I/O"
      ],
      "metadata": {
        "id": "mXvjqAA48BOZ"
      }
    },
    {
      "cell_type": "code",
      "source": [
        "print(\"pagod na me\")"
      ],
      "metadata": {
        "colab": {
          "base_uri": "https://localhost:8080/"
        },
        "id": "suadE5938Eq2",
        "outputId": "b7515944-0474-4192-8e6c-84896b815719"
      },
      "execution_count": null,
      "outputs": [
        {
          "output_type": "stream",
          "name": "stdout",
          "text": [
            "pagod na me\n"
          ]
        }
      ]
    },
    {
      "cell_type": "code",
      "source": [
        "cnt = 1"
      ],
      "metadata": {
        "id": "Nn_qRY0B8TFd"
      },
      "execution_count": null,
      "outputs": []
    },
    {
      "cell_type": "code",
      "source": [
        "## Format 1\n",
        "string= \"pagod na me\"\n",
        "print (string,\", magbilang ka:\", cnt)\n",
        "cnt+= 1"
      ],
      "metadata": {
        "colab": {
          "base_uri": "https://localhost:8080/"
        },
        "id": "GZKUwmay8TOp",
        "outputId": "701a0848-0b28-4542-9de1-958be041c707"
      },
      "execution_count": null,
      "outputs": [
        {
          "output_type": "stream",
          "name": "stdout",
          "text": [
            "pagod na me , magbilang ka: 10\n"
          ]
        }
      ]
    },
    {
      "cell_type": "code",
      "source": [
        "## Format 2\n",
        "print(f\"{string}, magbilang ka ulit: {cnt}\")"
      ],
      "metadata": {
        "colab": {
          "base_uri": "https://localhost:8080/"
        },
        "id": "EpN3lzgl8sdJ",
        "outputId": "f9c925cf-5d12-4708-8fa4-440cf2e98ace"
      },
      "execution_count": null,
      "outputs": [
        {
          "output_type": "stream",
          "name": "stdout",
          "text": [
            "pagod na me, magbilang ka ulit: 11\n"
          ]
        }
      ]
    },
    {
      "cell_type": "code",
      "source": [
        "## Format 3\n",
        "sem_grade= 12.3456789\n",
        "name= \"joey anne\"\n",
        "print(\"oyyy pare {}, 'wag ka mashock ha, your semestral grade is: {}\".format(name, sem_grade))"
      ],
      "metadata": {
        "colab": {
          "base_uri": "https://localhost:8080/"
        },
        "id": "BWPBHRgg9Tqz",
        "outputId": "40c0b4cb-b90e-40ed-ba4f-3016e8e634db"
      },
      "execution_count": null,
      "outputs": [
        {
          "output_type": "stream",
          "name": "stdout",
          "text": [
            "oyyy pare joey anne, 'wag ka mashock ha, your semestral grade is: 12.3456789\n"
          ]
        }
      ]
    },
    {
      "cell_type": "code",
      "source": [
        "w_pg, w_mg, w_fg= 0.3, 0.3, 0.4\n",
        "print(\"The weight of your semestral grades are:\\\n",
        "      \\n\\t{: .2%} for Prelims\\\n",
        "      \\n\\t{: .2%} for Midterms, and\\\n",
        "      \\n\\t{: .2%} for Finals.\" .format(w_pg, w_mg, w_fg))"
      ],
      "metadata": {
        "id": "LO0VP1t2-WRD",
        "colab": {
          "base_uri": "https://localhost:8080/"
        },
        "outputId": "78a3e69e-3276-4f24-ab1e-331dd490cf10"
      },
      "execution_count": 2,
      "outputs": [
        {
          "output_type": "stream",
          "name": "stdout",
          "text": [
            "The weight of your semestral grades are:      \n",
            "\t 30.00% for Prelims      \n",
            "\t 30.00% for Midterms, and      \n",
            "\t 40.00% for Finals.\n"
          ]
        }
      ]
    },
    {
      "cell_type": "code",
      "source": [
        "x= input(\"lagay ka po ng number heree:\")\n",
        "x"
      ],
      "metadata": {
        "colab": {
          "base_uri": "https://localhost:8080/",
          "height": 53
        },
        "id": "_8HnT1R8ucR7",
        "outputId": "8fd46724-f3fb-4a4f-f734-ea3f46ef4e64"
      },
      "execution_count": 3,
      "outputs": [
        {
          "name": "stdout",
          "output_type": "stream",
          "text": [
            "lagay ka po ng number heree:1\n"
          ]
        },
        {
          "output_type": "execute_result",
          "data": {
            "application/vnd.google.colaboratory.intrinsic+json": {
              "type": "string"
            },
            "text/plain": [
              "'1'"
            ]
          },
          "metadata": {},
          "execution_count": 3
        }
      ]
    },
    {
      "cell_type": "code",
      "source": [
        "name= input(\"Annyeong:\")\n",
        "pg=input(\"Lagay mo prelim grade:\")\n",
        "mg=input(\"Lagay mo midterm grade:\")\n",
        "fg=input(\"Lagay mo prelim grade:\")\n",
        "sem_grade= None\n",
        "print(\"belooo {}, ur sem grade izzzzzzz, *drums*: {}\".format(name, sem_grade))"
      ],
      "metadata": {
        "colab": {
          "base_uri": "https://localhost:8080/"
        },
        "id": "01ScIOw5uyCN",
        "outputId": "1a6372a4-d986-4d9f-8326-c5d19bd7cd62"
      },
      "execution_count": 6,
      "outputs": [
        {
          "output_type": "stream",
          "name": "stdout",
          "text": [
            "Annyeong:joey\n",
            "Lagay mo prelim grade:99\n",
            "Lagay mo midterm grade:100\n",
            "Lagay mo prelim grade:88\n",
            "belooo joey, ur sem grade izzzzzzz, *drums*: None\n"
          ]
        }
      ]
    },
    {
      "cell_type": "markdown",
      "source": [
        "# Looping Statements"
      ],
      "metadata": {
        "id": "kZfbo1Twv8uH"
      }
    },
    {
      "cell_type": "markdown",
      "source": [
        "## While"
      ],
      "metadata": {
        "id": "c5AbUlW3wBe2"
      }
    },
    {
      "cell_type": "code",
      "source": [
        "## while loop\n",
        "jong,suk= 0,10\n",
        "while(jong<=suk):\n",
        "    print(f\"{jong}\\t|\\t{suk}\")\n",
        "    jong+=1"
      ],
      "metadata": {
        "colab": {
          "base_uri": "https://localhost:8080/"
        },
        "id": "w49ufjXZwII0",
        "outputId": "a8c0e8af-3ec7-4ef0-c7d7-2320602aee75"
      },
      "execution_count": 12,
      "outputs": [
        {
          "output_type": "stream",
          "name": "stdout",
          "text": [
            "0\t|\t10\n",
            "1\t|\t10\n",
            "2\t|\t10\n",
            "3\t|\t10\n",
            "4\t|\t10\n",
            "5\t|\t10\n",
            "6\t|\t10\n",
            "7\t|\t10\n",
            "8\t|\t10\n",
            "9\t|\t10\n",
            "10\t|\t10\n"
          ]
        }
      ]
    },
    {
      "cell_type": "code",
      "source": [
        "# for (int i=0; i<10; i++){\n",
        "#printf(i)\n",
        "# }\n",
        "\n",
        "jungkook=0\n",
        "for jungkook in range(10):\n",
        "  print(jungkook)"
      ],
      "metadata": {
        "colab": {
          "base_uri": "https://localhost:8080/"
        },
        "id": "hMsjUoowwg5R",
        "outputId": "2b8b0d79-b2ca-4ef9-9397-6e20786c0e58"
      },
      "execution_count": 14,
      "outputs": [
        {
          "output_type": "stream",
          "name": "stdout",
          "text": [
            "0\n",
            "1\n",
            "2\n",
            "3\n",
            "4\n",
            "5\n",
            "6\n",
            "7\n",
            "8\n",
            "9\n"
          ]
        }
      ]
    },
    {
      "cell_type": "code",
      "source": [
        "playlist=[\"Magic Shop\",\"Araw-araw\",\"13\"]\n",
        "print('chilling: \\n')\n",
        "for song in playlist:\n",
        "    print (song)"
      ],
      "metadata": {
        "colab": {
          "base_uri": "https://localhost:8080/"
        },
        "id": "3iBfrSpOyG36",
        "outputId": "ba6108fa-18fa-4967-b1d3-0366c2a133d5"
      },
      "execution_count": 17,
      "outputs": [
        {
          "output_type": "stream",
          "name": "stdout",
          "text": [
            "chilling: \n",
            "\n",
            "Magic Shop\n",
            "Araw-araw\n",
            "13\n"
          ]
        }
      ]
    },
    {
      "cell_type": "markdown",
      "source": [
        "## Flow Control"
      ],
      "metadata": {
        "id": "QIoiL3i6y0_9"
      }
    },
    {
      "cell_type": "markdown",
      "source": [
        "###Condition Statements"
      ],
      "metadata": {
        "id": "GvchwSC8y3Bs"
      }
    },
    {
      "cell_type": "code",
      "source": [
        "one, two= 25, 30\n",
        "if(one == two):\n",
        "  print('congarts')\n",
        "elif(one>two):\n",
        "  print('okay')\n",
        "else:\n",
        "  print('sige')"
      ],
      "metadata": {
        "colab": {
          "base_uri": "https://localhost:8080/"
        },
        "id": "K1ilPqr3y9xv",
        "outputId": "1f5ff2b1-fd11-4f3c-8318-1288c9259fd9"
      },
      "execution_count": 20,
      "outputs": [
        {
          "output_type": "stream",
          "name": "stdout",
          "text": [
            "sige\n"
          ]
        }
      ]
    },
    {
      "cell_type": "markdown",
      "source": [
        "## Function"
      ],
      "metadata": {
        "id": "BPKdnQL21h4g"
      }
    },
    {
      "cell_type": "code",
      "source": [
        "# void deleteuser(int user id)\n",
        "\n",
        "def delete_user(userid):\n",
        "    print(\"Yehey deleted naaa <3: {}\".format(userid))\n",
        "\n",
        "def delete_all_user ():\n",
        "    print(\"all deleted na po ^_^\")"
      ],
      "metadata": {
        "id": "Qlfy1NDb1kC0"
      },
      "execution_count": 27,
      "outputs": []
    },
    {
      "cell_type": "code",
      "source": [
        "userid=\"park jimin\"\n",
        "delete_user(\"park jimin\")\n",
        "delete_all_user()"
      ],
      "metadata": {
        "colab": {
          "base_uri": "https://localhost:8080/"
        },
        "id": "Jxgpu-V-18eP",
        "outputId": "2a8098ae-6084-476a-d343-4ae22feb51ed"
      },
      "execution_count": 28,
      "outputs": [
        {
          "output_type": "stream",
          "name": "stdout",
          "text": [
            "Yehey deleted naaa <3: park jimin\n",
            "all deleted na po ^_^\n"
          ]
        }
      ]
    },
    {
      "cell_type": "code",
      "source": [
        "def add(addend1, addend2):\n",
        "  return addend1 + addend2\n",
        "\n",
        "def power_of_base2(exponent):\n",
        "    return 2**exponent"
      ],
      "metadata": {
        "id": "yQk7LqvI3kBJ"
      },
      "execution_count": 43,
      "outputs": []
    },
    {
      "cell_type": "code",
      "source": [
        "#addend1, addend2= 3,11\n",
        "#add(addend1, addend2)\n",
        "\n",
        "exponent = 5\n",
        "power_of_base2(exponent)"
      ],
      "metadata": {
        "colab": {
          "base_uri": "https://localhost:8080/"
        },
        "id": "iEsQXAw73z6K",
        "outputId": "f4223104-1a05-4050-e493-4eda20b900eb"
      },
      "execution_count": 44,
      "outputs": [
        {
          "output_type": "execute_result",
          "data": {
            "text/plain": [
              "32"
            ]
          },
          "metadata": {},
          "execution_count": 44
        }
      ]
    },
    {
      "cell_type": "markdown",
      "source": [
        "### Lambda Function"
      ],
      "metadata": {
        "id": "J-nnTPZ23gOX"
      }
    }
  ]
}